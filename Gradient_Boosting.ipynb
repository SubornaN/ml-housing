{
 "cells": [
  {
   "cell_type": "markdown",
   "metadata": {},
   "source": [
    "# Gradient Boosting (Regression)"
   ]
  },
  {
   "cell_type": "code",
   "execution_count": 1,
   "metadata": {},
   "outputs": [],
   "source": [
    "import numpy as np\n",
    "import pandas as pd\n",
    "import sklearn.ensemble\n",
    "%matplotlib inline\n",
    "import matplotlib.pyplot as plt\n",
    "plt.style.use('ggplot')"
   ]
  },
  {
   "cell_type": "code",
   "execution_count": 2,
   "metadata": {},
   "outputs": [],
   "source": [
    "from sklearn.ensemble import GradientBoostingRegressor\n",
    "from sklearn.model_selection import train_test_split\n",
    "from sklearn.model_selection import GridSearchCV"
   ]
  },
  {
   "cell_type": "code",
   "execution_count": 26,
   "metadata": {},
   "outputs": [
    {
     "data": {
      "text/html": [
       "<div>\n",
       "<style scoped>\n",
       "    .dataframe tbody tr th:only-of-type {\n",
       "        vertical-align: middle;\n",
       "    }\n",
       "\n",
       "    .dataframe tbody tr th {\n",
       "        vertical-align: top;\n",
       "    }\n",
       "\n",
       "    .dataframe thead th {\n",
       "        text-align: right;\n",
       "    }\n",
       "</style>\n",
       "<table border=\"1\" class=\"dataframe\">\n",
       "  <thead>\n",
       "    <tr style=\"text-align: right;\">\n",
       "      <th></th>\n",
       "      <th>MSZoning</th>\n",
       "      <th>LotArea</th>\n",
       "      <th>LotShape</th>\n",
       "      <th>LotConfig</th>\n",
       "      <th>Neighborhood</th>\n",
       "      <th>Condition1</th>\n",
       "      <th>BldgType</th>\n",
       "      <th>OverallQual</th>\n",
       "      <th>OverallCond</th>\n",
       "      <th>YearBuilt</th>\n",
       "      <th>...</th>\n",
       "      <th>GarageCars</th>\n",
       "      <th>WoodDeckSF</th>\n",
       "      <th>OpenPorchSF</th>\n",
       "      <th>EnclosedPorch</th>\n",
       "      <th>3SsnPorch</th>\n",
       "      <th>ScreenPorch</th>\n",
       "      <th>MiscVal</th>\n",
       "      <th>SaleType</th>\n",
       "      <th>SaleCondition</th>\n",
       "      <th>LogSalePrice</th>\n",
       "    </tr>\n",
       "  </thead>\n",
       "  <tbody>\n",
       "    <tr>\n",
       "      <th>0</th>\n",
       "      <td>2</td>\n",
       "      <td>8450</td>\n",
       "      <td>3</td>\n",
       "      <td>4</td>\n",
       "      <td>5</td>\n",
       "      <td>0</td>\n",
       "      <td>0</td>\n",
       "      <td>7</td>\n",
       "      <td>5</td>\n",
       "      <td>104</td>\n",
       "      <td>...</td>\n",
       "      <td>2</td>\n",
       "      <td>0</td>\n",
       "      <td>61</td>\n",
       "      <td>0</td>\n",
       "      <td>0</td>\n",
       "      <td>0</td>\n",
       "      <td>0</td>\n",
       "      <td>8</td>\n",
       "      <td>0</td>\n",
       "      <td>12.247694</td>\n",
       "    </tr>\n",
       "    <tr>\n",
       "      <th>1</th>\n",
       "      <td>2</td>\n",
       "      <td>9600</td>\n",
       "      <td>3</td>\n",
       "      <td>2</td>\n",
       "      <td>24</td>\n",
       "      <td>1</td>\n",
       "      <td>0</td>\n",
       "      <td>6</td>\n",
       "      <td>6</td>\n",
       "      <td>77</td>\n",
       "      <td>...</td>\n",
       "      <td>2</td>\n",
       "      <td>298</td>\n",
       "      <td>0</td>\n",
       "      <td>0</td>\n",
       "      <td>0</td>\n",
       "      <td>0</td>\n",
       "      <td>0</td>\n",
       "      <td>8</td>\n",
       "      <td>0</td>\n",
       "      <td>12.109011</td>\n",
       "    </tr>\n",
       "    <tr>\n",
       "      <th>2</th>\n",
       "      <td>2</td>\n",
       "      <td>11250</td>\n",
       "      <td>0</td>\n",
       "      <td>4</td>\n",
       "      <td>5</td>\n",
       "      <td>0</td>\n",
       "      <td>0</td>\n",
       "      <td>7</td>\n",
       "      <td>5</td>\n",
       "      <td>102</td>\n",
       "      <td>...</td>\n",
       "      <td>2</td>\n",
       "      <td>0</td>\n",
       "      <td>42</td>\n",
       "      <td>0</td>\n",
       "      <td>0</td>\n",
       "      <td>0</td>\n",
       "      <td>0</td>\n",
       "      <td>8</td>\n",
       "      <td>0</td>\n",
       "      <td>12.317167</td>\n",
       "    </tr>\n",
       "    <tr>\n",
       "      <th>3</th>\n",
       "      <td>2</td>\n",
       "      <td>9550</td>\n",
       "      <td>0</td>\n",
       "      <td>0</td>\n",
       "      <td>6</td>\n",
       "      <td>0</td>\n",
       "      <td>0</td>\n",
       "      <td>7</td>\n",
       "      <td>5</td>\n",
       "      <td>19</td>\n",
       "      <td>...</td>\n",
       "      <td>3</td>\n",
       "      <td>0</td>\n",
       "      <td>35</td>\n",
       "      <td>272</td>\n",
       "      <td>0</td>\n",
       "      <td>0</td>\n",
       "      <td>0</td>\n",
       "      <td>8</td>\n",
       "      <td>1</td>\n",
       "      <td>11.849398</td>\n",
       "    </tr>\n",
       "    <tr>\n",
       "      <th>4</th>\n",
       "      <td>2</td>\n",
       "      <td>14260</td>\n",
       "      <td>0</td>\n",
       "      <td>2</td>\n",
       "      <td>15</td>\n",
       "      <td>0</td>\n",
       "      <td>0</td>\n",
       "      <td>8</td>\n",
       "      <td>5</td>\n",
       "      <td>101</td>\n",
       "      <td>...</td>\n",
       "      <td>3</td>\n",
       "      <td>192</td>\n",
       "      <td>84</td>\n",
       "      <td>0</td>\n",
       "      <td>0</td>\n",
       "      <td>0</td>\n",
       "      <td>0</td>\n",
       "      <td>8</td>\n",
       "      <td>0</td>\n",
       "      <td>12.429216</td>\n",
       "    </tr>\n",
       "  </tbody>\n",
       "</table>\n",
       "<p>5 rows × 40 columns</p>\n",
       "</div>"
      ],
      "text/plain": [
       "   MSZoning  LotArea  LotShape  LotConfig  Neighborhood  Condition1  BldgType  \\\n",
       "0         2     8450         3          4             5           0         0   \n",
       "1         2     9600         3          2            24           1         0   \n",
       "2         2    11250         0          4             5           0         0   \n",
       "3         2     9550         0          0             6           0         0   \n",
       "4         2    14260         0          2            15           0         0   \n",
       "\n",
       "   OverallQual  OverallCond  YearBuilt  ...  GarageCars  WoodDeckSF  \\\n",
       "0            7            5        104  ...           2           0   \n",
       "1            6            6         77  ...           2         298   \n",
       "2            7            5        102  ...           2           0   \n",
       "3            7            5         19  ...           3           0   \n",
       "4            8            5        101  ...           3         192   \n",
       "\n",
       "   OpenPorchSF  EnclosedPorch  3SsnPorch  ScreenPorch  MiscVal  SaleType  \\\n",
       "0           61              0          0            0        0         8   \n",
       "1            0              0          0            0        0         8   \n",
       "2           42              0          0            0        0         8   \n",
       "3           35            272          0            0        0         8   \n",
       "4           84              0          0            0        0         8   \n",
       "\n",
       "   SaleCondition  LogSalePrice  \n",
       "0              0     12.247694  \n",
       "1              0     12.109011  \n",
       "2              0     12.317167  \n",
       "3              1     11.849398  \n",
       "4              0     12.429216  \n",
       "\n",
       "[5 rows x 40 columns]"
      ]
     },
     "execution_count": 26,
     "metadata": {},
     "output_type": "execute_result"
    }
   ],
   "source": [
    "data = pd.read_csv('after_lasso.csv')\n",
    "data = data.drop(['Id', 'TotRmsAbvGrd'], axis = 1)\n",
    "data.head()"
   ]
  },
  {
   "cell_type": "code",
   "execution_count": 27,
   "metadata": {},
   "outputs": [],
   "source": [
    "X= data.drop(['LogSalePrice'], axis = 1)\n",
    "Y = np.ravel(data.LogSalePrice)"
   ]
  },
  {
   "cell_type": "code",
   "execution_count": 64,
   "metadata": {},
   "outputs": [
    {
     "data": {
      "text/html": [
       "<div>\n",
       "<style scoped>\n",
       "    .dataframe tbody tr th:only-of-type {\n",
       "        vertical-align: middle;\n",
       "    }\n",
       "\n",
       "    .dataframe tbody tr th {\n",
       "        vertical-align: top;\n",
       "    }\n",
       "\n",
       "    .dataframe thead th {\n",
       "        text-align: right;\n",
       "    }\n",
       "</style>\n",
       "<table border=\"1\" class=\"dataframe\">\n",
       "  <thead>\n",
       "    <tr style=\"text-align: right;\">\n",
       "      <th></th>\n",
       "      <th>MSZoning</th>\n",
       "      <th>LotArea</th>\n",
       "      <th>LotShape</th>\n",
       "      <th>LotConfig</th>\n",
       "      <th>Neighborhood</th>\n",
       "      <th>Condition1</th>\n",
       "      <th>BldgType</th>\n",
       "      <th>OverallQual</th>\n",
       "      <th>OverallCond</th>\n",
       "      <th>YearBuilt</th>\n",
       "      <th>...</th>\n",
       "      <th>GarageType</th>\n",
       "      <th>GarageCars</th>\n",
       "      <th>WoodDeckSF</th>\n",
       "      <th>OpenPorchSF</th>\n",
       "      <th>EnclosedPorch</th>\n",
       "      <th>3SsnPorch</th>\n",
       "      <th>ScreenPorch</th>\n",
       "      <th>MiscVal</th>\n",
       "      <th>SaleType</th>\n",
       "      <th>SaleCondition</th>\n",
       "    </tr>\n",
       "  </thead>\n",
       "  <tbody>\n",
       "    <tr>\n",
       "      <th>0</th>\n",
       "      <td>1</td>\n",
       "      <td>11622</td>\n",
       "      <td>3</td>\n",
       "      <td>4</td>\n",
       "      <td>12</td>\n",
       "      <td>1</td>\n",
       "      <td>0</td>\n",
       "      <td>5</td>\n",
       "      <td>6</td>\n",
       "      <td>56</td>\n",
       "      <td>...</td>\n",
       "      <td>0</td>\n",
       "      <td>1.0</td>\n",
       "      <td>140</td>\n",
       "      <td>0</td>\n",
       "      <td>0</td>\n",
       "      <td>0</td>\n",
       "      <td>120</td>\n",
       "      <td>0</td>\n",
       "      <td>9</td>\n",
       "      <td>0</td>\n",
       "    </tr>\n",
       "    <tr>\n",
       "      <th>1</th>\n",
       "      <td>2</td>\n",
       "      <td>14267</td>\n",
       "      <td>0</td>\n",
       "      <td>0</td>\n",
       "      <td>12</td>\n",
       "      <td>0</td>\n",
       "      <td>0</td>\n",
       "      <td>6</td>\n",
       "      <td>6</td>\n",
       "      <td>53</td>\n",
       "      <td>...</td>\n",
       "      <td>0</td>\n",
       "      <td>1.0</td>\n",
       "      <td>393</td>\n",
       "      <td>36</td>\n",
       "      <td>0</td>\n",
       "      <td>0</td>\n",
       "      <td>0</td>\n",
       "      <td>12500</td>\n",
       "      <td>9</td>\n",
       "      <td>0</td>\n",
       "    </tr>\n",
       "    <tr>\n",
       "      <th>2</th>\n",
       "      <td>2</td>\n",
       "      <td>13830</td>\n",
       "      <td>0</td>\n",
       "      <td>4</td>\n",
       "      <td>8</td>\n",
       "      <td>0</td>\n",
       "      <td>0</td>\n",
       "      <td>5</td>\n",
       "      <td>5</td>\n",
       "      <td>92</td>\n",
       "      <td>...</td>\n",
       "      <td>0</td>\n",
       "      <td>2.0</td>\n",
       "      <td>212</td>\n",
       "      <td>34</td>\n",
       "      <td>0</td>\n",
       "      <td>0</td>\n",
       "      <td>0</td>\n",
       "      <td>0</td>\n",
       "      <td>9</td>\n",
       "      <td>0</td>\n",
       "    </tr>\n",
       "    <tr>\n",
       "      <th>3</th>\n",
       "      <td>2</td>\n",
       "      <td>9978</td>\n",
       "      <td>0</td>\n",
       "      <td>4</td>\n",
       "      <td>8</td>\n",
       "      <td>0</td>\n",
       "      <td>0</td>\n",
       "      <td>6</td>\n",
       "      <td>6</td>\n",
       "      <td>93</td>\n",
       "      <td>...</td>\n",
       "      <td>0</td>\n",
       "      <td>2.0</td>\n",
       "      <td>360</td>\n",
       "      <td>36</td>\n",
       "      <td>0</td>\n",
       "      <td>0</td>\n",
       "      <td>0</td>\n",
       "      <td>0</td>\n",
       "      <td>9</td>\n",
       "      <td>0</td>\n",
       "    </tr>\n",
       "    <tr>\n",
       "      <th>4</th>\n",
       "      <td>2</td>\n",
       "      <td>5005</td>\n",
       "      <td>0</td>\n",
       "      <td>4</td>\n",
       "      <td>22</td>\n",
       "      <td>0</td>\n",
       "      <td>1</td>\n",
       "      <td>8</td>\n",
       "      <td>5</td>\n",
       "      <td>87</td>\n",
       "      <td>...</td>\n",
       "      <td>0</td>\n",
       "      <td>2.0</td>\n",
       "      <td>0</td>\n",
       "      <td>82</td>\n",
       "      <td>0</td>\n",
       "      <td>0</td>\n",
       "      <td>144</td>\n",
       "      <td>0</td>\n",
       "      <td>9</td>\n",
       "      <td>0</td>\n",
       "    </tr>\n",
       "  </tbody>\n",
       "</table>\n",
       "<p>5 rows × 39 columns</p>\n",
       "</div>"
      ],
      "text/plain": [
       "   MSZoning  LotArea  LotShape  LotConfig  Neighborhood  Condition1  BldgType  \\\n",
       "0         1    11622         3          4            12           1         0   \n",
       "1         2    14267         0          0            12           0         0   \n",
       "2         2    13830         0          4             8           0         0   \n",
       "3         2     9978         0          4             8           0         0   \n",
       "4         2     5005         0          4            22           0         1   \n",
       "\n",
       "   OverallQual  OverallCond  YearBuilt  ...  GarageType  GarageCars  \\\n",
       "0            5            6         56  ...           0         1.0   \n",
       "1            6            6         53  ...           0         1.0   \n",
       "2            5            5         92  ...           0         2.0   \n",
       "3            6            6         93  ...           0         2.0   \n",
       "4            8            5         87  ...           0         2.0   \n",
       "\n",
       "   WoodDeckSF  OpenPorchSF  EnclosedPorch  3SsnPorch  ScreenPorch  MiscVal  \\\n",
       "0         140            0              0          0          120        0   \n",
       "1         393           36              0          0            0    12500   \n",
       "2         212           34              0          0            0        0   \n",
       "3         360           36              0          0            0        0   \n",
       "4           0           82              0          0          144        0   \n",
       "\n",
       "   SaleType  SaleCondition  \n",
       "0         9              0  \n",
       "1         9              0  \n",
       "2         9              0  \n",
       "3         9              0  \n",
       "4         9              0  \n",
       "\n",
       "[5 rows x 39 columns]"
      ]
     },
     "execution_count": 64,
     "metadata": {},
     "output_type": "execute_result"
    }
   ],
   "source": [
    "test = pd.read_csv('after_lasso_test.csv')\n",
    "test = test.drop(['Id', 'TotRmsAbvGrd'], axis = 1)\n",
    "test.head()"
   ]
  },
  {
   "cell_type": "code",
   "execution_count": 58,
   "metadata": {},
   "outputs": [
    {
     "data": {
      "text/plain": [
       "0"
      ]
     },
     "execution_count": 58,
     "metadata": {},
     "output_type": "execute_result"
    }
   ],
   "source": [
    "test.isnull().sum().sum()"
   ]
  },
  {
   "cell_type": "code",
   "execution_count": 29,
   "metadata": {},
   "outputs": [
    {
     "data": {
      "text/plain": [
       "(1460, 39)"
      ]
     },
     "execution_count": 29,
     "metadata": {},
     "output_type": "execute_result"
    }
   ],
   "source": [
    "X.shape"
   ]
  },
  {
   "cell_type": "code",
   "execution_count": 30,
   "metadata": {},
   "outputs": [],
   "source": [
    "gbm = GradientBoostingRegressor() # creating an instance of the Class"
   ]
  },
  {
   "cell_type": "code",
   "execution_count": 31,
   "metadata": {},
   "outputs": [
    {
     "data": {
      "text/plain": [
       "GradientBoostingRegressor(alpha=0.9, ccp_alpha=0.0, criterion='friedman_mse',\n",
       "                          init=None, learning_rate=0.1, loss='ls', max_depth=3,\n",
       "                          max_features=None, max_leaf_nodes=None,\n",
       "                          min_impurity_decrease=0.0, min_impurity_split=None,\n",
       "                          min_samples_leaf=1, min_samples_split=2,\n",
       "                          min_weight_fraction_leaf=0.0, n_estimators=100,\n",
       "                          n_iter_no_change=None, presort='deprecated',\n",
       "                          random_state=None, subsample=1.0, tol=0.0001,\n",
       "                          validation_fraction=0.1, verbose=0, warm_start=False)"
      ]
     },
     "execution_count": 31,
     "metadata": {},
     "output_type": "execute_result"
    }
   ],
   "source": [
    "gbm.fit(X,Y) # baseline model without any alteration of parameters"
   ]
  },
  {
   "cell_type": "code",
   "execution_count": 32,
   "metadata": {},
   "outputs": [
    {
     "data": {
      "text/plain": [
       "0.9505385799456486"
      ]
     },
     "execution_count": 32,
     "metadata": {},
     "output_type": "execute_result"
    }
   ],
   "source": [
    "gbm.score(X,Y) # before train_test_split (baseline model)"
   ]
  },
  {
   "cell_type": "code",
   "execution_count": 33,
   "metadata": {},
   "outputs": [],
   "source": [
    "X_test, X_train, Y_test, Y_train = train_test_split(X, Y, test_size=0.3, random_state=42) # cross validation: splitting the data into train & test group"
   ]
  },
  {
   "cell_type": "code",
   "execution_count": 34,
   "metadata": {},
   "outputs": [
    {
     "name": "stdout",
     "output_type": "stream",
     "text": [
      "      Iter       Train Loss      OOB Improve   Remaining Time \n",
      "         1           0.1604           0.0018            2.43s\n",
      "         2           0.1614           0.0011            3.81s\n",
      "         3           0.1670           0.0012            3.79s\n",
      "         4           0.1608           0.0013            3.71s\n",
      "         5           0.1723           0.0009            3.45s\n",
      "         6           0.1541           0.0016            3.43s\n",
      "         7           0.1491           0.0011            3.35s\n",
      "         8           0.1610           0.0011            3.27s\n",
      "         9           0.1685           0.0001            3.17s\n",
      "        10           0.1578           0.0006            3.23s\n",
      "        20           0.1536           0.0010            2.44s\n",
      "        30           0.1420           0.0009            2.35s\n",
      "        40           0.1216           0.0008            2.13s\n",
      "        50           0.1180           0.0008            1.96s\n",
      "        60           0.1076           0.0005            1.83s\n",
      "        70           0.1094           0.0005            1.71s\n",
      "        80           0.0992           0.0008            1.61s\n",
      "        90           0.0765           0.0006            1.53s\n",
      "       100           0.0820           0.0006            1.47s\n",
      "       200           0.0366           0.0002            1.14s\n",
      "       300           0.0322           0.0001            1.05s\n",
      "       400           0.0220           0.0000            0.91s\n",
      "       500           0.0162           0.0000            0.81s\n",
      "       600           0.0167           0.0000            0.72s\n",
      "       700           0.0157           0.0000            0.64s\n",
      "       800           0.0148          -0.0000            0.55s\n",
      "       900           0.0144          -0.0000            0.51s\n",
      "      1000           0.0129          -0.0000            0.43s\n"
     ]
    },
    {
     "data": {
      "text/plain": [
       "GradientBoostingRegressor(alpha=0.9, ccp_alpha=0.0, criterion='friedman_mse',\n",
       "                          init=None, learning_rate=0.01, loss='ls', max_depth=2,\n",
       "                          max_features=2, max_leaf_nodes=None,\n",
       "                          min_impurity_decrease=0.01, min_impurity_split=None,\n",
       "                          min_samples_leaf=1, min_samples_split=2,\n",
       "                          min_weight_fraction_leaf=0.0, n_estimators=1500,\n",
       "                          n_iter_no_change=None, presort='deprecated',\n",
       "                          random_state=None, subsample=0.7, tol=0.0001,\n",
       "                          validation_fraction=0.1, verbose=1, warm_start=False)"
      ]
     },
     "execution_count": 34,
     "metadata": {},
     "output_type": "execute_result"
    }
   ],
   "source": [
    "# setting parameters to use for Gradient Boosting\n",
    "gbm.set_params(learning_rate=0.01, n_estimators=1500, verbose=1, subsample=0.7, warm_start=False, loss='ls', max_depth=2, max_features=2, min_impurity_decrease=0.01)\n",
    "gbm.fit(X_train,Y_train) # fitting the model"
   ]
  },
  {
   "cell_type": "code",
   "execution_count": 35,
   "metadata": {},
   "outputs": [
    {
     "name": "stdout",
     "output_type": "stream",
     "text": [
      "The train set R^2 is 0.941\n",
      "The test set R^2 is 0.873\n"
     ]
    }
   ],
   "source": [
    "print(\"The train set R^2 is %.3f\" %(gbm.score(X_train, Y_train)))\n",
    "print(\"The test set R^2 is %.3f\" %(gbm.score(X_test,Y_test)))"
   ]
  },
  {
   "cell_type": "code",
   "execution_count": 36,
   "metadata": {},
   "outputs": [
    {
     "name": "stdout",
     "output_type": "stream",
     "text": [
      "The training error is: 0.05922\n",
      "The test      error is: 0.12680\n"
     ]
    }
   ],
   "source": [
    "train_error = (1 - gbm.score(X_train, Y_train))\n",
    "test_error = (1 - gbm.score(X_test, Y_test))\n",
    "print(\"The training error is: %.5f\" %train_error)\n",
    "print(\"The test      error is: %.5f\" %test_error)"
   ]
  },
  {
   "cell_type": "code",
   "execution_count": 37,
   "metadata": {
    "scrolled": false
   },
   "outputs": [
    {
     "data": {
      "text/plain": [
       "[('OverallQual', 0.12065465137750793),\n",
       " ('GrLivArea', 0.10745437031266626),\n",
       " ('TotalBsmtSF', 0.07410455324043203),\n",
       " ('GarageCars', 0.07354879561290663),\n",
       " ('FullBath', 0.06409620188415839),\n",
       " ('YearBuilt', 0.057138191020841965),\n",
       " ('ExterQual', 0.05085668926720476),\n",
       " ('KitchenQual', 0.046258738507559426),\n",
       " ('OpenPorchSF', 0.04587836208883941),\n",
       " ('Fireplaces', 0.042589489445618155),\n",
       " ('LotArea', 0.03948145467694535),\n",
       " ('BsmtQual', 0.029200345418246284),\n",
       " ('MSZoning', 0.02895447758697018),\n",
       " ('GarageType', 0.024091552815582336),\n",
       " ('CentralAir', 0.018202217624683895),\n",
       " ('OverallCond', 0.016399821461731773),\n",
       " ('BsmtExposure', 0.016217821085475634),\n",
       " ('HalfBath', 0.015399539450553695),\n",
       " ('HeatingQC', 0.01526315281939752),\n",
       " ('BedroomAbvGr', 0.013586766584987215),\n",
       " ('BsmtFinType1', 0.013386371170858335),\n",
       " ('WoodDeckSF', 0.012250424682661921),\n",
       " ('Neighborhood', 0.01196755774483605),\n",
       " ('LotShape', 0.008832590609684905),\n",
       " ('Foundation', 0.008539247883271223),\n",
       " ('ExterCond', 0.008525324224377568),\n",
       " ('EnclosedPorch', 0.007014321046636086),\n",
       " ('Exterior1st', 0.0051543587581528785),\n",
       " ('SaleType', 0.004573146794387283),\n",
       " ('RoofMatl', 0.00408652233235076),\n",
       " ('ScreenPorch', 0.0034010544705654743),\n",
       " ('SaleCondition', 0.0027371458220171595),\n",
       " ('MiscVal', 0.00238405333271406),\n",
       " ('Functional', 0.0018053240200402725),\n",
       " ('BsmtCond', 0.0017727952273292045),\n",
       " ('BldgType', 0.0017499329056921934),\n",
       " ('LotConfig', 0.0015866582259413604),\n",
       " ('Condition1', 0.0007836276836882875),\n",
       " ('3SsnPorch', 7.235078248614167e-05)]"
      ]
     },
     "execution_count": 37,
     "metadata": {},
     "output_type": "execute_result"
    }
   ],
   "source": [
    "sorted_importance = sorted(zip(X.columns, gbm.feature_importances_), key=lambda t:t[1], reverse=True)\n",
    "sorted_importance"
   ]
  },
  {
   "cell_type": "code",
   "execution_count": 38,
   "metadata": {},
   "outputs": [
    {
     "data": {
      "text/plain": [
       "Text(0.5, 1.0, 'Feature Importance Plot of 1500-Tree GBM')"
      ]
     },
     "execution_count": 38,
     "metadata": {},
     "output_type": "execute_result"
    },
    {
     "data": {
      "image/png": "[encoded data removed]",
      "text/plain": [
       "<Figure size 1152x360 with 1 Axes>"
      ]
     },
     "metadata": {},
     "output_type": "display_data"
    }
   ],
   "source": [
    "plt.rcParams['figure.figsize'] = (16,5)\n",
    "a, b = zip(*sorted_importance) # this splits the list of tuples into two lists\n",
    "pd.DataFrame({'feature_name':a, 'importance_score':b}).plot.bar(x='feature_name',y='importance_score', legend=None)\n",
    "plt.title('Feature Importance Plot of 1500-Tree GBM')"
   ]
  },
  {
   "cell_type": "code",
   "execution_count": 39,
   "metadata": {
    "scrolled": false
   },
   "outputs": [
    {
     "data": {
      "text/plain": [
       "Text(0.5, 1.0, 'Feature Importance Plot of 1500-Tree GBM')"
      ]
     },
     "execution_count": 39,
     "metadata": {},
     "output_type": "execute_result"
    },
    {
     "data": {
      "image/png": "[encoded data removed]",
      "text/plain": [
       "<Figure size 720x360 with 1 Axes>"
      ]
     },
     "metadata": {},
     "output_type": "display_data"
    }
   ],
   "source": [
    "plt.rcParams['figure.figsize'] = (10,5)\n",
    "## Top 10 features Bar Chart\n",
    "a, b = zip(*sorted_importance) # this splits the list of tuples into two lists\n",
    "pd.DataFrame({'feature_name':a[0:10], 'importance_score':b[0:10]}).plot.bar(x='feature_name',y='importance_score', legend=None)\n",
    "plt.title('Feature Importance Plot of 1500-Tree GBM')"
   ]
  },
  {
   "cell_type": "markdown",
   "metadata": {},
   "source": [
    "# Running Grid Search to find optimal Hyperparameters"
   ]
  },
  {
   "cell_type": "code",
   "execution_count": null,
   "metadata": {},
   "outputs": [],
   "source": [
    "gbm.set_params(learning_rate=0.01, n_estimators=1500, verbose=1, subsample=0.7, warm_start=False, loss='ls', max_depth=2, max_features=2, min_impurity_decrease=0.01)"
   ]
  },
  {
   "cell_type": "code",
   "execution_count": 50,
   "metadata": {},
   "outputs": [
    {
     "name": "stdout",
     "output_type": "stream",
     "text": [
      "      Iter       Train Loss      OOB Improve   Remaining Time \n",
      "         1           0.1594           0.0019            4.33s\n",
      "         2           0.1562           0.0020            3.69s\n",
      "         3           0.1553           0.0016            3.33s\n",
      "         4           0.1563           0.0020            3.07s\n",
      "         5           0.1529           0.0017            3.23s\n",
      "         6           0.1472           0.0019            3.30s\n",
      "         7           0.1450           0.0019            3.20s\n",
      "         8           0.1466           0.0018            3.11s\n",
      "         9           0.1447           0.0017            3.02s\n",
      "        10           0.1383           0.0018            2.93s\n",
      "        20           0.1209           0.0015            2.42s\n",
      "        30           0.1107           0.0013            2.21s\n",
      "        40           0.0917           0.0013            2.34s\n",
      "        50           0.0893           0.0010            2.28s\n",
      "        60           0.0796           0.0008            2.20s\n",
      "        70           0.0669           0.0006            2.14s\n",
      "        80           0.0607           0.0006            2.17s\n",
      "        90           0.0565           0.0003            2.15s\n",
      "       100           0.0533           0.0005            2.08s\n",
      "       200           0.0243           0.0002            2.05s\n",
      "       300           0.0165           0.0000            1.80s\n",
      "       400           0.0124           0.0000            1.66s\n",
      "       500           0.0100           0.0000            1.47s\n",
      "       600           0.0089           0.0000            1.37s\n",
      "       700           0.0086          -0.0000            1.21s\n",
      "       800           0.0065          -0.0000            1.06s\n",
      "       900           0.0075          -0.0000            0.91s\n",
      "      1000           0.0072          -0.0000            0.75s\n",
      "CPU times: user 9.46 s, sys: 683 ms, total: 10.1 s\n",
      "Wall time: 10min 26s\n"
     ]
    },
    {
     "data": {
      "text/plain": [
       "GridSearchCV(cv=5, error_score=nan,\n",
       "             estimator=GradientBoostingRegressor(alpha=0.9, ccp_alpha=0.0,\n",
       "                                                 criterion='friedman_mse',\n",
       "                                                 init=None, learning_rate=0.01,\n",
       "                                                 loss='ls', max_depth=2,\n",
       "                                                 max_features=2,\n",
       "                                                 max_leaf_nodes=None,\n",
       "                                                 min_impurity_decrease=0.01,\n",
       "                                                 min_impurity_split=None,\n",
       "                                                 min_samples_leaf=1,\n",
       "                                                 min_samples_split=2,\n",
       "                                                 min_weight_fraction_leaf=0.0,\n",
       "                                                 n_estimators=1500,\n",
       "                                                 n_iter_n...\n",
       "             param_grid=[{'learning_rate': [0.01], 'loss': ['ls'],\n",
       "                          'max_depth': range(2, 5), 'max_features': range(2, 5),\n",
       "                          'min_impurity_decrease': array([0.01, 0.03, 0.05]),\n",
       "                          'min_samples_split': range(2, 5),\n",
       "                          'n_estimators': range(500, 2000, 500),\n",
       "                          'random_state': [42], 'subsample': [0.7],\n",
       "                          'verbose': [1]}],\n",
       "             pre_dispatch='2*n_jobs', refit=True, return_train_score=False,\n",
       "             scoring='r2', verbose=0)"
      ]
     },
     "execution_count": 50,
     "metadata": {},
     "output_type": "execute_result"
    }
   ],
   "source": [
    "grid_para_gbm = [{\n",
    "    \"learning_rate\": [0.01],\n",
    "    \"verbose\": [1],\n",
    "    \"subsample\": [0.7],\n",
    "    \"loss\": ['ls'],\n",
    "    \"n_estimators\": range(500, 2000, 500),\n",
    "    \"max_depth\": range(2, 5),\n",
    "    \"max_features\": range(2, 5),  #  sqrt(number of samples) \n",
    "    \"min_impurity_decrease\": np.linspace(0.01,0.05, 3), \n",
    "    \"min_samples_split\": range(2,5),\n",
    "    \"random_state\": [42] }]\n",
    "\n",
    "gbm.set_params()\n",
    "grid_search_gbm = GridSearchCV(gbm, grid_para_gbm, cv = 5, scoring = 'r2', n_jobs = -1)\n",
    "%time grid_search_gbm.fit(X, Y)"
   ]
  },
  {
   "cell_type": "code",
   "execution_count": 51,
   "metadata": {},
   "outputs": [
    {
     "data": {
      "text/plain": [
       "{'learning_rate': 0.01,\n",
       " 'loss': 'ls',\n",
       " 'max_depth': 4,\n",
       " 'max_features': 4,\n",
       " 'min_impurity_decrease': 0.01,\n",
       " 'min_samples_split': 2,\n",
       " 'n_estimators': 1500,\n",
       " 'random_state': 42,\n",
       " 'subsample': 0.7,\n",
       " 'verbose': 1}"
      ]
     },
     "execution_count": 51,
     "metadata": {},
     "output_type": "execute_result"
    }
   ],
   "source": [
    "## best parameters\n",
    "grid_search_gbm.best_params_"
   ]
  },
  {
   "cell_type": "code",
   "execution_count": 52,
   "metadata": {},
   "outputs": [
    {
     "data": {
      "text/plain": [
       "0.910572751286766"
      ]
     },
     "execution_count": 52,
     "metadata": {},
     "output_type": "execute_result"
    }
   ],
   "source": [
    "## best score\n",
    "grid_search_gbm.best_score_"
   ]
  },
  {
   "cell_type": "code",
   "execution_count": 53,
   "metadata": {},
   "outputs": [
    {
     "data": {
      "text/plain": [
       "0.9647377323432538"
      ]
     },
     "execution_count": 53,
     "metadata": {},
     "output_type": "execute_result"
    }
   ],
   "source": [
    "## The overall accuracy on the training set:\n",
    "grid_search_gbm.score(X_train, Y_train)"
   ]
  },
  {
   "cell_type": "code",
   "execution_count": 54,
   "metadata": {},
   "outputs": [
    {
     "data": {
      "text/plain": [
       "0.9640638304218467"
      ]
     },
     "execution_count": 54,
     "metadata": {},
     "output_type": "execute_result"
    }
   ],
   "source": [
    "## The overall accuracy on the test set:\n",
    "grid_search_gbm.score(X_test, Y_test)"
   ]
  },
  {
   "cell_type": "code",
   "execution_count": 65,
   "metadata": {},
   "outputs": [
    {
     "name": "stdout",
     "output_type": "stream",
     "text": [
      "      Iter       Train Loss      OOB Improve   Remaining Time \n",
      "         1           0.1557           0.0021            3.26s\n",
      "         2           0.1544           0.0022            3.83s\n",
      "         3           0.1473           0.0022            4.30s\n",
      "         4           0.1528           0.0020            4.95s\n",
      "         5           0.1525           0.0018            7.49s\n",
      "         6           0.1467           0.0022            8.02s\n",
      "         7           0.1472           0.0019            8.23s\n",
      "         8           0.1433           0.0017            7.78s\n",
      "         9           0.1434           0.0018            7.30s\n",
      "        10           0.1336           0.0018            7.53s\n",
      "        20           0.1246           0.0013            4.98s\n",
      "        30           0.1118           0.0013            4.16s\n",
      "        40           0.0987           0.0012            3.62s\n",
      "        50           0.0843           0.0010            3.24s\n",
      "        60           0.0725           0.0009            3.01s\n",
      "        70           0.0683           0.0008            2.90s\n",
      "        80           0.0615           0.0005            2.80s\n",
      "        90           0.0575           0.0004            2.68s\n",
      "       100           0.0506           0.0004            2.58s\n",
      "       200           0.0234           0.0001            2.30s\n",
      "       300           0.0160           0.0000            1.99s\n",
      "       400           0.0120           0.0000            2.10s\n",
      "       500           0.0102           0.0000            1.81s\n",
      "       600           0.0083          -0.0000            1.60s\n",
      "       700           0.0077          -0.0000            1.38s\n",
      "       800           0.0069           0.0000            1.20s\n",
      "       900           0.0077           0.0000            1.01s\n",
      "      1000           0.0066          -0.0000            0.92s\n"
     ]
    },
    {
     "data": {
      "text/plain": [
       "array([11.66658091, 12.03435199, 12.07514769, ..., 11.95955476,\n",
       "       11.74147272, 12.24434045])"
      ]
     },
     "execution_count": 65,
     "metadata": {},
     "output_type": "execute_result"
    }
   ],
   "source": [
    "# setting parameters to use for Gradient Boosting\n",
    "gbm.set_params(learning_rate=0.01, n_estimators=1500, verbose=1, subsample=0.7, warm_start=False, loss='ls', min_samples_split = 2, max_depth=4, max_features=4, min_impurity_decrease=0.01)\n",
    "gbm.fit(X,Y) # fitting the model\n",
    "gbm.predict(test)"
   ]
  },
  {
   "cell_type": "code",
   "execution_count": 62,
   "metadata": {},
   "outputs": [
    {
     "data": {
      "text/plain": [
       "MSZoning         False\n",
       "LotArea          False\n",
       "LotShape         False\n",
       "LotConfig        False\n",
       "Neighborhood     False\n",
       "Condition1       False\n",
       "BldgType         False\n",
       "OverallQual      False\n",
       "OverallCond      False\n",
       "YearBuilt        False\n",
       "RoofMatl         False\n",
       "Exterior1st      False\n",
       "ExterQual        False\n",
       "ExterCond        False\n",
       "Foundation       False\n",
       "BsmtQual         False\n",
       "BsmtCond         False\n",
       "BsmtExposure     False\n",
       "BsmtFinType1     False\n",
       "TotalBsmtSF       True\n",
       "HeatingQC        False\n",
       "CentralAir       False\n",
       "GrLivArea        False\n",
       "FullBath          True\n",
       "HalfBath          True\n",
       "BedroomAbvGr     False\n",
       "KitchenQual      False\n",
       "Functional       False\n",
       "Fireplaces       False\n",
       "GarageType       False\n",
       "GarageCars        True\n",
       "WoodDeckSF       False\n",
       "OpenPorchSF      False\n",
       "EnclosedPorch    False\n",
       "3SsnPorch        False\n",
       "ScreenPorch      False\n",
       "MiscVal          False\n",
       "SaleType         False\n",
       "SaleCondition    False\n",
       "dtype: bool"
      ]
     },
     "execution_count": 62,
     "metadata": {},
     "output_type": "execute_result"
    }
   ],
   "source": [
    "test.isin(['None']).any() "
   ]
  },
  {
   "cell_type": "code",
   "execution_count": 17,
   "metadata": {},
   "outputs": [
    {
     "data": {
      "text/html": [
       "<div>\n",
       "<style scoped>\n",
       "    .dataframe tbody tr th:only-of-type {\n",
       "        vertical-align: middle;\n",
       "    }\n",
       "\n",
       "    .dataframe tbody tr th {\n",
       "        vertical-align: top;\n",
       "    }\n",
       "\n",
       "    .dataframe thead th {\n",
       "        text-align: right;\n",
       "    }\n",
       "</style>\n",
       "<table border=\"1\" class=\"dataframe\">\n",
       "  <thead>\n",
       "    <tr style=\"text-align: right;\">\n",
       "      <th></th>\n",
       "      <th>MSZoning</th>\n",
       "      <th>LotFrontage</th>\n",
       "      <th>LotArea</th>\n",
       "      <th>LotShape</th>\n",
       "      <th>LotConfig</th>\n",
       "      <th>Neighborhood</th>\n",
       "      <th>Condition1</th>\n",
       "      <th>BldgType</th>\n",
       "      <th>HouseStyle</th>\n",
       "      <th>OverallQual</th>\n",
       "      <th>...</th>\n",
       "      <th>OpenPorchSF</th>\n",
       "      <th>EnclosedPorch</th>\n",
       "      <th>3SsnPorch</th>\n",
       "      <th>ScreenPorch</th>\n",
       "      <th>PoolArea</th>\n",
       "      <th>MiscFeature</th>\n",
       "      <th>MoSold</th>\n",
       "      <th>SaleType</th>\n",
       "      <th>SaleCondition</th>\n",
       "      <th>BsmtHasBath</th>\n",
       "    </tr>\n",
       "  </thead>\n",
       "  <tbody>\n",
       "    <tr>\n",
       "      <th>1</th>\n",
       "      <td>0.000000</td>\n",
       "      <td>0.000000</td>\n",
       "      <td>0.000000</td>\n",
       "      <td>0.000000</td>\n",
       "      <td>0.000000</td>\n",
       "      <td>0.000000</td>\n",
       "      <td>0.000000</td>\n",
       "      <td>0.000000</td>\n",
       "      <td>0.000000</td>\n",
       "      <td>0.000000</td>\n",
       "      <td>...</td>\n",
       "      <td>0.000000</td>\n",
       "      <td>0.000000</td>\n",
       "      <td>0.000000</td>\n",
       "      <td>0.000000</td>\n",
       "      <td>0.000000</td>\n",
       "      <td>0.000000</td>\n",
       "      <td>0.000000</td>\n",
       "      <td>0.000000</td>\n",
       "      <td>0.000000</td>\n",
       "      <td>0.000000</td>\n",
       "    </tr>\n",
       "    <tr>\n",
       "      <th>51</th>\n",
       "      <td>0.001210</td>\n",
       "      <td>0.031646</td>\n",
       "      <td>0.028857</td>\n",
       "      <td>0.012710</td>\n",
       "      <td>0.000000</td>\n",
       "      <td>0.011007</td>\n",
       "      <td>0.003391</td>\n",
       "      <td>0.002750</td>\n",
       "      <td>0.007955</td>\n",
       "      <td>0.002826</td>\n",
       "      <td>...</td>\n",
       "      <td>0.013426</td>\n",
       "      <td>0.000636</td>\n",
       "      <td>0.000658</td>\n",
       "      <td>0.001077</td>\n",
       "      <td>0.005870</td>\n",
       "      <td>0.000000</td>\n",
       "      <td>0.000000</td>\n",
       "      <td>0.001235</td>\n",
       "      <td>0.015407</td>\n",
       "      <td>0.006417</td>\n",
       "    </tr>\n",
       "    <tr>\n",
       "      <th>101</th>\n",
       "      <td>0.003879</td>\n",
       "      <td>0.030154</td>\n",
       "      <td>0.030636</td>\n",
       "      <td>0.011959</td>\n",
       "      <td>0.000139</td>\n",
       "      <td>0.011029</td>\n",
       "      <td>0.003257</td>\n",
       "      <td>0.003682</td>\n",
       "      <td>0.007828</td>\n",
       "      <td>0.006990</td>\n",
       "      <td>...</td>\n",
       "      <td>0.013338</td>\n",
       "      <td>0.000598</td>\n",
       "      <td>0.000652</td>\n",
       "      <td>0.001505</td>\n",
       "      <td>0.005983</td>\n",
       "      <td>0.000010</td>\n",
       "      <td>0.000896</td>\n",
       "      <td>0.001308</td>\n",
       "      <td>0.015104</td>\n",
       "      <td>0.006079</td>\n",
       "    </tr>\n",
       "    <tr>\n",
       "      <th>151</th>\n",
       "      <td>0.004460</td>\n",
       "      <td>0.030237</td>\n",
       "      <td>0.032767</td>\n",
       "      <td>0.011771</td>\n",
       "      <td>0.000152</td>\n",
       "      <td>0.012000</td>\n",
       "      <td>0.003345</td>\n",
       "      <td>0.003778</td>\n",
       "      <td>0.008037</td>\n",
       "      <td>0.007438</td>\n",
       "      <td>...</td>\n",
       "      <td>0.013658</td>\n",
       "      <td>0.000677</td>\n",
       "      <td>0.000702</td>\n",
       "      <td>0.001732</td>\n",
       "      <td>0.005952</td>\n",
       "      <td>0.000103</td>\n",
       "      <td>0.000971</td>\n",
       "      <td>0.001321</td>\n",
       "      <td>0.015113</td>\n",
       "      <td>0.006464</td>\n",
       "    </tr>\n",
       "    <tr>\n",
       "      <th>201</th>\n",
       "      <td>0.004501</td>\n",
       "      <td>0.030266</td>\n",
       "      <td>0.032658</td>\n",
       "      <td>0.011783</td>\n",
       "      <td>0.000392</td>\n",
       "      <td>0.012293</td>\n",
       "      <td>0.003327</td>\n",
       "      <td>0.003789</td>\n",
       "      <td>0.008122</td>\n",
       "      <td>0.007863</td>\n",
       "      <td>...</td>\n",
       "      <td>0.013718</td>\n",
       "      <td>0.000814</td>\n",
       "      <td>0.000697</td>\n",
       "      <td>0.002430</td>\n",
       "      <td>0.005905</td>\n",
       "      <td>0.000184</td>\n",
       "      <td>0.001087</td>\n",
       "      <td>0.001311</td>\n",
       "      <td>0.014994</td>\n",
       "      <td>0.006506</td>\n",
       "    </tr>\n",
       "    <tr>\n",
       "      <th>251</th>\n",
       "      <td>0.004640</td>\n",
       "      <td>0.030360</td>\n",
       "      <td>0.032975</td>\n",
       "      <td>0.011815</td>\n",
       "      <td>0.000406</td>\n",
       "      <td>0.012351</td>\n",
       "      <td>0.003354</td>\n",
       "      <td>0.003777</td>\n",
       "      <td>0.008084</td>\n",
       "      <td>0.008213</td>\n",
       "      <td>...</td>\n",
       "      <td>0.013679</td>\n",
       "      <td>0.000945</td>\n",
       "      <td>0.000721</td>\n",
       "      <td>0.002601</td>\n",
       "      <td>0.005875</td>\n",
       "      <td>0.000201</td>\n",
       "      <td>0.001082</td>\n",
       "      <td>0.001442</td>\n",
       "      <td>0.015045</td>\n",
       "      <td>0.006542</td>\n",
       "    </tr>\n",
       "    <tr>\n",
       "      <th>301</th>\n",
       "      <td>0.004755</td>\n",
       "      <td>0.030320</td>\n",
       "      <td>0.033064</td>\n",
       "      <td>0.011765</td>\n",
       "      <td>0.000432</td>\n",
       "      <td>0.012352</td>\n",
       "      <td>0.003380</td>\n",
       "      <td>0.003779</td>\n",
       "      <td>0.008087</td>\n",
       "      <td>0.008300</td>\n",
       "      <td>...</td>\n",
       "      <td>0.013741</td>\n",
       "      <td>0.001090</td>\n",
       "      <td>0.000736</td>\n",
       "      <td>0.002828</td>\n",
       "      <td>0.005851</td>\n",
       "      <td>0.000252</td>\n",
       "      <td>0.001280</td>\n",
       "      <td>0.001436</td>\n",
       "      <td>0.015163</td>\n",
       "      <td>0.006533</td>\n",
       "    </tr>\n",
       "    <tr>\n",
       "      <th>351</th>\n",
       "      <td>0.004738</td>\n",
       "      <td>0.030400</td>\n",
       "      <td>0.033325</td>\n",
       "      <td>0.011836</td>\n",
       "      <td>0.000437</td>\n",
       "      <td>0.012413</td>\n",
       "      <td>0.003381</td>\n",
       "      <td>0.003777</td>\n",
       "      <td>0.008093</td>\n",
       "      <td>0.008468</td>\n",
       "      <td>...</td>\n",
       "      <td>0.013710</td>\n",
       "      <td>0.001155</td>\n",
       "      <td>0.000747</td>\n",
       "      <td>0.002879</td>\n",
       "      <td>0.005830</td>\n",
       "      <td>0.000264</td>\n",
       "      <td>0.001297</td>\n",
       "      <td>0.001452</td>\n",
       "      <td>0.015156</td>\n",
       "      <td>0.006542</td>\n",
       "    </tr>\n",
       "    <tr>\n",
       "      <th>401</th>\n",
       "      <td>0.004735</td>\n",
       "      <td>0.030442</td>\n",
       "      <td>0.033521</td>\n",
       "      <td>0.011876</td>\n",
       "      <td>0.000440</td>\n",
       "      <td>0.012485</td>\n",
       "      <td>0.003381</td>\n",
       "      <td>0.003803</td>\n",
       "      <td>0.008111</td>\n",
       "      <td>0.008672</td>\n",
       "      <td>...</td>\n",
       "      <td>0.013718</td>\n",
       "      <td>0.001170</td>\n",
       "      <td>0.000745</td>\n",
       "      <td>0.002931</td>\n",
       "      <td>0.005814</td>\n",
       "      <td>0.000263</td>\n",
       "      <td>0.001454</td>\n",
       "      <td>0.001448</td>\n",
       "      <td>0.015132</td>\n",
       "      <td>0.006569</td>\n",
       "    </tr>\n",
       "    <tr>\n",
       "      <th>451</th>\n",
       "      <td>0.004805</td>\n",
       "      <td>0.030533</td>\n",
       "      <td>0.033520</td>\n",
       "      <td>0.011877</td>\n",
       "      <td>0.000448</td>\n",
       "      <td>0.012512</td>\n",
       "      <td>0.003380</td>\n",
       "      <td>0.003800</td>\n",
       "      <td>0.008099</td>\n",
       "      <td>0.008710</td>\n",
       "      <td>...</td>\n",
       "      <td>0.013894</td>\n",
       "      <td>0.001181</td>\n",
       "      <td>0.000783</td>\n",
       "      <td>0.002936</td>\n",
       "      <td>0.005801</td>\n",
       "      <td>0.000281</td>\n",
       "      <td>0.001537</td>\n",
       "      <td>0.001453</td>\n",
       "      <td>0.015136</td>\n",
       "      <td>0.006583</td>\n",
       "    </tr>\n",
       "  </tbody>\n",
       "</table>\n",
       "<p>10 rows × 57 columns</p>\n",
       "</div>"
      ],
      "text/plain": [
       "     MSZoning  LotFrontage   LotArea  LotShape  LotConfig  Neighborhood  \\\n",
       "1    0.000000     0.000000  0.000000  0.000000   0.000000      0.000000   \n",
       "51   0.001210     0.031646  0.028857  0.012710   0.000000      0.011007   \n",
       "101  0.003879     0.030154  0.030636  0.011959   0.000139      0.011029   \n",
       "151  0.004460     0.030237  0.032767  0.011771   0.000152      0.012000   \n",
       "201  0.004501     0.030266  0.032658  0.011783   0.000392      0.012293   \n",
       "251  0.004640     0.030360  0.032975  0.011815   0.000406      0.012351   \n",
       "301  0.004755     0.030320  0.033064  0.011765   0.000432      0.012352   \n",
       "351  0.004738     0.030400  0.033325  0.011836   0.000437      0.012413   \n",
       "401  0.004735     0.030442  0.033521  0.011876   0.000440      0.012485   \n",
       "451  0.004805     0.030533  0.033520  0.011877   0.000448      0.012512   \n",
       "\n",
       "     Condition1  BldgType  HouseStyle  OverallQual  ...  OpenPorchSF  \\\n",
       "1      0.000000  0.000000    0.000000     0.000000  ...     0.000000   \n",
       "51     0.003391  0.002750    0.007955     0.002826  ...     0.013426   \n",
       "101    0.003257  0.003682    0.007828     0.006990  ...     0.013338   \n",
       "151    0.003345  0.003778    0.008037     0.007438  ...     0.013658   \n",
       "201    0.003327  0.003789    0.008122     0.007863  ...     0.013718   \n",
       "251    0.003354  0.003777    0.008084     0.008213  ...     0.013679   \n",
       "301    0.003380  0.003779    0.008087     0.008300  ...     0.013741   \n",
       "351    0.003381  0.003777    0.008093     0.008468  ...     0.013710   \n",
       "401    0.003381  0.003803    0.008111     0.008672  ...     0.013718   \n",
       "451    0.003380  0.003800    0.008099     0.008710  ...     0.013894   \n",
       "\n",
       "     EnclosedPorch  3SsnPorch  ScreenPorch  PoolArea  MiscFeature    MoSold  \\\n",
       "1         0.000000   0.000000     0.000000  0.000000     0.000000  0.000000   \n",
       "51        0.000636   0.000658     0.001077  0.005870     0.000000  0.000000   \n",
       "101       0.000598   0.000652     0.001505  0.005983     0.000010  0.000896   \n",
       "151       0.000677   0.000702     0.001732  0.005952     0.000103  0.000971   \n",
       "201       0.000814   0.000697     0.002430  0.005905     0.000184  0.001087   \n",
       "251       0.000945   0.000721     0.002601  0.005875     0.000201  0.001082   \n",
       "301       0.001090   0.000736     0.002828  0.005851     0.000252  0.001280   \n",
       "351       0.001155   0.000747     0.002879  0.005830     0.000264  0.001297   \n",
       "401       0.001170   0.000745     0.002931  0.005814     0.000263  0.001454   \n",
       "451       0.001181   0.000783     0.002936  0.005801     0.000281  0.001537   \n",
       "\n",
       "     SaleType  SaleCondition  BsmtHasBath  \n",
       "1    0.000000       0.000000     0.000000  \n",
       "51   0.001235       0.015407     0.006417  \n",
       "101  0.001308       0.015104     0.006079  \n",
       "151  0.001321       0.015113     0.006464  \n",
       "201  0.001311       0.014994     0.006506  \n",
       "251  0.001442       0.015045     0.006542  \n",
       "301  0.001436       0.015163     0.006533  \n",
       "351  0.001452       0.015156     0.006542  \n",
       "401  0.001448       0.015132     0.006569  \n",
       "451  0.001453       0.015136     0.006583  \n",
       "\n",
       "[10 rows x 57 columns]"
      ]
     },
     "execution_count": 17,
     "metadata": {},
     "output_type": "execute_result"
    }
   ],
   "source": [
    "Iowa_importance = pd.DataFrame([model.feature_importances_ for model in gbm_models], index=steps, columns=X_train.columns)\n",
    "Iowa_importance"
   ]
  },
  {
   "cell_type": "code",
   "execution_count": 18,
   "metadata": {},
   "outputs": [
    {
     "data": {
      "text/plain": [
       "Text(0, 0.5, 'feature importance')"
      ]
     },
     "execution_count": 18,
     "metadata": {},
     "output_type": "execute_result"
    },
    {
     "data": {
      "image/png": "[encoded data removed]",
      "text/plain": [
       "<Figure size 1008x1440 with 1 Axes>"
      ]
     },
     "metadata": {},
     "output_type": "display_data"
    }
   ],
   "source": [
    "plt.rcParams['figure.figsize'] = (14,20)\n",
    "for feature in Iowa_importance.columns:\n",
    "    plt.plot(Iowa_importance.index, Iowa_importance[feature], label=feature)\n",
    "    \n",
    "plt.legend(loc=1)    \n",
    "plt.xlabel('n_estimators')\n",
    "plt.ylabel('feature importance')"
   ]
  },
  {
   "cell_type": "code",
   "execution_count": null,
   "metadata": {},
   "outputs": [],
   "source": []
  }
 ],
 "metadata": {
  "kernelspec": {
   "display_name": "Python 3",
   "language": "python",
   "name": "python3"
  },
  "language_info": {
   "codemirror_mode": {
    "name": "ipython",
    "version": 3
   },
   "file_extension": ".py",
   "mimetype": "text/x-python",
   "name": "python",
   "nbconvert_exporter": "python",
   "pygments_lexer": "ipython3",
   "version": "3.7.6"
  }
 },
 "nbformat": 4,
 "nbformat_minor": 4
}
