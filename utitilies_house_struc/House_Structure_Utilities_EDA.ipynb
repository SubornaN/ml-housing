{
 "cells": [
  {
   "cell_type": "markdown",
   "metadata": {},
   "source": [
    "## Exploratory Data Analysis"
   ]
  },
  {
   "cell_type": "code",
   "execution_count": 1,
   "metadata": {},
   "outputs": [],
   "source": [
    "import matplotlib.pyplot as plt\n",
    "import pandas as pd\n",
    "import numpy as np\n",
    "import scipy.stats as stats\n",
    "import seaborn as sns"
   ]
  },
  {
   "cell_type": "code",
   "execution_count": 2,
   "metadata": {},
   "outputs": [],
   "source": [
    "df = pd.read_csv('Data/train.csv') # reading the csv"
   ]
  },
  {
   "cell_type": "code",
   "execution_count": 3,
   "metadata": {},
   "outputs": [
    {
     "data": {
      "text/plain": [
       "(1460, 81)"
      ]
     },
     "execution_count": 3,
     "metadata": {},
     "output_type": "execute_result"
    }
   ],
   "source": [
    "df.shape # rows and columns of the dataframe"
   ]
  },
  {
   "cell_type": "code",
   "execution_count": 4,
   "metadata": {},
   "outputs": [
    {
     "data": {
      "text/html": [
       "<div>\n",
       "<style scoped>\n",
       "    .dataframe tbody tr th:only-of-type {\n",
       "        vertical-align: middle;\n",
       "    }\n",
       "\n",
       "    .dataframe tbody tr th {\n",
       "        vertical-align: top;\n",
       "    }\n",
       "\n",
       "    .dataframe thead th {\n",
       "        text-align: right;\n",
       "    }\n",
       "</style>\n",
       "<table border=\"1\" class=\"dataframe\">\n",
       "  <thead>\n",
       "    <tr style=\"text-align: right;\">\n",
       "      <th></th>\n",
       "      <th>Id</th>\n",
       "      <th>MSSubClass</th>\n",
       "      <th>MSZoning</th>\n",
       "      <th>LotFrontage</th>\n",
       "      <th>LotArea</th>\n",
       "      <th>Street</th>\n",
       "      <th>Alley</th>\n",
       "      <th>LotShape</th>\n",
       "      <th>LandContour</th>\n",
       "      <th>Utilities</th>\n",
       "      <th>...</th>\n",
       "      <th>PoolArea</th>\n",
       "      <th>PoolQC</th>\n",
       "      <th>Fence</th>\n",
       "      <th>MiscFeature</th>\n",
       "      <th>MiscVal</th>\n",
       "      <th>MoSold</th>\n",
       "      <th>YrSold</th>\n",
       "      <th>SaleType</th>\n",
       "      <th>SaleCondition</th>\n",
       "      <th>SalePrice</th>\n",
       "    </tr>\n",
       "  </thead>\n",
       "  <tbody>\n",
       "    <tr>\n",
       "      <th>0</th>\n",
       "      <td>1</td>\n",
       "      <td>60</td>\n",
       "      <td>RL</td>\n",
       "      <td>65.0</td>\n",
       "      <td>8450</td>\n",
       "      <td>Pave</td>\n",
       "      <td>NaN</td>\n",
       "      <td>Reg</td>\n",
       "      <td>Lvl</td>\n",
       "      <td>AllPub</td>\n",
       "      <td>...</td>\n",
       "      <td>0</td>\n",
       "      <td>NaN</td>\n",
       "      <td>NaN</td>\n",
       "      <td>NaN</td>\n",
       "      <td>0</td>\n",
       "      <td>2</td>\n",
       "      <td>2008</td>\n",
       "      <td>WD</td>\n",
       "      <td>Normal</td>\n",
       "      <td>208500</td>\n",
       "    </tr>\n",
       "    <tr>\n",
       "      <th>1</th>\n",
       "      <td>2</td>\n",
       "      <td>20</td>\n",
       "      <td>RL</td>\n",
       "      <td>80.0</td>\n",
       "      <td>9600</td>\n",
       "      <td>Pave</td>\n",
       "      <td>NaN</td>\n",
       "      <td>Reg</td>\n",
       "      <td>Lvl</td>\n",
       "      <td>AllPub</td>\n",
       "      <td>...</td>\n",
       "      <td>0</td>\n",
       "      <td>NaN</td>\n",
       "      <td>NaN</td>\n",
       "      <td>NaN</td>\n",
       "      <td>0</td>\n",
       "      <td>5</td>\n",
       "      <td>2007</td>\n",
       "      <td>WD</td>\n",
       "      <td>Normal</td>\n",
       "      <td>181500</td>\n",
       "    </tr>\n",
       "    <tr>\n",
       "      <th>2</th>\n",
       "      <td>3</td>\n",
       "      <td>60</td>\n",
       "      <td>RL</td>\n",
       "      <td>68.0</td>\n",
       "      <td>11250</td>\n",
       "      <td>Pave</td>\n",
       "      <td>NaN</td>\n",
       "      <td>IR1</td>\n",
       "      <td>Lvl</td>\n",
       "      <td>AllPub</td>\n",
       "      <td>...</td>\n",
       "      <td>0</td>\n",
       "      <td>NaN</td>\n",
       "      <td>NaN</td>\n",
       "      <td>NaN</td>\n",
       "      <td>0</td>\n",
       "      <td>9</td>\n",
       "      <td>2008</td>\n",
       "      <td>WD</td>\n",
       "      <td>Normal</td>\n",
       "      <td>223500</td>\n",
       "    </tr>\n",
       "    <tr>\n",
       "      <th>3</th>\n",
       "      <td>4</td>\n",
       "      <td>70</td>\n",
       "      <td>RL</td>\n",
       "      <td>60.0</td>\n",
       "      <td>9550</td>\n",
       "      <td>Pave</td>\n",
       "      <td>NaN</td>\n",
       "      <td>IR1</td>\n",
       "      <td>Lvl</td>\n",
       "      <td>AllPub</td>\n",
       "      <td>...</td>\n",
       "      <td>0</td>\n",
       "      <td>NaN</td>\n",
       "      <td>NaN</td>\n",
       "      <td>NaN</td>\n",
       "      <td>0</td>\n",
       "      <td>2</td>\n",
       "      <td>2006</td>\n",
       "      <td>WD</td>\n",
       "      <td>Abnorml</td>\n",
       "      <td>140000</td>\n",
       "    </tr>\n",
       "    <tr>\n",
       "      <th>4</th>\n",
       "      <td>5</td>\n",
       "      <td>60</td>\n",
       "      <td>RL</td>\n",
       "      <td>84.0</td>\n",
       "      <td>14260</td>\n",
       "      <td>Pave</td>\n",
       "      <td>NaN</td>\n",
       "      <td>IR1</td>\n",
       "      <td>Lvl</td>\n",
       "      <td>AllPub</td>\n",
       "      <td>...</td>\n",
       "      <td>0</td>\n",
       "      <td>NaN</td>\n",
       "      <td>NaN</td>\n",
       "      <td>NaN</td>\n",
       "      <td>0</td>\n",
       "      <td>12</td>\n",
       "      <td>2008</td>\n",
       "      <td>WD</td>\n",
       "      <td>Normal</td>\n",
       "      <td>250000</td>\n",
       "    </tr>\n",
       "  </tbody>\n",
       "</table>\n",
       "<p>5 rows × 81 columns</p>\n",
       "</div>"
      ],
      "text/plain": [
       "   Id  MSSubClass MSZoning  LotFrontage  LotArea Street Alley LotShape  \\\n",
       "0   1          60       RL         65.0     8450   Pave   NaN      Reg   \n",
       "1   2          20       RL         80.0     9600   Pave   NaN      Reg   \n",
       "2   3          60       RL         68.0    11250   Pave   NaN      IR1   \n",
       "3   4          70       RL         60.0     9550   Pave   NaN      IR1   \n",
       "4   5          60       RL         84.0    14260   Pave   NaN      IR1   \n",
       "\n",
       "  LandContour Utilities  ... PoolArea PoolQC Fence MiscFeature MiscVal MoSold  \\\n",
       "0         Lvl    AllPub  ...        0    NaN   NaN         NaN       0      2   \n",
       "1         Lvl    AllPub  ...        0    NaN   NaN         NaN       0      5   \n",
       "2         Lvl    AllPub  ...        0    NaN   NaN         NaN       0      9   \n",
       "3         Lvl    AllPub  ...        0    NaN   NaN         NaN       0      2   \n",
       "4         Lvl    AllPub  ...        0    NaN   NaN         NaN       0     12   \n",
       "\n",
       "  YrSold  SaleType  SaleCondition  SalePrice  \n",
       "0   2008        WD         Normal     208500  \n",
       "1   2007        WD         Normal     181500  \n",
       "2   2008        WD         Normal     223500  \n",
       "3   2006        WD        Abnorml     140000  \n",
       "4   2008        WD         Normal     250000  \n",
       "\n",
       "[5 rows x 81 columns]"
      ]
     },
     "execution_count": 4,
     "metadata": {},
     "output_type": "execute_result"
    }
   ],
   "source": [
    "df.head() # showing 1st 5 observations of the entire dataframe"
   ]
  },
  {
   "cell_type": "code",
   "execution_count": 5,
   "metadata": {},
   "outputs": [
    {
     "data": {
      "text/plain": [
       "Id                 int64\n",
       "MSSubClass         int64\n",
       "MSZoning          object\n",
       "LotFrontage      float64\n",
       "LotArea            int64\n",
       "                  ...   \n",
       "MoSold             int64\n",
       "YrSold             int64\n",
       "SaleType          object\n",
       "SaleCondition     object\n",
       "SalePrice          int64\n",
       "Length: 81, dtype: object"
      ]
     },
     "execution_count": 5,
     "metadata": {},
     "output_type": "execute_result"
    }
   ],
   "source": [
    "df.dtypes # data types of each features"
   ]
  },
  {
   "cell_type": "code",
   "execution_count": 6,
   "metadata": {},
   "outputs": [
    {
     "data": {
      "text/plain": [
       "Index(['Id', 'MSSubClass', 'MSZoning', 'LotFrontage', 'LotArea', 'Street',\n",
       "       'Alley', 'LotShape', 'LandContour', 'Utilities', 'LotConfig',\n",
       "       'LandSlope', 'Neighborhood', 'Condition1', 'Condition2', 'BldgType',\n",
       "       'HouseStyle', 'OverallQual', 'OverallCond', 'YearBuilt', 'YearRemodAdd',\n",
       "       'RoofStyle', 'RoofMatl', 'Exterior1st', 'Exterior2nd', 'MasVnrType',\n",
       "       'MasVnrArea', 'ExterQual', 'ExterCond', 'Foundation', 'BsmtQual',\n",
       "       'BsmtCond', 'BsmtExposure', 'BsmtFinType1', 'BsmtFinSF1',\n",
       "       'BsmtFinType2', 'BsmtFinSF2', 'BsmtUnfSF', 'TotalBsmtSF', 'Heating',\n",
       "       'HeatingQC', 'CentralAir', 'Electrical', '1stFlrSF', '2ndFlrSF',\n",
       "       'LowQualFinSF', 'GrLivArea', 'BsmtFullBath', 'BsmtHalfBath', 'FullBath',\n",
       "       'HalfBath', 'BedroomAbvGr', 'KitchenAbvGr', 'KitchenQual',\n",
       "       'TotRmsAbvGrd', 'Functional', 'Fireplaces', 'FireplaceQu', 'GarageType',\n",
       "       'GarageYrBlt', 'GarageFinish', 'GarageCars', 'GarageArea', 'GarageQual',\n",
       "       'GarageCond', 'PavedDrive', 'WoodDeckSF', 'OpenPorchSF',\n",
       "       'EnclosedPorch', '3SsnPorch', 'ScreenPorch', 'PoolArea', 'PoolQC',\n",
       "       'Fence', 'MiscFeature', 'MiscVal', 'MoSold', 'YrSold', 'SaleType',\n",
       "       'SaleCondition', 'SalePrice'],\n",
       "      dtype='object')"
      ]
     },
     "execution_count": 6,
     "metadata": {},
     "output_type": "execute_result"
    }
   ],
   "source": [
    "df.columns # all the column names"
   ]
  },
  {
   "cell_type": "code",
   "execution_count": 7,
   "metadata": {},
   "outputs": [
    {
     "data": {
      "text/html": [
       "<div>\n",
       "<style scoped>\n",
       "    .dataframe tbody tr th:only-of-type {\n",
       "        vertical-align: middle;\n",
       "    }\n",
       "\n",
       "    .dataframe tbody tr th {\n",
       "        vertical-align: top;\n",
       "    }\n",
       "\n",
       "    .dataframe thead th {\n",
       "        text-align: right;\n",
       "    }\n",
       "</style>\n",
       "<table border=\"1\" class=\"dataframe\">\n",
       "  <thead>\n",
       "    <tr style=\"text-align: right;\">\n",
       "      <th></th>\n",
       "      <th>Id</th>\n",
       "      <th>MSSubClass</th>\n",
       "      <th>LotFrontage</th>\n",
       "      <th>LotArea</th>\n",
       "      <th>OverallQual</th>\n",
       "      <th>OverallCond</th>\n",
       "      <th>YearBuilt</th>\n",
       "      <th>YearRemodAdd</th>\n",
       "      <th>MasVnrArea</th>\n",
       "      <th>BsmtFinSF1</th>\n",
       "      <th>...</th>\n",
       "      <th>WoodDeckSF</th>\n",
       "      <th>OpenPorchSF</th>\n",
       "      <th>EnclosedPorch</th>\n",
       "      <th>3SsnPorch</th>\n",
       "      <th>ScreenPorch</th>\n",
       "      <th>PoolArea</th>\n",
       "      <th>MiscVal</th>\n",
       "      <th>MoSold</th>\n",
       "      <th>YrSold</th>\n",
       "      <th>SalePrice</th>\n",
       "    </tr>\n",
       "  </thead>\n",
       "  <tbody>\n",
       "    <tr>\n",
       "      <th>count</th>\n",
       "      <td>1460.000000</td>\n",
       "      <td>1460.000000</td>\n",
       "      <td>1201.000000</td>\n",
       "      <td>1460.000000</td>\n",
       "      <td>1460.000000</td>\n",
       "      <td>1460.000000</td>\n",
       "      <td>1460.000000</td>\n",
       "      <td>1460.000000</td>\n",
       "      <td>1452.000000</td>\n",
       "      <td>1460.000000</td>\n",
       "      <td>...</td>\n",
       "      <td>1460.000000</td>\n",
       "      <td>1460.000000</td>\n",
       "      <td>1460.000000</td>\n",
       "      <td>1460.000000</td>\n",
       "      <td>1460.000000</td>\n",
       "      <td>1460.000000</td>\n",
       "      <td>1460.000000</td>\n",
       "      <td>1460.000000</td>\n",
       "      <td>1460.000000</td>\n",
       "      <td>1460.000000</td>\n",
       "    </tr>\n",
       "    <tr>\n",
       "      <th>mean</th>\n",
       "      <td>730.500000</td>\n",
       "      <td>56.897260</td>\n",
       "      <td>70.049958</td>\n",
       "      <td>10516.828082</td>\n",
       "      <td>6.099315</td>\n",
       "      <td>5.575342</td>\n",
       "      <td>1971.267808</td>\n",
       "      <td>1984.865753</td>\n",
       "      <td>103.685262</td>\n",
       "      <td>443.639726</td>\n",
       "      <td>...</td>\n",
       "      <td>94.244521</td>\n",
       "      <td>46.660274</td>\n",
       "      <td>21.954110</td>\n",
       "      <td>3.409589</td>\n",
       "      <td>15.060959</td>\n",
       "      <td>2.758904</td>\n",
       "      <td>43.489041</td>\n",
       "      <td>6.321918</td>\n",
       "      <td>2007.815753</td>\n",
       "      <td>180921.195890</td>\n",
       "    </tr>\n",
       "    <tr>\n",
       "      <th>std</th>\n",
       "      <td>421.610009</td>\n",
       "      <td>42.300571</td>\n",
       "      <td>24.284752</td>\n",
       "      <td>9981.264932</td>\n",
       "      <td>1.382997</td>\n",
       "      <td>1.112799</td>\n",
       "      <td>30.202904</td>\n",
       "      <td>20.645407</td>\n",
       "      <td>181.066207</td>\n",
       "      <td>456.098091</td>\n",
       "      <td>...</td>\n",
       "      <td>125.338794</td>\n",
       "      <td>66.256028</td>\n",
       "      <td>61.119149</td>\n",
       "      <td>29.317331</td>\n",
       "      <td>55.757415</td>\n",
       "      <td>40.177307</td>\n",
       "      <td>496.123024</td>\n",
       "      <td>2.703626</td>\n",
       "      <td>1.328095</td>\n",
       "      <td>79442.502883</td>\n",
       "    </tr>\n",
       "    <tr>\n",
       "      <th>min</th>\n",
       "      <td>1.000000</td>\n",
       "      <td>20.000000</td>\n",
       "      <td>21.000000</td>\n",
       "      <td>1300.000000</td>\n",
       "      <td>1.000000</td>\n",
       "      <td>1.000000</td>\n",
       "      <td>1872.000000</td>\n",
       "      <td>1950.000000</td>\n",
       "      <td>0.000000</td>\n",
       "      <td>0.000000</td>\n",
       "      <td>...</td>\n",
       "      <td>0.000000</td>\n",
       "      <td>0.000000</td>\n",
       "      <td>0.000000</td>\n",
       "      <td>0.000000</td>\n",
       "      <td>0.000000</td>\n",
       "      <td>0.000000</td>\n",
       "      <td>0.000000</td>\n",
       "      <td>1.000000</td>\n",
       "      <td>2006.000000</td>\n",
       "      <td>34900.000000</td>\n",
       "    </tr>\n",
       "    <tr>\n",
       "      <th>25%</th>\n",
       "      <td>365.750000</td>\n",
       "      <td>20.000000</td>\n",
       "      <td>59.000000</td>\n",
       "      <td>7553.500000</td>\n",
       "      <td>5.000000</td>\n",
       "      <td>5.000000</td>\n",
       "      <td>1954.000000</td>\n",
       "      <td>1967.000000</td>\n",
       "      <td>0.000000</td>\n",
       "      <td>0.000000</td>\n",
       "      <td>...</td>\n",
       "      <td>0.000000</td>\n",
       "      <td>0.000000</td>\n",
       "      <td>0.000000</td>\n",
       "      <td>0.000000</td>\n",
       "      <td>0.000000</td>\n",
       "      <td>0.000000</td>\n",
       "      <td>0.000000</td>\n",
       "      <td>5.000000</td>\n",
       "      <td>2007.000000</td>\n",
       "      <td>129975.000000</td>\n",
       "    </tr>\n",
       "    <tr>\n",
       "      <th>50%</th>\n",
       "      <td>730.500000</td>\n",
       "      <td>50.000000</td>\n",
       "      <td>69.000000</td>\n",
       "      <td>9478.500000</td>\n",
       "      <td>6.000000</td>\n",
       "      <td>5.000000</td>\n",
       "      <td>1973.000000</td>\n",
       "      <td>1994.000000</td>\n",
       "      <td>0.000000</td>\n",
       "      <td>383.500000</td>\n",
       "      <td>...</td>\n",
       "      <td>0.000000</td>\n",
       "      <td>25.000000</td>\n",
       "      <td>0.000000</td>\n",
       "      <td>0.000000</td>\n",
       "      <td>0.000000</td>\n",
       "      <td>0.000000</td>\n",
       "      <td>0.000000</td>\n",
       "      <td>6.000000</td>\n",
       "      <td>2008.000000</td>\n",
       "      <td>163000.000000</td>\n",
       "    </tr>\n",
       "    <tr>\n",
       "      <th>75%</th>\n",
       "      <td>1095.250000</td>\n",
       "      <td>70.000000</td>\n",
       "      <td>80.000000</td>\n",
       "      <td>11601.500000</td>\n",
       "      <td>7.000000</td>\n",
       "      <td>6.000000</td>\n",
       "      <td>2000.000000</td>\n",
       "      <td>2004.000000</td>\n",
       "      <td>166.000000</td>\n",
       "      <td>712.250000</td>\n",
       "      <td>...</td>\n",
       "      <td>168.000000</td>\n",
       "      <td>68.000000</td>\n",
       "      <td>0.000000</td>\n",
       "      <td>0.000000</td>\n",
       "      <td>0.000000</td>\n",
       "      <td>0.000000</td>\n",
       "      <td>0.000000</td>\n",
       "      <td>8.000000</td>\n",
       "      <td>2009.000000</td>\n",
       "      <td>214000.000000</td>\n",
       "    </tr>\n",
       "    <tr>\n",
       "      <th>max</th>\n",
       "      <td>1460.000000</td>\n",
       "      <td>190.000000</td>\n",
       "      <td>313.000000</td>\n",
       "      <td>215245.000000</td>\n",
       "      <td>10.000000</td>\n",
       "      <td>9.000000</td>\n",
       "      <td>2010.000000</td>\n",
       "      <td>2010.000000</td>\n",
       "      <td>1600.000000</td>\n",
       "      <td>5644.000000</td>\n",
       "      <td>...</td>\n",
       "      <td>857.000000</td>\n",
       "      <td>547.000000</td>\n",
       "      <td>552.000000</td>\n",
       "      <td>508.000000</td>\n",
       "      <td>480.000000</td>\n",
       "      <td>738.000000</td>\n",
       "      <td>15500.000000</td>\n",
       "      <td>12.000000</td>\n",
       "      <td>2010.000000</td>\n",
       "      <td>755000.000000</td>\n",
       "    </tr>\n",
       "  </tbody>\n",
       "</table>\n",
       "<p>8 rows × 38 columns</p>\n",
       "</div>"
      ],
      "text/plain": [
       "                Id   MSSubClass  LotFrontage        LotArea  OverallQual  \\\n",
       "count  1460.000000  1460.000000  1201.000000    1460.000000  1460.000000   \n",
       "mean    730.500000    56.897260    70.049958   10516.828082     6.099315   \n",
       "std     421.610009    42.300571    24.284752    9981.264932     1.382997   \n",
       "min       1.000000    20.000000    21.000000    1300.000000     1.000000   \n",
       "25%     365.750000    20.000000    59.000000    7553.500000     5.000000   \n",
       "50%     730.500000    50.000000    69.000000    9478.500000     6.000000   \n",
       "75%    1095.250000    70.000000    80.000000   11601.500000     7.000000   \n",
       "max    1460.000000   190.000000   313.000000  215245.000000    10.000000   \n",
       "\n",
       "       OverallCond    YearBuilt  YearRemodAdd   MasVnrArea   BsmtFinSF1  ...  \\\n",
       "count  1460.000000  1460.000000   1460.000000  1452.000000  1460.000000  ...   \n",
       "mean      5.575342  1971.267808   1984.865753   103.685262   443.639726  ...   \n",
       "std       1.112799    30.202904     20.645407   181.066207   456.098091  ...   \n",
       "min       1.000000  1872.000000   1950.000000     0.000000     0.000000  ...   \n",
       "25%       5.000000  1954.000000   1967.000000     0.000000     0.000000  ...   \n",
       "50%       5.000000  1973.000000   1994.000000     0.000000   383.500000  ...   \n",
       "75%       6.000000  2000.000000   2004.000000   166.000000   712.250000  ...   \n",
       "max       9.000000  2010.000000   2010.000000  1600.000000  5644.000000  ...   \n",
       "\n",
       "        WoodDeckSF  OpenPorchSF  EnclosedPorch    3SsnPorch  ScreenPorch  \\\n",
       "count  1460.000000  1460.000000    1460.000000  1460.000000  1460.000000   \n",
       "mean     94.244521    46.660274      21.954110     3.409589    15.060959   \n",
       "std     125.338794    66.256028      61.119149    29.317331    55.757415   \n",
       "min       0.000000     0.000000       0.000000     0.000000     0.000000   \n",
       "25%       0.000000     0.000000       0.000000     0.000000     0.000000   \n",
       "50%       0.000000    25.000000       0.000000     0.000000     0.000000   \n",
       "75%     168.000000    68.000000       0.000000     0.000000     0.000000   \n",
       "max     857.000000   547.000000     552.000000   508.000000   480.000000   \n",
       "\n",
       "          PoolArea       MiscVal       MoSold       YrSold      SalePrice  \n",
       "count  1460.000000   1460.000000  1460.000000  1460.000000    1460.000000  \n",
       "mean      2.758904     43.489041     6.321918  2007.815753  180921.195890  \n",
       "std      40.177307    496.123024     2.703626     1.328095   79442.502883  \n",
       "min       0.000000      0.000000     1.000000  2006.000000   34900.000000  \n",
       "25%       0.000000      0.000000     5.000000  2007.000000  129975.000000  \n",
       "50%       0.000000      0.000000     6.000000  2008.000000  163000.000000  \n",
       "75%       0.000000      0.000000     8.000000  2009.000000  214000.000000  \n",
       "max     738.000000  15500.000000    12.000000  2010.000000  755000.000000  \n",
       "\n",
       "[8 rows x 38 columns]"
      ]
     },
     "execution_count": 7,
     "metadata": {},
     "output_type": "execute_result"
    }
   ],
   "source": [
    "df.describe() # showing some basic statistical calculations for all the continuous variables"
   ]
  },
  {
   "cell_type": "code",
   "execution_count": 8,
   "metadata": {},
   "outputs": [
    {
     "data": {
      "text/html": [
       "<div>\n",
       "<style scoped>\n",
       "    .dataframe tbody tr th:only-of-type {\n",
       "        vertical-align: middle;\n",
       "    }\n",
       "\n",
       "    .dataframe tbody tr th {\n",
       "        vertical-align: top;\n",
       "    }\n",
       "\n",
       "    .dataframe thead th {\n",
       "        text-align: right;\n",
       "    }\n",
       "</style>\n",
       "<table border=\"1\" class=\"dataframe\">\n",
       "  <thead>\n",
       "    <tr style=\"text-align: right;\">\n",
       "      <th></th>\n",
       "      <th>0</th>\n",
       "    </tr>\n",
       "  </thead>\n",
       "  <tbody>\n",
       "    <tr>\n",
       "      <th>PoolQC</th>\n",
       "      <td>1453</td>\n",
       "    </tr>\n",
       "    <tr>\n",
       "      <th>MiscFeature</th>\n",
       "      <td>1406</td>\n",
       "    </tr>\n",
       "    <tr>\n",
       "      <th>Alley</th>\n",
       "      <td>1369</td>\n",
       "    </tr>\n",
       "    <tr>\n",
       "      <th>Fence</th>\n",
       "      <td>1179</td>\n",
       "    </tr>\n",
       "    <tr>\n",
       "      <th>FireplaceQu</th>\n",
       "      <td>690</td>\n",
       "    </tr>\n",
       "    <tr>\n",
       "      <th>LotFrontage</th>\n",
       "      <td>259</td>\n",
       "    </tr>\n",
       "    <tr>\n",
       "      <th>GarageYrBlt</th>\n",
       "      <td>81</td>\n",
       "    </tr>\n",
       "    <tr>\n",
       "      <th>GarageCond</th>\n",
       "      <td>81</td>\n",
       "    </tr>\n",
       "    <tr>\n",
       "      <th>GarageType</th>\n",
       "      <td>81</td>\n",
       "    </tr>\n",
       "    <tr>\n",
       "      <th>GarageFinish</th>\n",
       "      <td>81</td>\n",
       "    </tr>\n",
       "    <tr>\n",
       "      <th>GarageQual</th>\n",
       "      <td>81</td>\n",
       "    </tr>\n",
       "    <tr>\n",
       "      <th>BsmtFinType2</th>\n",
       "      <td>38</td>\n",
       "    </tr>\n",
       "    <tr>\n",
       "      <th>BsmtExposure</th>\n",
       "      <td>38</td>\n",
       "    </tr>\n",
       "    <tr>\n",
       "      <th>BsmtQual</th>\n",
       "      <td>37</td>\n",
       "    </tr>\n",
       "    <tr>\n",
       "      <th>BsmtCond</th>\n",
       "      <td>37</td>\n",
       "    </tr>\n",
       "    <tr>\n",
       "      <th>BsmtFinType1</th>\n",
       "      <td>37</td>\n",
       "    </tr>\n",
       "    <tr>\n",
       "      <th>MasVnrArea</th>\n",
       "      <td>8</td>\n",
       "    </tr>\n",
       "    <tr>\n",
       "      <th>MasVnrType</th>\n",
       "      <td>8</td>\n",
       "    </tr>\n",
       "    <tr>\n",
       "      <th>Electrical</th>\n",
       "      <td>1</td>\n",
       "    </tr>\n",
       "    <tr>\n",
       "      <th>Id</th>\n",
       "      <td>0</td>\n",
       "    </tr>\n",
       "  </tbody>\n",
       "</table>\n",
       "</div>"
      ],
      "text/plain": [
       "                 0\n",
       "PoolQC        1453\n",
       "MiscFeature   1406\n",
       "Alley         1369\n",
       "Fence         1179\n",
       "FireplaceQu    690\n",
       "LotFrontage    259\n",
       "GarageYrBlt     81\n",
       "GarageCond      81\n",
       "GarageType      81\n",
       "GarageFinish    81\n",
       "GarageQual      81\n",
       "BsmtFinType2    38\n",
       "BsmtExposure    38\n",
       "BsmtQual        37\n",
       "BsmtCond        37\n",
       "BsmtFinType1    37\n",
       "MasVnrArea       8\n",
       "MasVnrType       8\n",
       "Electrical       1\n",
       "Id               0"
      ]
     },
     "execution_count": 8,
     "metadata": {},
     "output_type": "execute_result"
    }
   ],
   "source": [
    "missing = pd.DataFrame(df.isnull().sum()).sort_values(by = 0, ascending = False) \n",
    "# there are total 1460 rows\n",
    "missing.head(20) # showing the total missing values for each features going from highest to lowest"
   ]
  },
  {
   "cell_type": "code",
   "execution_count": 9,
   "metadata": {},
   "outputs": [
    {
     "data": {
      "text/html": [
       "<div>\n",
       "<style scoped>\n",
       "    .dataframe tbody tr th:only-of-type {\n",
       "        vertical-align: middle;\n",
       "    }\n",
       "\n",
       "    .dataframe tbody tr th {\n",
       "        vertical-align: top;\n",
       "    }\n",
       "\n",
       "    .dataframe thead th {\n",
       "        text-align: right;\n",
       "    }\n",
       "</style>\n",
       "<table border=\"1\" class=\"dataframe\">\n",
       "  <thead>\n",
       "    <tr style=\"text-align: right;\">\n",
       "      <th></th>\n",
       "      <th></th>\n",
       "      <th>0</th>\n",
       "    </tr>\n",
       "  </thead>\n",
       "  <tbody>\n",
       "    <tr>\n",
       "      <th>SalePrice</th>\n",
       "      <th>SalePrice</th>\n",
       "      <td>1.000000</td>\n",
       "    </tr>\n",
       "    <tr>\n",
       "      <th>GarageCars</th>\n",
       "      <th>GarageArea</th>\n",
       "      <td>0.882475</td>\n",
       "    </tr>\n",
       "    <tr>\n",
       "      <th>GarageYrBlt</th>\n",
       "      <th>YearBuilt</th>\n",
       "      <td>0.825667</td>\n",
       "    </tr>\n",
       "    <tr>\n",
       "      <th>GrLivArea</th>\n",
       "      <th>TotRmsAbvGrd</th>\n",
       "      <td>0.825489</td>\n",
       "    </tr>\n",
       "    <tr>\n",
       "      <th>1stFlrSF</th>\n",
       "      <th>TotalBsmtSF</th>\n",
       "      <td>0.819530</td>\n",
       "    </tr>\n",
       "    <tr>\n",
       "      <th>SalePrice</th>\n",
       "      <th>OverallQual</th>\n",
       "      <td>0.790982</td>\n",
       "    </tr>\n",
       "    <tr>\n",
       "      <th rowspan=\"2\" valign=\"top\">GrLivArea</th>\n",
       "      <th>SalePrice</th>\n",
       "      <td>0.708624</td>\n",
       "    </tr>\n",
       "    <tr>\n",
       "      <th>2ndFlrSF</th>\n",
       "      <td>0.687501</td>\n",
       "    </tr>\n",
       "    <tr>\n",
       "      <th>BedroomAbvGr</th>\n",
       "      <th>TotRmsAbvGrd</th>\n",
       "      <td>0.676620</td>\n",
       "    </tr>\n",
       "    <tr>\n",
       "      <th>BsmtFinSF1</th>\n",
       "      <th>BsmtFullBath</th>\n",
       "      <td>0.649212</td>\n",
       "    </tr>\n",
       "    <tr>\n",
       "      <th>GarageYrBlt</th>\n",
       "      <th>YearRemodAdd</th>\n",
       "      <td>0.642277</td>\n",
       "    </tr>\n",
       "    <tr>\n",
       "      <th>SalePrice</th>\n",
       "      <th>GarageCars</th>\n",
       "      <td>0.640409</td>\n",
       "    </tr>\n",
       "    <tr>\n",
       "      <th>FullBath</th>\n",
       "      <th>GrLivArea</th>\n",
       "      <td>0.630012</td>\n",
       "    </tr>\n",
       "    <tr>\n",
       "      <th>GarageArea</th>\n",
       "      <th>SalePrice</th>\n",
       "      <td>0.623431</td>\n",
       "    </tr>\n",
       "    <tr>\n",
       "      <th>TotRmsAbvGrd</th>\n",
       "      <th>2ndFlrSF</th>\n",
       "      <td>0.616423</td>\n",
       "    </tr>\n",
       "    <tr>\n",
       "      <th>TotalBsmtSF</th>\n",
       "      <th>SalePrice</th>\n",
       "      <td>0.613581</td>\n",
       "    </tr>\n",
       "    <tr>\n",
       "      <th>2ndFlrSF</th>\n",
       "      <th>HalfBath</th>\n",
       "      <td>0.609707</td>\n",
       "    </tr>\n",
       "    <tr>\n",
       "      <th>1stFlrSF</th>\n",
       "      <th>SalePrice</th>\n",
       "      <td>0.605852</td>\n",
       "    </tr>\n",
       "    <tr>\n",
       "      <th>GarageCars</th>\n",
       "      <th>OverallQual</th>\n",
       "      <td>0.600671</td>\n",
       "    </tr>\n",
       "    <tr>\n",
       "      <th>GrLivArea</th>\n",
       "      <th>OverallQual</th>\n",
       "      <td>0.593007</td>\n",
       "    </tr>\n",
       "    <tr>\n",
       "      <th>YearRemodAdd</th>\n",
       "      <th>YearBuilt</th>\n",
       "      <td>0.592855</td>\n",
       "    </tr>\n",
       "    <tr>\n",
       "      <th>GarageCars</th>\n",
       "      <th>GarageYrBlt</th>\n",
       "      <td>0.588920</td>\n",
       "    </tr>\n",
       "    <tr>\n",
       "      <th>YearBuilt</th>\n",
       "      <th>OverallQual</th>\n",
       "      <td>0.572323</td>\n",
       "    </tr>\n",
       "    <tr>\n",
       "      <th>GrLivArea</th>\n",
       "      <th>1stFlrSF</th>\n",
       "      <td>0.566024</td>\n",
       "    </tr>\n",
       "    <tr>\n",
       "      <th>GarageArea</th>\n",
       "      <th>GarageYrBlt</th>\n",
       "      <td>0.564567</td>\n",
       "    </tr>\n",
       "    <tr>\n",
       "      <th>OverallQual</th>\n",
       "      <th>GarageArea</th>\n",
       "      <td>0.562022</td>\n",
       "    </tr>\n",
       "    <tr>\n",
       "      <th rowspan=\"2\" valign=\"top\">FullBath</th>\n",
       "      <th>SalePrice</th>\n",
       "      <td>0.560664</td>\n",
       "    </tr>\n",
       "    <tr>\n",
       "      <th>TotRmsAbvGrd</th>\n",
       "      <td>0.554784</td>\n",
       "    </tr>\n",
       "    <tr>\n",
       "      <th>YearRemodAdd</th>\n",
       "      <th>OverallQual</th>\n",
       "      <td>0.550684</td>\n",
       "    </tr>\n",
       "    <tr>\n",
       "      <th>OverallQual</th>\n",
       "      <th>FullBath</th>\n",
       "      <td>0.550600</td>\n",
       "    </tr>\n",
       "  </tbody>\n",
       "</table>\n",
       "</div>"
      ],
      "text/plain": [
       "                                  0\n",
       "SalePrice    SalePrice     1.000000\n",
       "GarageCars   GarageArea    0.882475\n",
       "GarageYrBlt  YearBuilt     0.825667\n",
       "GrLivArea    TotRmsAbvGrd  0.825489\n",
       "1stFlrSF     TotalBsmtSF   0.819530\n",
       "SalePrice    OverallQual   0.790982\n",
       "GrLivArea    SalePrice     0.708624\n",
       "             2ndFlrSF      0.687501\n",
       "BedroomAbvGr TotRmsAbvGrd  0.676620\n",
       "BsmtFinSF1   BsmtFullBath  0.649212\n",
       "GarageYrBlt  YearRemodAdd  0.642277\n",
       "SalePrice    GarageCars    0.640409\n",
       "FullBath     GrLivArea     0.630012\n",
       "GarageArea   SalePrice     0.623431\n",
       "TotRmsAbvGrd 2ndFlrSF      0.616423\n",
       "TotalBsmtSF  SalePrice     0.613581\n",
       "2ndFlrSF     HalfBath      0.609707\n",
       "1stFlrSF     SalePrice     0.605852\n",
       "GarageCars   OverallQual   0.600671\n",
       "GrLivArea    OverallQual   0.593007\n",
       "YearRemodAdd YearBuilt     0.592855\n",
       "GarageCars   GarageYrBlt   0.588920\n",
       "YearBuilt    OverallQual   0.572323\n",
       "GrLivArea    1stFlrSF      0.566024\n",
       "GarageArea   GarageYrBlt   0.564567\n",
       "OverallQual  GarageArea    0.562022\n",
       "FullBath     SalePrice     0.560664\n",
       "             TotRmsAbvGrd  0.554784\n",
       "YearRemodAdd OverallQual   0.550684\n",
       "OverallQual  FullBath      0.550600"
      ]
     },
     "execution_count": 9,
     "metadata": {},
     "output_type": "execute_result"
    }
   ],
   "source": [
    "# correlation coefficient for all the continuous variables, showing first 30 highest to lowest values\n",
    "pd.DataFrame(df.corr().unstack().sort_values(ascending=False).drop_duplicates()).head(30)"
   ]
  },
  {
   "cell_type": "markdown",
   "metadata": {},
   "source": [
    "# Structure & Utilities"
   ]
  },
  {
   "cell_type": "code",
   "execution_count": 10,
   "metadata": {},
   "outputs": [],
   "source": [
    "strut = df[['Id', 'SalePrice', 'YearBuilt','YearRemodAdd', 'MSSubClass', 'MSZoning', 'BldgType', 'HouseStyle', 'OverallQual', 'OverallCond',  \\\n",
    "           'RoofStyle', 'RoofMatl', 'Exterior1st', 'Exterior2nd', 'MasVnrType', 'MasVnrArea', \\\n",
    "          'ExterQual', 'ExterCond', 'Foundation', 'Utilities', 'Heating', 'HeatingQC', 'CentralAir', 'Electrical']]"
   ]
  },
  {
   "cell_type": "code",
   "execution_count": 11,
   "metadata": {},
   "outputs": [
    {
     "name": "stderr",
     "output_type": "stream",
     "text": [
      "/Users/suborna/opt/anaconda3/lib/python3.7/site-packages/pandas/core/generic.py:5303: SettingWithCopyWarning: \n",
      "A value is trying to be set on a copy of a slice from a DataFrame.\n",
      "Try using .loc[row_indexer,col_indexer] = value instead\n",
      "\n",
      "See the caveats in the documentation: https://pandas.pydata.org/pandas-docs/stable/user_guide/indexing.html#returning-a-view-versus-a-copy\n",
      "  self[name] = value\n"
     ]
    }
   ],
   "source": [
    "strut.SalePrice = np.log(strut.SalePrice)"
   ]
  },
  {
   "cell_type": "code",
   "execution_count": 12,
   "metadata": {},
   "outputs": [
    {
     "data": {
      "text/plain": [
       "495     10.460242\n",
       "916     10.471950\n",
       "968     10.542706\n",
       "533     10.578980\n",
       "30      10.596635\n",
       "          ...    \n",
       "803     13.275828\n",
       "898     13.323927\n",
       "1169    13.345507\n",
       "1182    13.521139\n",
       "691     13.534473\n",
       "Name: SalePrice, Length: 1460, dtype: float64"
      ]
     },
     "execution_count": 12,
     "metadata": {},
     "output_type": "execute_result"
    }
   ],
   "source": [
    "strut.SalePrice.sort_values()"
   ]
  },
  {
   "cell_type": "code",
   "execution_count": 13,
   "metadata": {},
   "outputs": [
    {
     "data": {
      "text/plain": [
       "(1460, 24)"
      ]
     },
     "execution_count": 13,
     "metadata": {},
     "output_type": "execute_result"
    }
   ],
   "source": [
    "strut.shape"
   ]
  },
  {
   "cell_type": "code",
   "execution_count": 14,
   "metadata": {},
   "outputs": [
    {
     "data": {
      "text/plain": [
       "Id                int64\n",
       "SalePrice       float64\n",
       "YearBuilt         int64\n",
       "YearRemodAdd      int64\n",
       "MSSubClass        int64\n",
       "MSZoning         object\n",
       "BldgType         object\n",
       "HouseStyle       object\n",
       "OverallQual       int64\n",
       "OverallCond       int64\n",
       "RoofStyle        object\n",
       "RoofMatl         object\n",
       "Exterior1st      object\n",
       "Exterior2nd      object\n",
       "MasVnrType       object\n",
       "MasVnrArea      float64\n",
       "ExterQual        object\n",
       "ExterCond        object\n",
       "Foundation       object\n",
       "Utilities        object\n",
       "Heating          object\n",
       "HeatingQC        object\n",
       "CentralAir       object\n",
       "Electrical       object\n",
       "dtype: object"
      ]
     },
     "execution_count": 14,
     "metadata": {},
     "output_type": "execute_result"
    }
   ],
   "source": [
    "strut.dtypes"
   ]
  },
  {
   "cell_type": "code",
   "execution_count": 15,
   "metadata": {},
   "outputs": [
    {
     "data": {
      "text/html": [
       "<div>\n",
       "<style scoped>\n",
       "    .dataframe tbody tr th:only-of-type {\n",
       "        vertical-align: middle;\n",
       "    }\n",
       "\n",
       "    .dataframe tbody tr th {\n",
       "        vertical-align: top;\n",
       "    }\n",
       "\n",
       "    .dataframe thead th {\n",
       "        text-align: right;\n",
       "    }\n",
       "</style>\n",
       "<table border=\"1\" class=\"dataframe\">\n",
       "  <thead>\n",
       "    <tr style=\"text-align: right;\">\n",
       "      <th></th>\n",
       "      <th>Id</th>\n",
       "      <th>SalePrice</th>\n",
       "      <th>YearBuilt</th>\n",
       "      <th>YearRemodAdd</th>\n",
       "      <th>MSSubClass</th>\n",
       "      <th>MSZoning</th>\n",
       "      <th>BldgType</th>\n",
       "      <th>HouseStyle</th>\n",
       "      <th>OverallQual</th>\n",
       "      <th>OverallCond</th>\n",
       "      <th>...</th>\n",
       "      <th>MasVnrType</th>\n",
       "      <th>MasVnrArea</th>\n",
       "      <th>ExterQual</th>\n",
       "      <th>ExterCond</th>\n",
       "      <th>Foundation</th>\n",
       "      <th>Utilities</th>\n",
       "      <th>Heating</th>\n",
       "      <th>HeatingQC</th>\n",
       "      <th>CentralAir</th>\n",
       "      <th>Electrical</th>\n",
       "    </tr>\n",
       "  </thead>\n",
       "  <tbody>\n",
       "    <tr>\n",
       "      <th>0</th>\n",
       "      <td>1</td>\n",
       "      <td>12.247694</td>\n",
       "      <td>2003</td>\n",
       "      <td>2003</td>\n",
       "      <td>60</td>\n",
       "      <td>RL</td>\n",
       "      <td>1Fam</td>\n",
       "      <td>2Story</td>\n",
       "      <td>7</td>\n",
       "      <td>5</td>\n",
       "      <td>...</td>\n",
       "      <td>BrkFace</td>\n",
       "      <td>196.0</td>\n",
       "      <td>Gd</td>\n",
       "      <td>TA</td>\n",
       "      <td>PConc</td>\n",
       "      <td>AllPub</td>\n",
       "      <td>GasA</td>\n",
       "      <td>Ex</td>\n",
       "      <td>Y</td>\n",
       "      <td>SBrkr</td>\n",
       "    </tr>\n",
       "    <tr>\n",
       "      <th>1</th>\n",
       "      <td>2</td>\n",
       "      <td>12.109011</td>\n",
       "      <td>1976</td>\n",
       "      <td>1976</td>\n",
       "      <td>20</td>\n",
       "      <td>RL</td>\n",
       "      <td>1Fam</td>\n",
       "      <td>1Story</td>\n",
       "      <td>6</td>\n",
       "      <td>8</td>\n",
       "      <td>...</td>\n",
       "      <td>None</td>\n",
       "      <td>0.0</td>\n",
       "      <td>TA</td>\n",
       "      <td>TA</td>\n",
       "      <td>CBlock</td>\n",
       "      <td>AllPub</td>\n",
       "      <td>GasA</td>\n",
       "      <td>Ex</td>\n",
       "      <td>Y</td>\n",
       "      <td>SBrkr</td>\n",
       "    </tr>\n",
       "    <tr>\n",
       "      <th>2</th>\n",
       "      <td>3</td>\n",
       "      <td>12.317167</td>\n",
       "      <td>2001</td>\n",
       "      <td>2002</td>\n",
       "      <td>60</td>\n",
       "      <td>RL</td>\n",
       "      <td>1Fam</td>\n",
       "      <td>2Story</td>\n",
       "      <td>7</td>\n",
       "      <td>5</td>\n",
       "      <td>...</td>\n",
       "      <td>BrkFace</td>\n",
       "      <td>162.0</td>\n",
       "      <td>Gd</td>\n",
       "      <td>TA</td>\n",
       "      <td>PConc</td>\n",
       "      <td>AllPub</td>\n",
       "      <td>GasA</td>\n",
       "      <td>Ex</td>\n",
       "      <td>Y</td>\n",
       "      <td>SBrkr</td>\n",
       "    </tr>\n",
       "    <tr>\n",
       "      <th>3</th>\n",
       "      <td>4</td>\n",
       "      <td>11.849398</td>\n",
       "      <td>1915</td>\n",
       "      <td>1970</td>\n",
       "      <td>70</td>\n",
       "      <td>RL</td>\n",
       "      <td>1Fam</td>\n",
       "      <td>2Story</td>\n",
       "      <td>7</td>\n",
       "      <td>5</td>\n",
       "      <td>...</td>\n",
       "      <td>None</td>\n",
       "      <td>0.0</td>\n",
       "      <td>TA</td>\n",
       "      <td>TA</td>\n",
       "      <td>BrkTil</td>\n",
       "      <td>AllPub</td>\n",
       "      <td>GasA</td>\n",
       "      <td>Gd</td>\n",
       "      <td>Y</td>\n",
       "      <td>SBrkr</td>\n",
       "    </tr>\n",
       "    <tr>\n",
       "      <th>4</th>\n",
       "      <td>5</td>\n",
       "      <td>12.429216</td>\n",
       "      <td>2000</td>\n",
       "      <td>2000</td>\n",
       "      <td>60</td>\n",
       "      <td>RL</td>\n",
       "      <td>1Fam</td>\n",
       "      <td>2Story</td>\n",
       "      <td>8</td>\n",
       "      <td>5</td>\n",
       "      <td>...</td>\n",
       "      <td>BrkFace</td>\n",
       "      <td>350.0</td>\n",
       "      <td>Gd</td>\n",
       "      <td>TA</td>\n",
       "      <td>PConc</td>\n",
       "      <td>AllPub</td>\n",
       "      <td>GasA</td>\n",
       "      <td>Ex</td>\n",
       "      <td>Y</td>\n",
       "      <td>SBrkr</td>\n",
       "    </tr>\n",
       "  </tbody>\n",
       "</table>\n",
       "<p>5 rows × 24 columns</p>\n",
       "</div>"
      ],
      "text/plain": [
       "   Id  SalePrice  YearBuilt  YearRemodAdd  MSSubClass MSZoning BldgType  \\\n",
       "0   1  12.247694       2003          2003          60       RL     1Fam   \n",
       "1   2  12.109011       1976          1976          20       RL     1Fam   \n",
       "2   3  12.317167       2001          2002          60       RL     1Fam   \n",
       "3   4  11.849398       1915          1970          70       RL     1Fam   \n",
       "4   5  12.429216       2000          2000          60       RL     1Fam   \n",
       "\n",
       "  HouseStyle  OverallQual  OverallCond  ... MasVnrType MasVnrArea ExterQual  \\\n",
       "0     2Story            7            5  ...    BrkFace      196.0        Gd   \n",
       "1     1Story            6            8  ...       None        0.0        TA   \n",
       "2     2Story            7            5  ...    BrkFace      162.0        Gd   \n",
       "3     2Story            7            5  ...       None        0.0        TA   \n",
       "4     2Story            8            5  ...    BrkFace      350.0        Gd   \n",
       "\n",
       "  ExterCond Foundation  Utilities Heating HeatingQC CentralAir Electrical  \n",
       "0        TA      PConc     AllPub    GasA        Ex          Y      SBrkr  \n",
       "1        TA     CBlock     AllPub    GasA        Ex          Y      SBrkr  \n",
       "2        TA      PConc     AllPub    GasA        Ex          Y      SBrkr  \n",
       "3        TA     BrkTil     AllPub    GasA        Gd          Y      SBrkr  \n",
       "4        TA      PConc     AllPub    GasA        Ex          Y      SBrkr  \n",
       "\n",
       "[5 rows x 24 columns]"
      ]
     },
     "execution_count": 15,
     "metadata": {},
     "output_type": "execute_result"
    }
   ],
   "source": [
    "strut.head()"
   ]
  },
  {
   "cell_type": "markdown",
   "metadata": {},
   "source": [
    "# Missingness"
   ]
  },
  {
   "cell_type": "code",
   "execution_count": 16,
   "metadata": {},
   "outputs": [
    {
     "data": {
      "text/plain": [
       "MasVnrArea      8\n",
       "MasVnrType      8\n",
       "Electrical      1\n",
       "RoofStyle       0\n",
       "SalePrice       0\n",
       "YearBuilt       0\n",
       "YearRemodAdd    0\n",
       "MSSubClass      0\n",
       "MSZoning        0\n",
       "BldgType        0\n",
       "HouseStyle      0\n",
       "OverallQual     0\n",
       "OverallCond     0\n",
       "RoofMatl        0\n",
       "CentralAir      0\n",
       "Exterior1st     0\n",
       "Exterior2nd     0\n",
       "ExterQual       0\n",
       "ExterCond       0\n",
       "Foundation      0\n",
       "Utilities       0\n",
       "Heating         0\n",
       "HeatingQC       0\n",
       "Id              0\n",
       "dtype: int64"
      ]
     },
     "execution_count": 16,
     "metadata": {},
     "output_type": "execute_result"
    }
   ],
   "source": [
    "(strut.isnull().sum()).sort_values(ascending = False)# sum of missing values for each column"
   ]
  },
  {
   "cell_type": "code",
   "execution_count": 17,
   "metadata": {},
   "outputs": [
    {
     "data": {
      "text/plain": [
       "1459    0.0\n",
       "620     0.0\n",
       "621     0.0\n",
       "1140    0.0\n",
       "1139    0.0\n",
       "       ... \n",
       "936     NaN\n",
       "973     NaN\n",
       "977     NaN\n",
       "1243    NaN\n",
       "1278    NaN\n",
       "Name: MasVnrArea, Length: 1460, dtype: float64"
      ]
     },
     "execution_count": 17,
     "metadata": {},
     "output_type": "execute_result"
    }
   ],
   "source": [
    "strut.MasVnrArea.sort_values(ascending = True) "
   ]
  },
  {
   "cell_type": "code",
   "execution_count": 18,
   "metadata": {},
   "outputs": [
    {
     "name": "stderr",
     "output_type": "stream",
     "text": [
      "/Users/suborna/opt/anaconda3/lib/python3.7/site-packages/pandas/core/generic.py:5303: SettingWithCopyWarning: \n",
      "A value is trying to be set on a copy of a slice from a DataFrame.\n",
      "Try using .loc[row_indexer,col_indexer] = value instead\n",
      "\n",
      "See the caveats in the documentation: https://pandas.pydata.org/pandas-docs/stable/user_guide/indexing.html#returning-a-view-versus-a-copy\n",
      "  self[name] = value\n"
     ]
    }
   ],
   "source": [
    "strut.MasVnrArea = strut.MasVnrArea.replace(np.nan, 0) # replacing NaN values with 0 (MasVnrArea)"
   ]
  },
  {
   "cell_type": "code",
   "execution_count": 19,
   "metadata": {},
   "outputs": [
    {
     "data": {
      "text/plain": [
       "0"
      ]
     },
     "execution_count": 19,
     "metadata": {},
     "output_type": "execute_result"
    }
   ],
   "source": [
    "strut.MasVnrArea.isnull().sum() # making sure above worked"
   ]
  },
  {
   "cell_type": "code",
   "execution_count": 20,
   "metadata": {},
   "outputs": [],
   "source": [
    "strut.MasVnrType = strut.MasVnrType.replace(np.nan, 'NA') # replacing NaN with NA (MasVnrType)"
   ]
  },
  {
   "cell_type": "code",
   "execution_count": 21,
   "metadata": {
    "scrolled": true
   },
   "outputs": [
    {
     "data": {
      "text/plain": [
       "0"
      ]
     },
     "execution_count": 21,
     "metadata": {},
     "output_type": "execute_result"
    }
   ],
   "source": [
    "strut.MasVnrType.isnull().sum() # confirming above worked "
   ]
  },
  {
   "cell_type": "code",
   "execution_count": 22,
   "metadata": {
    "scrolled": true
   },
   "outputs": [
    {
     "data": {
      "text/plain": [
       "<matplotlib.axes._subplots.AxesSubplot at 0x1a1aeb5d10>"
      ]
     },
     "execution_count": 22,
     "metadata": {},
     "output_type": "execute_result"
    },
    {
     "data": {
      "image/png": "[encoded data removed]",
      "text/plain": [
       "<Figure size 432x288 with 1 Axes>"
      ]
     },
     "metadata": {
      "needs_background": "light"
     },
     "output_type": "display_data"
    }
   ],
   "source": [
    "sns.scatterplot(x = 'YearBuilt', y = 'SalePrice',  data = strut )"
   ]
  },
  {
   "cell_type": "code",
   "execution_count": 23,
   "metadata": {},
   "outputs": [
    {
     "data": {
      "text/plain": [
       "<matplotlib.axes._subplots.AxesSubplot at 0x1a1b065310>"
      ]
     },
     "execution_count": 23,
     "metadata": {},
     "output_type": "execute_result"
    },
    {
     "data": {
      "image/png": "[encoded data removed]",
      "text/plain": [
       "<Figure size 432x288 with 1 Axes>"
      ]
     },
     "metadata": {
      "needs_background": "light"
     },
     "output_type": "display_data"
    }
   ],
   "source": [
    "sns.scatterplot(x = 'YearRemodAdd', y = 'SalePrice',  data = strut )"
   ]
  },
  {
   "cell_type": "markdown",
   "metadata": {},
   "source": [
    "# Utilities (drop)"
   ]
  },
  {
   "cell_type": "code",
   "execution_count": 24,
   "metadata": {},
   "outputs": [
    {
     "data": {
      "text/plain": [
       "<seaborn.axisgrid.FacetGrid at 0x1a1b0bea90>"
      ]
     },
     "execution_count": 24,
     "metadata": {},
     "output_type": "execute_result"
    },
    {
     "data": {
      "image/png": "[encoded data removed]",
      "text/plain": [
       "<Figure size 518.4x432 with 1 Axes>"
      ]
     },
     "metadata": {
      "needs_background": "light"
     },
     "output_type": "display_data"
    }
   ],
   "source": [
    "sns.catplot(x=\"Utilities\", y=\"SalePrice\", kind=\"box\", data=strut, height=6, aspect=1.2) # boxplot of utilities"
   ]
  },
  {
   "cell_type": "code",
   "execution_count": 25,
   "metadata": {},
   "outputs": [
    {
     "data": {
      "text/plain": [
       "<seaborn.axisgrid.FacetGrid at 0x1a1b0d9550>"
      ]
     },
     "execution_count": 25,
     "metadata": {},
     "output_type": "execute_result"
    },
    {
     "data": {
      "image/png": "[encoded data removed]",
      "text/plain": [
       "<Figure size 518.4x432 with 1 Axes>"
      ]
     },
     "metadata": {
      "needs_background": "light"
     },
     "output_type": "display_data"
    }
   ],
   "source": [
    "sns.catplot(x=\"Utilities\", y=\"SalePrice\", kind=\"bar\", data=strut, height=6, aspect=1.2) # boxplot of utilities"
   ]
  },
  {
   "cell_type": "code",
   "execution_count": 26,
   "metadata": {},
   "outputs": [
    {
     "data": {
      "text/plain": [
       "12.024182958480877"
      ]
     },
     "execution_count": 26,
     "metadata": {},
     "output_type": "execute_result"
    }
   ],
   "source": [
    "strut.SalePrice[strut.Utilities == 'AllPub'].mean() # mean of category 1 utilities"
   ]
  },
  {
   "cell_type": "code",
   "execution_count": 27,
   "metadata": {},
   "outputs": [
    {
     "data": {
      "text/plain": [
       "944    11.831379\n",
       "Name: SalePrice, dtype: float64"
      ]
     },
     "execution_count": 27,
     "metadata": {},
     "output_type": "execute_result"
    }
   ],
   "source": [
    "strut.SalePrice[strut.Utilities == 'NoSeWa'] # category 2 utilities only row "
   ]
  },
  {
   "cell_type": "code",
   "execution_count": 28,
   "metadata": {},
   "outputs": [
    {
     "data": {
      "text/plain": [
       "F_onewayResult(statistic=0.23268911582138385, pvalue=0.6296094276396587)"
      ]
     },
     "execution_count": 28,
     "metadata": {},
     "output_type": "execute_result"
    }
   ],
   "source": [
    "stats.f_oneway(np.array(strut.SalePrice[strut.Utilities == 'AllPub']), np.array(strut.SalePrice[strut.Utilities == 'NoSeWa']))"
   ]
  },
  {
   "cell_type": "code",
   "execution_count": 29,
   "metadata": {},
   "outputs": [],
   "source": [
    "strut = strut.drop('Utilities', axis = 1) # dropping utilities column"
   ]
  },
  {
   "cell_type": "markdown",
   "metadata": {},
   "source": [
    "# Electrical"
   ]
  },
  {
   "cell_type": "code",
   "execution_count": 30,
   "metadata": {},
   "outputs": [
    {
     "data": {
      "text/plain": [
       "<seaborn.axisgrid.FacetGrid at 0x1a1b4e9610>"
      ]
     },
     "execution_count": 30,
     "metadata": {},
     "output_type": "execute_result"
    },
    {
     "data": {
      "image/png": "[encoded data removed]",
      "text/plain": [
       "<Figure size 540x360 with 1 Axes>"
      ]
     },
     "metadata": {
      "needs_background": "light"
     },
     "output_type": "display_data"
    }
   ],
   "source": [
    "sns.catplot(x=\"Electrical\", y=\"SalePrice\", kind=\"box\", data=strut, height=5, aspect=1.5)"
   ]
  },
  {
   "cell_type": "code",
   "execution_count": 31,
   "metadata": {
    "scrolled": false
   },
   "outputs": [
    {
     "data": {
      "text/plain": [
       "<matplotlib.axes._subplots.AxesSubplot at 0x1a1b863fd0>"
      ]
     },
     "execution_count": 31,
     "metadata": {},
     "output_type": "execute_result"
    },
    {
     "data": {
      "image/png": "[encoded data removed]",
      "text/plain": [
       "<Figure size 432x288 with 1 Axes>"
      ]
     },
     "metadata": {
      "needs_background": "light"
     },
     "output_type": "display_data"
    }
   ],
   "source": [
    "strut.Electrical.value_counts().plot(kind = 'bar')"
   ]
  },
  {
   "cell_type": "code",
   "execution_count": 32,
   "metadata": {},
   "outputs": [
    {
     "data": {
      "text/plain": [
       "F_onewayResult(statistic=38.83436665056248, pvalue=6.37051579715213e-31)"
      ]
     },
     "execution_count": 32,
     "metadata": {},
     "output_type": "execute_result"
    }
   ],
   "source": [
    "# ANOVA test all categories\n",
    "stats.f_oneway(np.array(strut.SalePrice[strut.Electrical == 'SBrkr']), \\\n",
    "               np.array(strut.SalePrice[strut.Electrical == 'FuseF']), \\\n",
    "              np.array(strut.SalePrice[strut.Electrical == 'FuseA']), \\\n",
    "              np.array(strut.SalePrice[strut.Electrical == 'FuseP']), \\\n",
    "              np.array(strut.SalePrice[strut.Electrical == 'Mix']))"
   ]
  },
  {
   "cell_type": "code",
   "execution_count": 33,
   "metadata": {},
   "outputs": [
    {
     "data": {
      "text/plain": [
       "F_onewayResult(statistic=1.9100215834694423, pvalue=0.13155000117944907)"
      ]
     },
     "execution_count": 33,
     "metadata": {},
     "output_type": "execute_result"
    }
   ],
   "source": [
    "# anova test last 4 categories\n",
    "stats.f_oneway(np.array(strut.SalePrice[strut.Electrical == 'FuseF']), \\\n",
    "              np.array(strut.SalePrice[strut.Electrical == 'FuseA']), \\\n",
    "              np.array(strut.SalePrice[strut.Electrical == 'FuseP']), \\\n",
    "              np.array(strut.SalePrice[strut.Electrical == 'Mix']))"
   ]
  },
  {
   "cell_type": "code",
   "execution_count": 34,
   "metadata": {},
   "outputs": [],
   "source": [
    "strut.loc[ strut.Electrical == 'SBrkr', 'Electrical'] = 'Y'\n",
    "strut.loc[ strut.Electrical == 'FuseF', 'Electrical'] = 'N'\n",
    "strut.loc[ strut.Electrical == 'FuseA', 'Electrical'] = 'N'\n",
    "strut.loc[ strut.Electrical == 'FuseP', 'Electrical'] = 'N'\n",
    "strut.loc[ strut.Electrical == 'Mix', 'Electrical'] = 'N'"
   ]
  },
  {
   "cell_type": "code",
   "execution_count": 35,
   "metadata": {},
   "outputs": [
    {
     "data": {
      "text/html": [
       "<div>\n",
       "<style scoped>\n",
       "    .dataframe tbody tr th:only-of-type {\n",
       "        vertical-align: middle;\n",
       "    }\n",
       "\n",
       "    .dataframe tbody tr th {\n",
       "        vertical-align: top;\n",
       "    }\n",
       "\n",
       "    .dataframe thead th {\n",
       "        text-align: right;\n",
       "    }\n",
       "</style>\n",
       "<table border=\"1\" class=\"dataframe\">\n",
       "  <thead>\n",
       "    <tr style=\"text-align: right;\">\n",
       "      <th></th>\n",
       "      <th>SalePrice</th>\n",
       "      <th>Electrical_Y</th>\n",
       "    </tr>\n",
       "  </thead>\n",
       "  <tbody>\n",
       "    <tr>\n",
       "      <th>0</th>\n",
       "      <td>12.247694</td>\n",
       "      <td>1</td>\n",
       "    </tr>\n",
       "    <tr>\n",
       "      <th>1</th>\n",
       "      <td>12.109011</td>\n",
       "      <td>1</td>\n",
       "    </tr>\n",
       "    <tr>\n",
       "      <th>2</th>\n",
       "      <td>12.317167</td>\n",
       "      <td>1</td>\n",
       "    </tr>\n",
       "    <tr>\n",
       "      <th>3</th>\n",
       "      <td>11.849398</td>\n",
       "      <td>1</td>\n",
       "    </tr>\n",
       "    <tr>\n",
       "      <th>4</th>\n",
       "      <td>12.429216</td>\n",
       "      <td>1</td>\n",
       "    </tr>\n",
       "    <tr>\n",
       "      <th>...</th>\n",
       "      <td>...</td>\n",
       "      <td>...</td>\n",
       "    </tr>\n",
       "    <tr>\n",
       "      <th>1455</th>\n",
       "      <td>12.072541</td>\n",
       "      <td>1</td>\n",
       "    </tr>\n",
       "    <tr>\n",
       "      <th>1456</th>\n",
       "      <td>12.254863</td>\n",
       "      <td>1</td>\n",
       "    </tr>\n",
       "    <tr>\n",
       "      <th>1457</th>\n",
       "      <td>12.493130</td>\n",
       "      <td>1</td>\n",
       "    </tr>\n",
       "    <tr>\n",
       "      <th>1458</th>\n",
       "      <td>11.864462</td>\n",
       "      <td>0</td>\n",
       "    </tr>\n",
       "    <tr>\n",
       "      <th>1459</th>\n",
       "      <td>11.901583</td>\n",
       "      <td>1</td>\n",
       "    </tr>\n",
       "  </tbody>\n",
       "</table>\n",
       "<p>1460 rows × 2 columns</p>\n",
       "</div>"
      ],
      "text/plain": [
       "      SalePrice  Electrical_Y\n",
       "0     12.247694             1\n",
       "1     12.109011             1\n",
       "2     12.317167             1\n",
       "3     11.849398             1\n",
       "4     12.429216             1\n",
       "...         ...           ...\n",
       "1455  12.072541             1\n",
       "1456  12.254863             1\n",
       "1457  12.493130             1\n",
       "1458  11.864462             0\n",
       "1459  11.901583             1\n",
       "\n",
       "[1460 rows x 2 columns]"
      ]
     },
     "execution_count": 35,
     "metadata": {},
     "output_type": "execute_result"
    }
   ],
   "source": [
    "elec = pd.get_dummies(strut['Electrical'], prefix='Electrical', prefix_sep='_')\n",
    "elec = elec.drop('Electrical_N', axis=1)\n",
    "elec.head()\n",
    "cleaned_df = pd.concat([strut.SalePrice, elec], axis=1)\n",
    "cleaned_df "
   ]
  },
  {
   "cell_type": "markdown",
   "metadata": {},
   "source": [
    "# Central Air"
   ]
  },
  {
   "cell_type": "code",
   "execution_count": 36,
   "metadata": {
    "scrolled": false
   },
   "outputs": [
    {
     "data": {
      "text/plain": [
       "<seaborn.axisgrid.FacetGrid at 0x1a1b8ef910>"
      ]
     },
     "execution_count": 36,
     "metadata": {},
     "output_type": "execute_result"
    },
    {
     "data": {
      "image/png": "[encoded data removed]",
      "text/plain": [
       "<Figure size 540x360 with 1 Axes>"
      ]
     },
     "metadata": {
      "needs_background": "light"
     },
     "output_type": "display_data"
    }
   ],
   "source": [
    "sns.catplot(x=\"CentralAir\", y=\"SalePrice\", kind=\"box\", data=strut, height=5, aspect=1.5) # boxplot of electrical"
   ]
  },
  {
   "cell_type": "code",
   "execution_count": 37,
   "metadata": {},
   "outputs": [
    {
     "data": {
      "text/plain": [
       "<matplotlib.axes._subplots.AxesSubplot at 0x1a1bac76d0>"
      ]
     },
     "execution_count": 37,
     "metadata": {},
     "output_type": "execute_result"
    },
    {
     "data": {
      "image/png": "[encoded data removed]",
      "text/plain": [
       "<Figure size 432x288 with 1 Axes>"
      ]
     },
     "metadata": {
      "needs_background": "light"
     },
     "output_type": "display_data"
    }
   ],
   "source": [
    "strut.CentralAir.value_counts().plot(kind = 'bar')"
   ]
  },
  {
   "cell_type": "code",
   "execution_count": 38,
   "metadata": {},
   "outputs": [
    {
     "data": {
      "text/plain": [
       "F_onewayResult(statistic=205.66698666185349, pvalue=9.855628007877155e-44)"
      ]
     },
     "execution_count": 38,
     "metadata": {},
     "output_type": "execute_result"
    }
   ],
   "source": [
    "stats.f_oneway(np.array(strut.SalePrice[strut.CentralAir == 'Y']),\\\n",
    "              np.array(strut.SalePrice[strut.CentralAir == 'N']))"
   ]
  },
  {
   "cell_type": "code",
   "execution_count": 39,
   "metadata": {},
   "outputs": [
    {
     "data": {
      "text/html": [
       "<div>\n",
       "<style scoped>\n",
       "    .dataframe tbody tr th:only-of-type {\n",
       "        vertical-align: middle;\n",
       "    }\n",
       "\n",
       "    .dataframe tbody tr th {\n",
       "        vertical-align: top;\n",
       "    }\n",
       "\n",
       "    .dataframe thead th {\n",
       "        text-align: right;\n",
       "    }\n",
       "</style>\n",
       "<table border=\"1\" class=\"dataframe\">\n",
       "  <thead>\n",
       "    <tr style=\"text-align: right;\">\n",
       "      <th></th>\n",
       "      <th>SalePrice</th>\n",
       "      <th>Electrical_Y</th>\n",
       "      <th>CentralAir_Y</th>\n",
       "    </tr>\n",
       "  </thead>\n",
       "  <tbody>\n",
       "    <tr>\n",
       "      <th>1455</th>\n",
       "      <td>12.072541</td>\n",
       "      <td>1</td>\n",
       "      <td>1</td>\n",
       "    </tr>\n",
       "    <tr>\n",
       "      <th>1456</th>\n",
       "      <td>12.254863</td>\n",
       "      <td>1</td>\n",
       "      <td>1</td>\n",
       "    </tr>\n",
       "    <tr>\n",
       "      <th>1457</th>\n",
       "      <td>12.493130</td>\n",
       "      <td>1</td>\n",
       "      <td>1</td>\n",
       "    </tr>\n",
       "    <tr>\n",
       "      <th>1458</th>\n",
       "      <td>11.864462</td>\n",
       "      <td>0</td>\n",
       "      <td>1</td>\n",
       "    </tr>\n",
       "    <tr>\n",
       "      <th>1459</th>\n",
       "      <td>11.901583</td>\n",
       "      <td>1</td>\n",
       "      <td>1</td>\n",
       "    </tr>\n",
       "  </tbody>\n",
       "</table>\n",
       "</div>"
      ],
      "text/plain": [
       "      SalePrice  Electrical_Y  CentralAir_Y\n",
       "1455  12.072541             1             1\n",
       "1456  12.254863             1             1\n",
       "1457  12.493130             1             1\n",
       "1458  11.864462             0             1\n",
       "1459  11.901583             1             1"
      ]
     },
     "execution_count": 39,
     "metadata": {},
     "output_type": "execute_result"
    }
   ],
   "source": [
    "air = pd.get_dummies(strut['CentralAir'], prefix='CentralAir', prefix_sep='_')\n",
    "air = air.drop('CentralAir_N', axis=1)\n",
    "air.head()\n",
    "cleaned_df = pd.concat([cleaned_df, air], axis=1)\n",
    "cleaned_df.tail() "
   ]
  },
  {
   "cell_type": "markdown",
   "metadata": {},
   "source": [
    "# Heating (drop)"
   ]
  },
  {
   "cell_type": "code",
   "execution_count": 40,
   "metadata": {},
   "outputs": [
    {
     "data": {
      "text/plain": [
       "<seaborn.axisgrid.FacetGrid at 0x1a1bb18990>"
      ]
     },
     "execution_count": 40,
     "metadata": {},
     "output_type": "execute_result"
    },
    {
     "data": {
      "image/png": "[encoded data removed]",
      "text/plain": [
       "<Figure size 756x504 with 1 Axes>"
      ]
     },
     "metadata": {
      "needs_background": "light"
     },
     "output_type": "display_data"
    }
   ],
   "source": [
    "sns.catplot(x=\"Heating\", y=\"SalePrice\", kind=\"box\", data=strut, height=7, aspect=1.5)"
   ]
  },
  {
   "cell_type": "code",
   "execution_count": 41,
   "metadata": {},
   "outputs": [
    {
     "data": {
      "text/plain": [
       "F_onewayResult(statistic=9.90704645262147, pvalue=2.4843122520789224e-09)"
      ]
     },
     "execution_count": 41,
     "metadata": {},
     "output_type": "execute_result"
    }
   ],
   "source": [
    "# ANOVA on all categorical \n",
    "stats.f_oneway(np.array(strut.SalePrice[strut.Heating == 'GasA']),\\\n",
    "              np.array(strut.SalePrice[strut.Heating == 'GasW']),\\\n",
    "              np.array(strut.SalePrice[strut.Heating == 'Grav']),\n",
    "              np.array(strut.SalePrice[strut.Heating == 'Wall']),\n",
    "              np.array(strut.SalePrice[strut.Heating == 'OthW']), \\\n",
    "              np.array(strut.SalePrice[strut.Heating == 'Floor']))"
   ]
  },
  {
   "cell_type": "code",
   "execution_count": 42,
   "metadata": {},
   "outputs": [
    {
     "data": {
      "text/plain": [
       "F_onewayResult(statistic=1.1769352429506923, pvalue=0.2781618905849942)"
      ]
     },
     "execution_count": 42,
     "metadata": {},
     "output_type": "execute_result"
    }
   ],
   "source": [
    "# ANOVA on 1st 2 categorical with most data points\n",
    "stats.f_oneway(np.array(strut.SalePrice[strut.Heating == 'GasA']),\\\n",
    "              np.array(strut.SalePrice[strut.Heating == 'GasW']))"
   ]
  },
  {
   "cell_type": "code",
   "execution_count": 43,
   "metadata": {},
   "outputs": [
    {
     "data": {
      "text/plain": [
       "F_onewayResult(statistic=2.1092018393427683, pvalue=0.16264608159796656)"
      ]
     },
     "execution_count": 43,
     "metadata": {},
     "output_type": "execute_result"
    }
   ],
   "source": [
    "# ANOVA on last 4 categorical\n",
    "stats.f_oneway(np.array(strut.SalePrice[strut.Heating == 'Grav']),\n",
    "              np.array(strut.SalePrice[strut.Heating == 'Wall']),\\\n",
    "              np.array(strut.SalePrice[strut.Heating == 'OthW']), \\\n",
    "              np.array(strut.SalePrice[strut.Heating == 'Floor']))"
   ]
  },
  {
   "cell_type": "code",
   "execution_count": 44,
   "metadata": {},
   "outputs": [
    {
     "data": {
      "text/plain": [
       "F_onewayResult(statistic=0.21117645691079395, pvalue=0.645881265919969)"
      ]
     },
     "execution_count": 44,
     "metadata": {},
     "output_type": "execute_result"
    }
   ],
   "source": [
    "# ANOVA after combing categories into 2\n",
    "stats.f_oneway(strut.SalePrice[(strut.Heating == 'GasA') | (strut.Heating == 'GasW')],\\\n",
    "              strut.SalePrice[(strut.Heating != 'GasA') | (strut.Heating != 'GasW')])"
   ]
  },
  {
   "cell_type": "code",
   "execution_count": 45,
   "metadata": {},
   "outputs": [],
   "source": [
    "strut = strut.drop('Heating', axis = 1) "
   ]
  },
  {
   "cell_type": "code",
   "execution_count": 46,
   "metadata": {},
   "outputs": [
    {
     "data": {
      "text/plain": [
       "Index(['Id', 'SalePrice', 'YearBuilt', 'YearRemodAdd', 'MSSubClass',\n",
       "       'MSZoning', 'BldgType', 'HouseStyle', 'OverallQual', 'OverallCond',\n",
       "       'RoofStyle', 'RoofMatl', 'Exterior1st', 'Exterior2nd', 'MasVnrType',\n",
       "       'MasVnrArea', 'ExterQual', 'ExterCond', 'Foundation', 'HeatingQC',\n",
       "       'CentralAir', 'Electrical'],\n",
       "      dtype='object')"
      ]
     },
     "execution_count": 46,
     "metadata": {},
     "output_type": "execute_result"
    }
   ],
   "source": [
    "strut.columns"
   ]
  },
  {
   "cell_type": "markdown",
   "metadata": {},
   "source": [
    "# Heating QC"
   ]
  },
  {
   "cell_type": "code",
   "execution_count": 47,
   "metadata": {},
   "outputs": [
    {
     "data": {
      "text/plain": [
       "<seaborn.axisgrid.FacetGrid at 0x1a1bf1cdd0>"
      ]
     },
     "execution_count": 47,
     "metadata": {},
     "output_type": "execute_result"
    },
    {
     "data": {
      "image/png": "[encoded data removed]",
      "text/plain": [
       "<Figure size 540x360 with 1 Axes>"
      ]
     },
     "metadata": {
      "needs_background": "light"
     },
     "output_type": "display_data"
    }
   ],
   "source": [
    "sns.catplot(x=\"HeatingQC\", y=\"SalePrice\", kind=\"box\", data=strut, height=5, aspect=1.5)"
   ]
  },
  {
   "cell_type": "code",
   "execution_count": 48,
   "metadata": {},
   "outputs": [
    {
     "data": {
      "text/plain": [
       "<matplotlib.axes._subplots.AxesSubplot at 0x1a1c2d3450>"
      ]
     },
     "execution_count": 48,
     "metadata": {},
     "output_type": "execute_result"
    },
    {
     "data": {
      "image/png": "[encoded data removed]",
      "text/plain": [
       "<Figure size 432x288 with 1 Axes>"
      ]
     },
     "metadata": {
      "needs_background": "light"
     },
     "output_type": "display_data"
    }
   ],
   "source": [
    "strut.HeatingQC.value_counts().plot(kind = 'bar')"
   ]
  },
  {
   "cell_type": "code",
   "execution_count": 49,
   "metadata": {},
   "outputs": [
    {
     "data": {
      "text/plain": [
       "F_onewayResult(statistic=110.82043551575352, pvalue=1.6148821620760695e-82)"
      ]
     },
     "execution_count": 49,
     "metadata": {},
     "output_type": "execute_result"
    }
   ],
   "source": [
    "# ANOVA on all categories\n",
    "stats.f_oneway(np.array(strut.SalePrice[strut.HeatingQC == 'Ex']),\\\n",
    "              np.array(strut.SalePrice[strut.HeatingQC == 'Gd']),\\\n",
    "              np.array(strut.SalePrice[strut.HeatingQC == 'TA']),\\\n",
    "              np.array(strut.SalePrice[strut.HeatingQC == 'Fa']),\\\n",
    "              np.array(strut.SalePrice[strut.HeatingQC == 'Po']))"
   ]
  },
  {
   "cell_type": "code",
   "execution_count": 50,
   "metadata": {},
   "outputs": [
    {
     "data": {
      "text/plain": [
       "F_onewayResult(statistic=0.3387728724373321, pvalue=0.5632623367505598)"
      ]
     },
     "execution_count": 50,
     "metadata": {},
     "output_type": "execute_result"
    }
   ],
   "source": [
    "# ANOVA on last 2 categories\n",
    "stats.f_oneway(np.array(strut.SalePrice[strut.HeatingQC == 'Fa']),\\\n",
    "              np.array(strut.SalePrice[strut.HeatingQC == 'Po']))"
   ]
  },
  {
   "cell_type": "code",
   "execution_count": 51,
   "metadata": {},
   "outputs": [],
   "source": [
    "strut.loc[ strut.HeatingQC == 'Po', 'HeatingQC'] = 'Fa'"
   ]
  },
  {
   "cell_type": "code",
   "execution_count": 52,
   "metadata": {},
   "outputs": [
    {
     "data": {
      "text/plain": [
       "{'Ex', 'Fa', 'Gd', 'TA'}"
      ]
     },
     "execution_count": 52,
     "metadata": {},
     "output_type": "execute_result"
    }
   ],
   "source": [
    "set(strut.HeatingQC)"
   ]
  },
  {
   "cell_type": "code",
   "execution_count": 53,
   "metadata": {
    "scrolled": true
   },
   "outputs": [
    {
     "data": {
      "text/html": [
       "<div>\n",
       "<style scoped>\n",
       "    .dataframe tbody tr th:only-of-type {\n",
       "        vertical-align: middle;\n",
       "    }\n",
       "\n",
       "    .dataframe tbody tr th {\n",
       "        vertical-align: top;\n",
       "    }\n",
       "\n",
       "    .dataframe thead th {\n",
       "        text-align: right;\n",
       "    }\n",
       "</style>\n",
       "<table border=\"1\" class=\"dataframe\">\n",
       "  <thead>\n",
       "    <tr style=\"text-align: right;\">\n",
       "      <th></th>\n",
       "      <th>SalePrice</th>\n",
       "      <th>Electrical_Y</th>\n",
       "      <th>CentralAir_Y</th>\n",
       "      <th>Heating_Ex</th>\n",
       "      <th>Heating_Gd</th>\n",
       "      <th>Heating_TA</th>\n",
       "    </tr>\n",
       "  </thead>\n",
       "  <tbody>\n",
       "    <tr>\n",
       "      <th>1455</th>\n",
       "      <td>12.072541</td>\n",
       "      <td>1</td>\n",
       "      <td>1</td>\n",
       "      <td>1</td>\n",
       "      <td>0</td>\n",
       "      <td>0</td>\n",
       "    </tr>\n",
       "    <tr>\n",
       "      <th>1456</th>\n",
       "      <td>12.254863</td>\n",
       "      <td>1</td>\n",
       "      <td>1</td>\n",
       "      <td>0</td>\n",
       "      <td>0</td>\n",
       "      <td>1</td>\n",
       "    </tr>\n",
       "    <tr>\n",
       "      <th>1457</th>\n",
       "      <td>12.493130</td>\n",
       "      <td>1</td>\n",
       "      <td>1</td>\n",
       "      <td>1</td>\n",
       "      <td>0</td>\n",
       "      <td>0</td>\n",
       "    </tr>\n",
       "    <tr>\n",
       "      <th>1458</th>\n",
       "      <td>11.864462</td>\n",
       "      <td>0</td>\n",
       "      <td>1</td>\n",
       "      <td>0</td>\n",
       "      <td>1</td>\n",
       "      <td>0</td>\n",
       "    </tr>\n",
       "    <tr>\n",
       "      <th>1459</th>\n",
       "      <td>11.901583</td>\n",
       "      <td>1</td>\n",
       "      <td>1</td>\n",
       "      <td>0</td>\n",
       "      <td>1</td>\n",
       "      <td>0</td>\n",
       "    </tr>\n",
       "  </tbody>\n",
       "</table>\n",
       "</div>"
      ],
      "text/plain": [
       "      SalePrice  Electrical_Y  CentralAir_Y  Heating_Ex  Heating_Gd  \\\n",
       "1455  12.072541             1             1           1           0   \n",
       "1456  12.254863             1             1           0           0   \n",
       "1457  12.493130             1             1           1           0   \n",
       "1458  11.864462             0             1           0           1   \n",
       "1459  11.901583             1             1           0           1   \n",
       "\n",
       "      Heating_TA  \n",
       "1455           0  \n",
       "1456           1  \n",
       "1457           0  \n",
       "1458           0  \n",
       "1459           0  "
      ]
     },
     "execution_count": 53,
     "metadata": {},
     "output_type": "execute_result"
    }
   ],
   "source": [
    "QC = pd.get_dummies(strut['HeatingQC'], prefix='Heating', prefix_sep='_')\n",
    "QC = QC.drop('Heating_Fa', axis=1)\n",
    "QC.head()\n",
    "cleaned_df = pd.concat([cleaned_df, QC], axis=1)\n",
    "cleaned_df.tail() "
   ]
  },
  {
   "cell_type": "code",
   "execution_count": 54,
   "metadata": {
    "scrolled": true
   },
   "outputs": [
    {
     "data": {
      "text/html": [
       "<div>\n",
       "<style scoped>\n",
       "    .dataframe tbody tr th:only-of-type {\n",
       "        vertical-align: middle;\n",
       "    }\n",
       "\n",
       "    .dataframe tbody tr th {\n",
       "        vertical-align: top;\n",
       "    }\n",
       "\n",
       "    .dataframe thead th {\n",
       "        text-align: right;\n",
       "    }\n",
       "</style>\n",
       "<table border=\"1\" class=\"dataframe\">\n",
       "  <thead>\n",
       "    <tr style=\"text-align: right;\">\n",
       "      <th></th>\n",
       "      <th>SalePrice</th>\n",
       "      <th>Electrical_Y</th>\n",
       "      <th>CentralAir_Y</th>\n",
       "      <th>Heating_Ex</th>\n",
       "      <th>Heating_Gd</th>\n",
       "      <th>Heating_TA</th>\n",
       "    </tr>\n",
       "  </thead>\n",
       "  <tbody>\n",
       "    <tr>\n",
       "      <th>SalePrice</th>\n",
       "      <td>1.000000</td>\n",
       "      <td>0.304862</td>\n",
       "      <td>0.351600</td>\n",
       "      <td>0.466706</td>\n",
       "      <td>-0.126583</td>\n",
       "      <td>-0.335429</td>\n",
       "    </tr>\n",
       "    <tr>\n",
       "      <th>Electrical_Y</th>\n",
       "      <td>0.304862</td>\n",
       "      <td>1.000000</td>\n",
       "      <td>0.344158</td>\n",
       "      <td>0.175391</td>\n",
       "      <td>-0.034174</td>\n",
       "      <td>-0.107504</td>\n",
       "    </tr>\n",
       "    <tr>\n",
       "      <th>CentralAir_Y</th>\n",
       "      <td>0.351600</td>\n",
       "      <td>0.344158</td>\n",
       "      <td>1.000000</td>\n",
       "      <td>0.223382</td>\n",
       "      <td>0.020058</td>\n",
       "      <td>-0.129029</td>\n",
       "    </tr>\n",
       "    <tr>\n",
       "      <th>Heating_Ex</th>\n",
       "      <td>0.466706</td>\n",
       "      <td>0.175391</td>\n",
       "      <td>0.223382</td>\n",
       "      <td>1.000000</td>\n",
       "      <td>-0.451389</td>\n",
       "      <td>-0.653773</td>\n",
       "    </tr>\n",
       "    <tr>\n",
       "      <th>Heating_Gd</th>\n",
       "      <td>-0.126583</td>\n",
       "      <td>-0.034174</td>\n",
       "      <td>0.020058</td>\n",
       "      <td>-0.451389</td>\n",
       "      <td>1.000000</td>\n",
       "      <td>-0.286344</td>\n",
       "    </tr>\n",
       "    <tr>\n",
       "      <th>Heating_TA</th>\n",
       "      <td>-0.335429</td>\n",
       "      <td>-0.107504</td>\n",
       "      <td>-0.129029</td>\n",
       "      <td>-0.653773</td>\n",
       "      <td>-0.286344</td>\n",
       "      <td>1.000000</td>\n",
       "    </tr>\n",
       "  </tbody>\n",
       "</table>\n",
       "</div>"
      ],
      "text/plain": [
       "              SalePrice  Electrical_Y  CentralAir_Y  Heating_Ex  Heating_Gd  \\\n",
       "SalePrice      1.000000      0.304862      0.351600    0.466706   -0.126583   \n",
       "Electrical_Y   0.304862      1.000000      0.344158    0.175391   -0.034174   \n",
       "CentralAir_Y   0.351600      0.344158      1.000000    0.223382    0.020058   \n",
       "Heating_Ex     0.466706      0.175391      0.223382    1.000000   -0.451389   \n",
       "Heating_Gd    -0.126583     -0.034174      0.020058   -0.451389    1.000000   \n",
       "Heating_TA    -0.335429     -0.107504     -0.129029   -0.653773   -0.286344   \n",
       "\n",
       "              Heating_TA  \n",
       "SalePrice      -0.335429  \n",
       "Electrical_Y   -0.107504  \n",
       "CentralAir_Y   -0.129029  \n",
       "Heating_Ex     -0.653773  \n",
       "Heating_Gd     -0.286344  \n",
       "Heating_TA      1.000000  "
      ]
     },
     "execution_count": 54,
     "metadata": {},
     "output_type": "execute_result"
    }
   ],
   "source": [
    "cleaned_df[['SalePrice', 'Electrical_Y', 'CentralAir_Y', 'Heating_Ex', 'Heating_Gd',\n",
    "       'Heating_TA']].corr()"
   ]
  },
  {
   "cell_type": "markdown",
   "metadata": {},
   "source": [
    "# MSSubClass"
   ]
  },
  {
   "cell_type": "code",
   "execution_count": 55,
   "metadata": {},
   "outputs": [
    {
     "data": {
      "text/plain": [
       "<seaborn.axisgrid.FacetGrid at 0x1a1c4348d0>"
      ]
     },
     "execution_count": 55,
     "metadata": {},
     "output_type": "execute_result"
    },
    {
     "data": {
      "image/png": "[encoded data removed]",
      "text/plain": [
       "<Figure size 540x360 with 1 Axes>"
      ]
     },
     "metadata": {
      "needs_background": "light"
     },
     "output_type": "display_data"
    }
   ],
   "source": [
    "sns.catplot(x=\"MSSubClass\", y=\"SalePrice\", kind=\"box\", data=strut, height=5, aspect=1.5)"
   ]
  },
  {
   "cell_type": "code",
   "execution_count": 56,
   "metadata": {},
   "outputs": [
    {
     "data": {
      "text/plain": [
       "F_onewayResult(statistic=50.866116297211576, pvalue=5.096022741004154e-115)"
      ]
     },
     "execution_count": 56,
     "metadata": {},
     "output_type": "execute_result"
    }
   ],
   "source": [
    "# ANOVA on all categories\n",
    "stats.f_oneway(np.array(strut.SalePrice[strut.MSSubClass == 20]),\\\n",
    "              np.array(strut.SalePrice[strut.MSSubClass == 30]),\\\n",
    "              np.array(strut.SalePrice[strut.MSSubClass == 40]),\\\n",
    "              np.array(strut.SalePrice[strut.MSSubClass == 45]),\\\n",
    "              np.array(strut.SalePrice[strut.MSSubClass == 50]),\\\n",
    "                np.array(strut.SalePrice[strut.MSSubClass == 60]),\\\n",
    "              np.array(strut.SalePrice[strut.MSSubClass == 70]),\\\n",
    "              np.array(strut.SalePrice[strut.MSSubClass == 75]),\\\n",
    "              np.array(strut.SalePrice[strut.MSSubClass == 80]),\\\n",
    "                np.array(strut.SalePrice[strut.MSSubClass == 85]),\\\n",
    "              np.array(strut.SalePrice[strut.MSSubClass == 90]),\\\n",
    "              np.array(strut.SalePrice[strut.MSSubClass == 120]),\\\n",
    "              np.array(strut.SalePrice[strut.MSSubClass == 160]),\\\n",
    "                np.array(strut.SalePrice[strut.MSSubClass == 180]),\\\n",
    "              np.array(strut.SalePrice[strut.MSSubClass == 190]))"
   ]
  },
  {
   "cell_type": "code",
   "execution_count": 57,
   "metadata": {},
   "outputs": [
    {
     "data": {
      "text/plain": [
       "F_onewayResult(statistic=53.23604330541819, pvalue=1.4484617108480622e-39)"
      ]
     },
     "execution_count": 57,
     "metadata": {},
     "output_type": "execute_result"
    }
   ],
   "source": [
    "stats.f_oneway(np.array(strut.SalePrice[strut.MSSubClass == 20]),\\\n",
    "              np.array(strut.SalePrice[strut.MSSubClass == 30]),\\\n",
    "              np.array(strut.SalePrice[strut.MSSubClass == 40]),\\\n",
    "              np.array(strut.SalePrice[strut.MSSubClass == 45]),\\\n",
    "              np.array(strut.SalePrice[strut.MSSubClass == 50]))"
   ]
  },
  {
   "cell_type": "code",
   "execution_count": 58,
   "metadata": {},
   "outputs": [
    {
     "data": {
      "text/plain": [
       "F_onewayResult(statistic=3.2162960065922754, pvalue=0.09453095008808635)"
      ]
     },
     "execution_count": 58,
     "metadata": {},
     "output_type": "execute_result"
    }
   ],
   "source": [
    "stats.f_oneway(np.array(strut.SalePrice[strut.MSSubClass == 40]),\\\n",
    "              np.array(strut.SalePrice[strut.MSSubClass == 45]))"
   ]
  },
  {
   "cell_type": "code",
   "execution_count": 59,
   "metadata": {},
   "outputs": [
    {
     "data": {
      "text/plain": [
       "F_onewayResult(statistic=1.3903005042000367, pvalue=0.24801013182134987)"
      ]
     },
     "execution_count": 59,
     "metadata": {},
     "output_type": "execute_result"
    }
   ],
   "source": [
    "stats.f_oneway(np.array(strut.SalePrice[strut.MSSubClass == 70]),\\\n",
    "              np.array(strut.SalePrice[strut.MSSubClass == 75]),\\\n",
    "              np.array(strut.SalePrice[strut.MSSubClass == 80]),\\\n",
    "                np.array(strut.SalePrice[strut.MSSubClass == 85]))"
   ]
  },
  {
   "cell_type": "code",
   "execution_count": 60,
   "metadata": {},
   "outputs": [
    {
     "data": {
      "text/plain": [
       "F_onewayResult(statistic=0.34241616680260506, pvalue=0.5596045790838347)"
      ]
     },
     "execution_count": 60,
     "metadata": {},
     "output_type": "execute_result"
    }
   ],
   "source": [
    "stats.f_oneway(np.array(strut.SalePrice[strut.MSSubClass == 90]),\\\n",
    "              np.array(strut.SalePrice[strut.MSSubClass == 160]))"
   ]
  },
  {
   "cell_type": "code",
   "execution_count": 61,
   "metadata": {},
   "outputs": [],
   "source": [
    "strut.loc[ strut.MSSubClass == 20, 'MSSubClass'] = 1\n",
    "strut.loc[ strut.MSSubClass == 30, 'MSSubClass'] = 2\n",
    "strut.loc[ strut.MSSubClass == 40, 'MSSubClass'] = 3\n",
    "strut.loc[ strut.MSSubClass == 45, 'MSSubClass'] = 3\n",
    "strut.loc[ strut.MSSubClass == 50, 'MSSubClass'] = 4\n",
    "strut.loc[ strut.MSSubClass == 60, 'MSSubClass'] = 5\n",
    "strut.loc[ strut.MSSubClass == 70, 'MSSubClass'] = 6\n",
    "strut.loc[ strut.MSSubClass == 75, 'MSSubClass'] = 6\n",
    "strut.loc[ strut.MSSubClass == 80, 'MSSubClass'] = 6\n",
    "strut.loc[ strut.MSSubClass == 85, 'MSSubClass'] = 6\n",
    "strut.loc[ strut.MSSubClass == 90, 'MSSubClass'] = 7\n",
    "strut.loc[ strut.MSSubClass == 120, 'MSSubClass'] = 8\n",
    "strut.loc[ strut.MSSubClass == 160, 'MSSubClass'] = 9\n",
    "strut.loc[ strut.MSSubClass == 180, 'MSSubClass'] = 10\n",
    "strut.loc[ strut.MSSubClass == 190, 'MSSubClass'] = 11"
   ]
  },
  {
   "cell_type": "code",
   "execution_count": 62,
   "metadata": {},
   "outputs": [],
   "source": [
    "strut = strut.drop('MSSubClass', axis = 1) "
   ]
  },
  {
   "cell_type": "code",
   "execution_count": 63,
   "metadata": {},
   "outputs": [
    {
     "data": {
      "text/plain": [
       "Index(['Id', 'SalePrice', 'YearBuilt', 'YearRemodAdd', 'MSZoning', 'BldgType',\n",
       "       'HouseStyle', 'OverallQual', 'OverallCond', 'RoofStyle', 'RoofMatl',\n",
       "       'Exterior1st', 'Exterior2nd', 'MasVnrType', 'MasVnrArea', 'ExterQual',\n",
       "       'ExterCond', 'Foundation', 'HeatingQC', 'CentralAir', 'Electrical'],\n",
       "      dtype='object')"
      ]
     },
     "execution_count": 63,
     "metadata": {},
     "output_type": "execute_result"
    }
   ],
   "source": [
    "strut.columns"
   ]
  },
  {
   "cell_type": "markdown",
   "metadata": {},
   "source": [
    "# MSZoing"
   ]
  },
  {
   "cell_type": "code",
   "execution_count": 64,
   "metadata": {},
   "outputs": [
    {
     "data": {
      "text/plain": [
       "<seaborn.axisgrid.FacetGrid at 0x1a1c7766d0>"
      ]
     },
     "execution_count": 64,
     "metadata": {},
     "output_type": "execute_result"
    },
    {
     "data": {
      "image/png": "[encoded data removed]",
      "text/plain": [
       "<Figure size 540x360 with 1 Axes>"
      ]
     },
     "metadata": {
      "needs_background": "light"
     },
     "output_type": "display_data"
    }
   ],
   "source": [
    "sns.catplot(x=\"MSZoning\", y=\"SalePrice\", kind=\"box\", data=strut, height=5, aspect=1.5)"
   ]
  },
  {
   "cell_type": "code",
   "execution_count": 65,
   "metadata": {},
   "outputs": [
    {
     "data": {
      "text/plain": [
       "F_onewayResult(statistic=77.60784253102663, pvalue=1.0213428543580432e-59)"
      ]
     },
     "execution_count": 65,
     "metadata": {},
     "output_type": "execute_result"
    }
   ],
   "source": [
    "# ANOVA on all categories\n",
    "stats.f_oneway(np.array(strut.SalePrice[strut.MSZoning == 'RL']),\\\n",
    "              np.array(strut.SalePrice[strut.MSZoning == 'RM']),\\\n",
    "              np.array(strut.SalePrice[strut.MSZoning == 'C (all)']),\\\n",
    "              np.array(strut.SalePrice[strut.MSZoning == 'FV']),\\\n",
    "              np.array(strut.SalePrice[strut.MSZoning == 'RH']))"
   ]
  },
  {
   "cell_type": "code",
   "execution_count": 66,
   "metadata": {},
   "outputs": [
    {
     "data": {
      "text/plain": [
       "F_onewayResult(statistic=0.4903904735297903, pvalue=0.48445482461939304)"
      ]
     },
     "execution_count": 66,
     "metadata": {},
     "output_type": "execute_result"
    }
   ],
   "source": [
    "# ANOVA on RM & RH\n",
    "stats.f_oneway(np.array(strut.SalePrice[strut.MSZoning == 'RM']),\\\n",
    "              np.array(strut.SalePrice[strut.MSZoning == 'RH']))"
   ]
  },
  {
   "cell_type": "code",
   "execution_count": 67,
   "metadata": {},
   "outputs": [],
   "source": [
    "strut.loc[ strut.MSZoning == 'RM', 'MSZoning'] = 'RM/RH'\n",
    "strut.loc[ strut.MSZoning == 'RH', 'MSZoning'] = 'RM/RH'"
   ]
  },
  {
   "cell_type": "code",
   "execution_count": 68,
   "metadata": {},
   "outputs": [],
   "source": [
    "strut.loc[ strut.MSZoning == 'C (all)', 'MSZoning'] = 'C'"
   ]
  },
  {
   "cell_type": "code",
   "execution_count": 69,
   "metadata": {},
   "outputs": [
    {
     "data": {
      "text/plain": [
       "{'C', 'FV', 'RL', 'RM/RH'}"
      ]
     },
     "execution_count": 69,
     "metadata": {},
     "output_type": "execute_result"
    }
   ],
   "source": [
    "set(strut.MSZoning)"
   ]
  },
  {
   "cell_type": "code",
   "execution_count": 70,
   "metadata": {
    "scrolled": true
   },
   "outputs": [
    {
     "data": {
      "text/html": [
       "<div>\n",
       "<style scoped>\n",
       "    .dataframe tbody tr th:only-of-type {\n",
       "        vertical-align: middle;\n",
       "    }\n",
       "\n",
       "    .dataframe tbody tr th {\n",
       "        vertical-align: top;\n",
       "    }\n",
       "\n",
       "    .dataframe thead th {\n",
       "        text-align: right;\n",
       "    }\n",
       "</style>\n",
       "<table border=\"1\" class=\"dataframe\">\n",
       "  <thead>\n",
       "    <tr style=\"text-align: right;\">\n",
       "      <th></th>\n",
       "      <th>SalePrice</th>\n",
       "      <th>Electrical_Y</th>\n",
       "      <th>CentralAir_Y</th>\n",
       "      <th>Heating_Ex</th>\n",
       "      <th>Heating_Gd</th>\n",
       "      <th>Heating_TA</th>\n",
       "      <th>MSZoning_C</th>\n",
       "      <th>MSZoning_RL</th>\n",
       "      <th>MSZoning_RM/RH</th>\n",
       "    </tr>\n",
       "  </thead>\n",
       "  <tbody>\n",
       "    <tr>\n",
       "      <th>1455</th>\n",
       "      <td>12.072541</td>\n",
       "      <td>1</td>\n",
       "      <td>1</td>\n",
       "      <td>1</td>\n",
       "      <td>0</td>\n",
       "      <td>0</td>\n",
       "      <td>0</td>\n",
       "      <td>1</td>\n",
       "      <td>0</td>\n",
       "    </tr>\n",
       "    <tr>\n",
       "      <th>1456</th>\n",
       "      <td>12.254863</td>\n",
       "      <td>1</td>\n",
       "      <td>1</td>\n",
       "      <td>0</td>\n",
       "      <td>0</td>\n",
       "      <td>1</td>\n",
       "      <td>0</td>\n",
       "      <td>1</td>\n",
       "      <td>0</td>\n",
       "    </tr>\n",
       "    <tr>\n",
       "      <th>1457</th>\n",
       "      <td>12.493130</td>\n",
       "      <td>1</td>\n",
       "      <td>1</td>\n",
       "      <td>1</td>\n",
       "      <td>0</td>\n",
       "      <td>0</td>\n",
       "      <td>0</td>\n",
       "      <td>1</td>\n",
       "      <td>0</td>\n",
       "    </tr>\n",
       "    <tr>\n",
       "      <th>1458</th>\n",
       "      <td>11.864462</td>\n",
       "      <td>0</td>\n",
       "      <td>1</td>\n",
       "      <td>0</td>\n",
       "      <td>1</td>\n",
       "      <td>0</td>\n",
       "      <td>0</td>\n",
       "      <td>1</td>\n",
       "      <td>0</td>\n",
       "    </tr>\n",
       "    <tr>\n",
       "      <th>1459</th>\n",
       "      <td>11.901583</td>\n",
       "      <td>1</td>\n",
       "      <td>1</td>\n",
       "      <td>0</td>\n",
       "      <td>1</td>\n",
       "      <td>0</td>\n",
       "      <td>0</td>\n",
       "      <td>1</td>\n",
       "      <td>0</td>\n",
       "    </tr>\n",
       "  </tbody>\n",
       "</table>\n",
       "</div>"
      ],
      "text/plain": [
       "      SalePrice  Electrical_Y  CentralAir_Y  Heating_Ex  Heating_Gd  \\\n",
       "1455  12.072541             1             1           1           0   \n",
       "1456  12.254863             1             1           0           0   \n",
       "1457  12.493130             1             1           1           0   \n",
       "1458  11.864462             0             1           0           1   \n",
       "1459  11.901583             1             1           0           1   \n",
       "\n",
       "      Heating_TA  MSZoning_C  MSZoning_RL  MSZoning_RM/RH  \n",
       "1455           0           0            1               0  \n",
       "1456           1           0            1               0  \n",
       "1457           0           0            1               0  \n",
       "1458           0           0            1               0  \n",
       "1459           0           0            1               0  "
      ]
     },
     "execution_count": 70,
     "metadata": {},
     "output_type": "execute_result"
    }
   ],
   "source": [
    "Zoning = pd.get_dummies(strut['MSZoning'], prefix='MSZoning', prefix_sep='_')\n",
    "Zoning = Zoning.drop('MSZoning_FV', axis=1)\n",
    "Zoning.head()\n",
    "cleaned_df = pd.concat([cleaned_df, Zoning], axis=1)\n",
    "cleaned_df.tail() "
   ]
  },
  {
   "cell_type": "code",
   "execution_count": 71,
   "metadata": {},
   "outputs": [
    {
     "data": {
      "text/html": [
       "<div>\n",
       "<style scoped>\n",
       "    .dataframe tbody tr th:only-of-type {\n",
       "        vertical-align: middle;\n",
       "    }\n",
       "\n",
       "    .dataframe tbody tr th {\n",
       "        vertical-align: top;\n",
       "    }\n",
       "\n",
       "    .dataframe thead th {\n",
       "        text-align: right;\n",
       "    }\n",
       "</style>\n",
       "<table border=\"1\" class=\"dataframe\">\n",
       "  <thead>\n",
       "    <tr style=\"text-align: right;\">\n",
       "      <th></th>\n",
       "      <th>SalePrice</th>\n",
       "      <th>MSZoning_C</th>\n",
       "      <th>MSZoning_RL</th>\n",
       "      <th>MSZoning_RM/RH</th>\n",
       "    </tr>\n",
       "  </thead>\n",
       "  <tbody>\n",
       "    <tr>\n",
       "      <th>SalePrice</th>\n",
       "      <td>1.000000</td>\n",
       "      <td>-0.188377</td>\n",
       "      <td>0.298862</td>\n",
       "      <td>-0.358052</td>\n",
       "    </tr>\n",
       "    <tr>\n",
       "      <th>MSZoning_C</th>\n",
       "      <td>-0.188377</td>\n",
       "      <td>1.000000</td>\n",
       "      <td>-0.160278</td>\n",
       "      <td>-0.036281</td>\n",
       "    </tr>\n",
       "    <tr>\n",
       "      <th>MSZoning_RL</th>\n",
       "      <td>0.298862</td>\n",
       "      <td>-0.160278</td>\n",
       "      <td>1.000000</td>\n",
       "      <td>-0.843182</td>\n",
       "    </tr>\n",
       "    <tr>\n",
       "      <th>MSZoning_RM/RH</th>\n",
       "      <td>-0.358052</td>\n",
       "      <td>-0.036281</td>\n",
       "      <td>-0.843182</td>\n",
       "      <td>1.000000</td>\n",
       "    </tr>\n",
       "  </tbody>\n",
       "</table>\n",
       "</div>"
      ],
      "text/plain": [
       "                SalePrice  MSZoning_C  MSZoning_RL  MSZoning_RM/RH\n",
       "SalePrice        1.000000   -0.188377     0.298862       -0.358052\n",
       "MSZoning_C      -0.188377    1.000000    -0.160278       -0.036281\n",
       "MSZoning_RL      0.298862   -0.160278     1.000000       -0.843182\n",
       "MSZoning_RM/RH  -0.358052   -0.036281    -0.843182        1.000000"
      ]
     },
     "execution_count": 71,
     "metadata": {},
     "output_type": "execute_result"
    }
   ],
   "source": [
    "cleaned_df[['SalePrice', 'MSZoning_C', 'MSZoning_RL', 'MSZoning_RM/RH']].corr()"
   ]
  },
  {
   "cell_type": "markdown",
   "metadata": {},
   "source": [
    "# Bldgtype"
   ]
  },
  {
   "cell_type": "code",
   "execution_count": 72,
   "metadata": {},
   "outputs": [
    {
     "data": {
      "text/plain": [
       "<seaborn.axisgrid.FacetGrid at 0x1a1c411750>"
      ]
     },
     "execution_count": 72,
     "metadata": {},
     "output_type": "execute_result"
    },
    {
     "data": {
      "image/png": "[encoded data removed]",
      "text/plain": [
       "<Figure size 756x504 with 1 Axes>"
      ]
     },
     "metadata": {
      "needs_background": "light"
     },
     "output_type": "display_data"
    }
   ],
   "source": [
    "sns.catplot(x=\"BldgType\", y=\"SalePrice\", kind=\"box\", data=strut, height=7, aspect=1.5)"
   ]
  },
  {
   "cell_type": "code",
   "execution_count": 73,
   "metadata": {},
   "outputs": [
    {
     "data": {
      "text/plain": [
       "1220"
      ]
     },
     "execution_count": 73,
     "metadata": {},
     "output_type": "execute_result"
    }
   ],
   "source": [
    "strut.SalePrice[strut.BldgType == '1Fam'].count()"
   ]
  },
  {
   "cell_type": "code",
   "execution_count": 74,
   "metadata": {},
   "outputs": [
    {
     "data": {
      "text/plain": [
       "F_onewayResult(statistic=15.211667391724273, pvalue=3.4367936403015973e-12)"
      ]
     },
     "execution_count": 74,
     "metadata": {},
     "output_type": "execute_result"
    }
   ],
   "source": [
    "# ANOVA on all categories\n",
    "stats.f_oneway(np.array(strut.SalePrice[strut.BldgType == '1Fam']),\\\n",
    "              np.array(strut.SalePrice[strut.BldgType == '2fmCon']),\\\n",
    "              np.array(strut.SalePrice[strut.BldgType == 'Duplex']),\\\n",
    "              np.array(strut.SalePrice[strut.BldgType == 'Twnhs']),\\\n",
    "              np.array(strut.SalePrice[strut.BldgType == 'TwnhsE']))"
   ]
  },
  {
   "cell_type": "code",
   "execution_count": 75,
   "metadata": {},
   "outputs": [
    {
     "data": {
      "text/plain": [
       "F_onewayResult(statistic=0.09216509763209502, pvalue=0.7614899301419318)"
      ]
     },
     "execution_count": 75,
     "metadata": {},
     "output_type": "execute_result"
    }
   ],
   "source": [
    "stats.f_oneway(np.array(strut.SalePrice[strut.BldgType == '1Fam']),\\\n",
    "              np.array(strut.SalePrice[strut.BldgType == 'TwnhsE']))"
   ]
  },
  {
   "cell_type": "code",
   "execution_count": 76,
   "metadata": {},
   "outputs": [
    {
     "data": {
      "text/plain": [
       "F_onewayResult(statistic=0.462111211443755, pvalue=0.6310414639689512)"
      ]
     },
     "execution_count": 76,
     "metadata": {},
     "output_type": "execute_result"
    }
   ],
   "source": [
    "# ANOVA on 2 categories 2fmCon & Duplex & Twnhs\n",
    "stats.f_oneway(\n",
    "              np.array(strut.SalePrice[strut.BldgType == '2fmCon']),\\\n",
    "              np.array(strut.SalePrice[strut.BldgType == 'Duplex']),\\\n",
    "    np.array(strut.SalePrice[strut.BldgType == 'Twnhs']))"
   ]
  },
  {
   "cell_type": "code",
   "execution_count": 77,
   "metadata": {},
   "outputs": [],
   "source": [
    "strut.loc[ strut.BldgType == '2fmCon', 'BldgType'] = 'Other'\n",
    "strut.loc[ strut.BldgType == 'Duplex', 'BldgType'] = 'Other'\n",
    "strut.loc[ strut.BldgType == 'Twnhs', 'BldgType'] = 'Other'"
   ]
  },
  {
   "cell_type": "code",
   "execution_count": 78,
   "metadata": {},
   "outputs": [
    {
     "data": {
      "text/plain": [
       "{'1Fam', 'Other', 'TwnhsE'}"
      ]
     },
     "execution_count": 78,
     "metadata": {},
     "output_type": "execute_result"
    }
   ],
   "source": [
    "set(strut.BldgType)"
   ]
  },
  {
   "cell_type": "code",
   "execution_count": 79,
   "metadata": {
    "scrolled": true
   },
   "outputs": [
    {
     "data": {
      "text/html": [
       "<div>\n",
       "<style scoped>\n",
       "    .dataframe tbody tr th:only-of-type {\n",
       "        vertical-align: middle;\n",
       "    }\n",
       "\n",
       "    .dataframe tbody tr th {\n",
       "        vertical-align: top;\n",
       "    }\n",
       "\n",
       "    .dataframe thead th {\n",
       "        text-align: right;\n",
       "    }\n",
       "</style>\n",
       "<table border=\"1\" class=\"dataframe\">\n",
       "  <thead>\n",
       "    <tr style=\"text-align: right;\">\n",
       "      <th></th>\n",
       "      <th>SalePrice</th>\n",
       "      <th>Electrical_Y</th>\n",
       "      <th>CentralAir_Y</th>\n",
       "      <th>Heating_Ex</th>\n",
       "      <th>Heating_Gd</th>\n",
       "      <th>Heating_TA</th>\n",
       "      <th>MSZoning_C</th>\n",
       "      <th>MSZoning_RL</th>\n",
       "      <th>MSZoning_RM/RH</th>\n",
       "      <th>BldgType_1Fam</th>\n",
       "      <th>BldgType_TwnhsE</th>\n",
       "    </tr>\n",
       "  </thead>\n",
       "  <tbody>\n",
       "    <tr>\n",
       "      <th>1455</th>\n",
       "      <td>12.072541</td>\n",
       "      <td>1</td>\n",
       "      <td>1</td>\n",
       "      <td>1</td>\n",
       "      <td>0</td>\n",
       "      <td>0</td>\n",
       "      <td>0</td>\n",
       "      <td>1</td>\n",
       "      <td>0</td>\n",
       "      <td>1</td>\n",
       "      <td>0</td>\n",
       "    </tr>\n",
       "    <tr>\n",
       "      <th>1456</th>\n",
       "      <td>12.254863</td>\n",
       "      <td>1</td>\n",
       "      <td>1</td>\n",
       "      <td>0</td>\n",
       "      <td>0</td>\n",
       "      <td>1</td>\n",
       "      <td>0</td>\n",
       "      <td>1</td>\n",
       "      <td>0</td>\n",
       "      <td>1</td>\n",
       "      <td>0</td>\n",
       "    </tr>\n",
       "    <tr>\n",
       "      <th>1457</th>\n",
       "      <td>12.493130</td>\n",
       "      <td>1</td>\n",
       "      <td>1</td>\n",
       "      <td>1</td>\n",
       "      <td>0</td>\n",
       "      <td>0</td>\n",
       "      <td>0</td>\n",
       "      <td>1</td>\n",
       "      <td>0</td>\n",
       "      <td>1</td>\n",
       "      <td>0</td>\n",
       "    </tr>\n",
       "    <tr>\n",
       "      <th>1458</th>\n",
       "      <td>11.864462</td>\n",
       "      <td>0</td>\n",
       "      <td>1</td>\n",
       "      <td>0</td>\n",
       "      <td>1</td>\n",
       "      <td>0</td>\n",
       "      <td>0</td>\n",
       "      <td>1</td>\n",
       "      <td>0</td>\n",
       "      <td>1</td>\n",
       "      <td>0</td>\n",
       "    </tr>\n",
       "    <tr>\n",
       "      <th>1459</th>\n",
       "      <td>11.901583</td>\n",
       "      <td>1</td>\n",
       "      <td>1</td>\n",
       "      <td>0</td>\n",
       "      <td>1</td>\n",
       "      <td>0</td>\n",
       "      <td>0</td>\n",
       "      <td>1</td>\n",
       "      <td>0</td>\n",
       "      <td>1</td>\n",
       "      <td>0</td>\n",
       "    </tr>\n",
       "  </tbody>\n",
       "</table>\n",
       "</div>"
      ],
      "text/plain": [
       "      SalePrice  Electrical_Y  CentralAir_Y  Heating_Ex  Heating_Gd  \\\n",
       "1455  12.072541             1             1           1           0   \n",
       "1456  12.254863             1             1           0           0   \n",
       "1457  12.493130             1             1           1           0   \n",
       "1458  11.864462             0             1           0           1   \n",
       "1459  11.901583             1             1           0           1   \n",
       "\n",
       "      Heating_TA  MSZoning_C  MSZoning_RL  MSZoning_RM/RH  BldgType_1Fam  \\\n",
       "1455           0           0            1               0              1   \n",
       "1456           1           0            1               0              1   \n",
       "1457           0           0            1               0              1   \n",
       "1458           0           0            1               0              1   \n",
       "1459           0           0            1               0              1   \n",
       "\n",
       "      BldgType_TwnhsE  \n",
       "1455                0  \n",
       "1456                0  \n",
       "1457                0  \n",
       "1458                0  \n",
       "1459                0  "
      ]
     },
     "execution_count": 79,
     "metadata": {},
     "output_type": "execute_result"
    }
   ],
   "source": [
    "BldgType = pd.get_dummies(strut['BldgType'], prefix='BldgType', prefix_sep='_')\n",
    "BldgType = BldgType.drop('BldgType_Other', axis=1)\n",
    "BldgType.head()\n",
    "cleaned_df = pd.concat([cleaned_df, BldgType], axis=1)\n",
    "cleaned_df.tail() "
   ]
  },
  {
   "cell_type": "code",
   "execution_count": 80,
   "metadata": {},
   "outputs": [
    {
     "data": {
      "text/html": [
       "<div>\n",
       "<style scoped>\n",
       "    .dataframe tbody tr th:only-of-type {\n",
       "        vertical-align: middle;\n",
       "    }\n",
       "\n",
       "    .dataframe tbody tr th {\n",
       "        vertical-align: top;\n",
       "    }\n",
       "\n",
       "    .dataframe thead th {\n",
       "        text-align: right;\n",
       "    }\n",
       "</style>\n",
       "<table border=\"1\" class=\"dataframe\">\n",
       "  <thead>\n",
       "    <tr style=\"text-align: right;\">\n",
       "      <th></th>\n",
       "      <th>SalePrice</th>\n",
       "      <th>BldgType_1Fam</th>\n",
       "      <th>BldgType_TwnhsE</th>\n",
       "    </tr>\n",
       "  </thead>\n",
       "  <tbody>\n",
       "    <tr>\n",
       "      <th>SalePrice</th>\n",
       "      <td>1.000000</td>\n",
       "      <td>0.132469</td>\n",
       "      <td>0.025800</td>\n",
       "    </tr>\n",
       "    <tr>\n",
       "      <th>BldgType_1Fam</th>\n",
       "      <td>0.132469</td>\n",
       "      <td>1.000000</td>\n",
       "      <td>-0.656152</td>\n",
       "    </tr>\n",
       "    <tr>\n",
       "      <th>BldgType_TwnhsE</th>\n",
       "      <td>0.025800</td>\n",
       "      <td>-0.656152</td>\n",
       "      <td>1.000000</td>\n",
       "    </tr>\n",
       "  </tbody>\n",
       "</table>\n",
       "</div>"
      ],
      "text/plain": [
       "                 SalePrice  BldgType_1Fam  BldgType_TwnhsE\n",
       "SalePrice         1.000000       0.132469         0.025800\n",
       "BldgType_1Fam     0.132469       1.000000        -0.656152\n",
       "BldgType_TwnhsE   0.025800      -0.656152         1.000000"
      ]
     },
     "execution_count": 80,
     "metadata": {},
     "output_type": "execute_result"
    }
   ],
   "source": [
    "cleaned_df[['SalePrice', 'BldgType_1Fam', 'BldgType_TwnhsE']].corr()"
   ]
  },
  {
   "cell_type": "markdown",
   "metadata": {},
   "source": [
    "# HouseStyle"
   ]
  },
  {
   "cell_type": "code",
   "execution_count": 81,
   "metadata": {
    "scrolled": false
   },
   "outputs": [
    {
     "data": {
      "text/plain": [
       "<seaborn.axisgrid.FacetGrid at 0x1a1cd2d210>"
      ]
     },
     "execution_count": 81,
     "metadata": {},
     "output_type": "execute_result"
    },
    {
     "data": {
      "image/png": "[encoded data removed]",
      "text/plain": [
       "<Figure size 864x576 with 1 Axes>"
      ]
     },
     "metadata": {
      "needs_background": "light"
     },
     "output_type": "display_data"
    }
   ],
   "source": [
    "sns.catplot(x=\"HouseStyle\", y=\"SalePrice\", kind=\"box\", data=strut, height=8, aspect=1.5)"
   ]
  },
  {
   "cell_type": "code",
   "execution_count": 82,
   "metadata": {},
   "outputs": [
    {
     "data": {
      "text/plain": [
       "F_onewayResult(statistic=23.58576222546436, pvalue=1.636076519650482e-30)"
      ]
     },
     "execution_count": 82,
     "metadata": {},
     "output_type": "execute_result"
    }
   ],
   "source": [
    "# ANOVA on all categories\n",
    "stats.f_oneway(np.array(strut.SalePrice[strut.HouseStyle == '1.5Fin']),\\\n",
    "               np.array(strut.SalePrice[strut.HouseStyle == '1.5Unf']),\\\n",
    "               np.array(strut.SalePrice[strut.HouseStyle == '1Story']),\\\n",
    "               np.array(strut.SalePrice[strut.HouseStyle == '2Story']),\\\n",
    "               np.array(strut.SalePrice[strut.HouseStyle == '2.5Fin']),\\\n",
    "              np.array(strut.SalePrice[strut.HouseStyle == '2.5Unf']),\\\n",
    "              np.array(strut.SalePrice[strut.HouseStyle == 'SFoyer']),\\\n",
    "              np.array(strut.SalePrice[strut.HouseStyle == 'SLvl']))"
   ]
  },
  {
   "cell_type": "code",
   "execution_count": 83,
   "metadata": {},
   "outputs": [
    {
     "data": {
      "text/plain": [
       "F_onewayResult(statistic=8.538725739349966, pvalue=1.5127218191184764e-07)"
      ]
     },
     "execution_count": 83,
     "metadata": {},
     "output_type": "execute_result"
    }
   ],
   "source": [
    "stats.f_oneway(np.array(strut.SalePrice[strut.HouseStyle == '1.5Fin']),\\\n",
    "               np.array(strut.SalePrice[strut.HouseStyle == '1.5Unf']),\\\n",
    "               np.array(strut.SalePrice[strut.HouseStyle == '2.5Fin']),\\\n",
    "              np.array(strut.SalePrice[strut.HouseStyle == '2.5Unf']),\\\n",
    "              np.array(strut.SalePrice[strut.HouseStyle == 'SFoyer']),\\\n",
    "              np.array(strut.SalePrice[strut.HouseStyle == 'SLvl']))"
   ]
  },
  {
   "cell_type": "code",
   "execution_count": 84,
   "metadata": {},
   "outputs": [
    {
     "data": {
      "text/plain": [
       "F_onewayResult(statistic=7.168276873599857, pvalue=0.010067453514574696)"
      ]
     },
     "execution_count": 84,
     "metadata": {},
     "output_type": "execute_result"
    }
   ],
   "source": [
    "stats.f_oneway(np.array(strut.SalePrice[strut.HouseStyle == 'SFoyer']),\\\n",
    "               np.array(strut.SalePrice[strut.HouseStyle == '1.5Unf']))"
   ]
  },
  {
   "cell_type": "code",
   "execution_count": 85,
   "metadata": {},
   "outputs": [
    {
     "data": {
      "text/plain": [
       "F_onewayResult(statistic=2.9140684319411667, pvalue=0.05996443387240808)"
      ]
     },
     "execution_count": 85,
     "metadata": {},
     "output_type": "execute_result"
    }
   ],
   "source": [
    "stats.f_oneway(\n",
    "               np.array(strut.SalePrice[strut.HouseStyle == '2.5Fin']),\\\n",
    "               np.array(strut.SalePrice[strut.HouseStyle == '2.5Unf']),\\\n",
    "              np.array(strut.SalePrice[strut.HouseStyle == 'SLvl']))"
   ]
  },
  {
   "cell_type": "code",
   "execution_count": 86,
   "metadata": {},
   "outputs": [],
   "source": [
    "strut.loc[ strut.HouseStyle == '2.5Fin', 'HouseStyle'] = 'Other'\n",
    "strut.loc[ strut.HouseStyle == '2.5Unf', 'HouseStyle'] = 'Other'\n",
    "strut.loc[ strut.HouseStyle == 'SLvl', 'HouseStyle'] = 'Other'"
   ]
  },
  {
   "cell_type": "code",
   "execution_count": 87,
   "metadata": {},
   "outputs": [
    {
     "data": {
      "text/plain": [
       "{'1.5Fin', '1.5Unf', '1Story', '2Story', 'Other', 'SFoyer'}"
      ]
     },
     "execution_count": 87,
     "metadata": {},
     "output_type": "execute_result"
    }
   ],
   "source": [
    "set(strut.HouseStyle)"
   ]
  },
  {
   "cell_type": "code",
   "execution_count": 88,
   "metadata": {},
   "outputs": [
    {
     "data": {
      "text/html": [
       "<div>\n",
       "<style scoped>\n",
       "    .dataframe tbody tr th:only-of-type {\n",
       "        vertical-align: middle;\n",
       "    }\n",
       "\n",
       "    .dataframe tbody tr th {\n",
       "        vertical-align: top;\n",
       "    }\n",
       "\n",
       "    .dataframe thead th {\n",
       "        text-align: right;\n",
       "    }\n",
       "</style>\n",
       "<table border=\"1\" class=\"dataframe\">\n",
       "  <thead>\n",
       "    <tr style=\"text-align: right;\">\n",
       "      <th></th>\n",
       "      <th>SalePrice</th>\n",
       "      <th>Electrical_Y</th>\n",
       "      <th>CentralAir_Y</th>\n",
       "      <th>Heating_Ex</th>\n",
       "      <th>Heating_Gd</th>\n",
       "      <th>Heating_TA</th>\n",
       "      <th>MSZoning_C</th>\n",
       "      <th>MSZoning_RL</th>\n",
       "      <th>MSZoning_RM/RH</th>\n",
       "      <th>BldgType_1Fam</th>\n",
       "      <th>BldgType_TwnhsE</th>\n",
       "      <th>HouseStyle_1.5Fin</th>\n",
       "      <th>HouseStyle_1.5Unf</th>\n",
       "      <th>HouseStyle_1Story</th>\n",
       "      <th>HouseStyle_2Story</th>\n",
       "      <th>HouseStyle_Other</th>\n",
       "    </tr>\n",
       "  </thead>\n",
       "  <tbody>\n",
       "    <tr>\n",
       "      <th>1455</th>\n",
       "      <td>12.072541</td>\n",
       "      <td>1</td>\n",
       "      <td>1</td>\n",
       "      <td>1</td>\n",
       "      <td>0</td>\n",
       "      <td>0</td>\n",
       "      <td>0</td>\n",
       "      <td>1</td>\n",
       "      <td>0</td>\n",
       "      <td>1</td>\n",
       "      <td>0</td>\n",
       "      <td>0</td>\n",
       "      <td>0</td>\n",
       "      <td>0</td>\n",
       "      <td>1</td>\n",
       "      <td>0</td>\n",
       "    </tr>\n",
       "    <tr>\n",
       "      <th>1456</th>\n",
       "      <td>12.254863</td>\n",
       "      <td>1</td>\n",
       "      <td>1</td>\n",
       "      <td>0</td>\n",
       "      <td>0</td>\n",
       "      <td>1</td>\n",
       "      <td>0</td>\n",
       "      <td>1</td>\n",
       "      <td>0</td>\n",
       "      <td>1</td>\n",
       "      <td>0</td>\n",
       "      <td>0</td>\n",
       "      <td>0</td>\n",
       "      <td>1</td>\n",
       "      <td>0</td>\n",
       "      <td>0</td>\n",
       "    </tr>\n",
       "    <tr>\n",
       "      <th>1457</th>\n",
       "      <td>12.493130</td>\n",
       "      <td>1</td>\n",
       "      <td>1</td>\n",
       "      <td>1</td>\n",
       "      <td>0</td>\n",
       "      <td>0</td>\n",
       "      <td>0</td>\n",
       "      <td>1</td>\n",
       "      <td>0</td>\n",
       "      <td>1</td>\n",
       "      <td>0</td>\n",
       "      <td>0</td>\n",
       "      <td>0</td>\n",
       "      <td>0</td>\n",
       "      <td>1</td>\n",
       "      <td>0</td>\n",
       "    </tr>\n",
       "    <tr>\n",
       "      <th>1458</th>\n",
       "      <td>11.864462</td>\n",
       "      <td>0</td>\n",
       "      <td>1</td>\n",
       "      <td>0</td>\n",
       "      <td>1</td>\n",
       "      <td>0</td>\n",
       "      <td>0</td>\n",
       "      <td>1</td>\n",
       "      <td>0</td>\n",
       "      <td>1</td>\n",
       "      <td>0</td>\n",
       "      <td>0</td>\n",
       "      <td>0</td>\n",
       "      <td>1</td>\n",
       "      <td>0</td>\n",
       "      <td>0</td>\n",
       "    </tr>\n",
       "    <tr>\n",
       "      <th>1459</th>\n",
       "      <td>11.901583</td>\n",
       "      <td>1</td>\n",
       "      <td>1</td>\n",
       "      <td>0</td>\n",
       "      <td>1</td>\n",
       "      <td>0</td>\n",
       "      <td>0</td>\n",
       "      <td>1</td>\n",
       "      <td>0</td>\n",
       "      <td>1</td>\n",
       "      <td>0</td>\n",
       "      <td>0</td>\n",
       "      <td>0</td>\n",
       "      <td>1</td>\n",
       "      <td>0</td>\n",
       "      <td>0</td>\n",
       "    </tr>\n",
       "  </tbody>\n",
       "</table>\n",
       "</div>"
      ],
      "text/plain": [
       "      SalePrice  Electrical_Y  CentralAir_Y  Heating_Ex  Heating_Gd  \\\n",
       "1455  12.072541             1             1           1           0   \n",
       "1456  12.254863             1             1           0           0   \n",
       "1457  12.493130             1             1           1           0   \n",
       "1458  11.864462             0             1           0           1   \n",
       "1459  11.901583             1             1           0           1   \n",
       "\n",
       "      Heating_TA  MSZoning_C  MSZoning_RL  MSZoning_RM/RH  BldgType_1Fam  \\\n",
       "1455           0           0            1               0              1   \n",
       "1456           1           0            1               0              1   \n",
       "1457           0           0            1               0              1   \n",
       "1458           0           0            1               0              1   \n",
       "1459           0           0            1               0              1   \n",
       "\n",
       "      BldgType_TwnhsE  HouseStyle_1.5Fin  HouseStyle_1.5Unf  \\\n",
       "1455                0                  0                  0   \n",
       "1456                0                  0                  0   \n",
       "1457                0                  0                  0   \n",
       "1458                0                  0                  0   \n",
       "1459                0                  0                  0   \n",
       "\n",
       "      HouseStyle_1Story  HouseStyle_2Story  HouseStyle_Other  \n",
       "1455                  0                  1                 0  \n",
       "1456                  1                  0                 0  \n",
       "1457                  0                  1                 0  \n",
       "1458                  1                  0                 0  \n",
       "1459                  1                  0                 0  "
      ]
     },
     "execution_count": 88,
     "metadata": {},
     "output_type": "execute_result"
    }
   ],
   "source": [
    "HouseStyle = pd.get_dummies(strut['HouseStyle'], prefix='HouseStyle', prefix_sep='_')\n",
    "HouseStyle = HouseStyle.drop('HouseStyle_SFoyer', axis=1)\n",
    "HouseStyle.head()\n",
    "cleaned_df = pd.concat([cleaned_df, HouseStyle], axis=1)\n",
    "cleaned_df.tail() "
   ]
  },
  {
   "cell_type": "code",
   "execution_count": 89,
   "metadata": {},
   "outputs": [
    {
     "data": {
      "text/html": [
       "<div>\n",
       "<style scoped>\n",
       "    .dataframe tbody tr th:only-of-type {\n",
       "        vertical-align: middle;\n",
       "    }\n",
       "\n",
       "    .dataframe tbody tr th {\n",
       "        vertical-align: top;\n",
       "    }\n",
       "\n",
       "    .dataframe thead th {\n",
       "        text-align: right;\n",
       "    }\n",
       "</style>\n",
       "<table border=\"1\" class=\"dataframe\">\n",
       "  <thead>\n",
       "    <tr style=\"text-align: right;\">\n",
       "      <th></th>\n",
       "      <th>SalePrice</th>\n",
       "      <th>HouseStyle_1.5Fin</th>\n",
       "      <th>HouseStyle_1.5Unf</th>\n",
       "      <th>HouseStyle_1Story</th>\n",
       "      <th>HouseStyle_2Story</th>\n",
       "      <th>HouseStyle_Other</th>\n",
       "    </tr>\n",
       "  </thead>\n",
       "  <tbody>\n",
       "    <tr>\n",
       "      <th>SalePrice</th>\n",
       "      <td>1.000000</td>\n",
       "      <td>-0.181039</td>\n",
       "      <td>-0.105717</td>\n",
       "      <td>-0.075635</td>\n",
       "      <td>0.263046</td>\n",
       "      <td>-0.009785</td>\n",
       "    </tr>\n",
       "    <tr>\n",
       "      <th>HouseStyle_1.5Fin</th>\n",
       "      <td>-0.181039</td>\n",
       "      <td>1.000000</td>\n",
       "      <td>-0.033788</td>\n",
       "      <td>-0.341514</td>\n",
       "      <td>-0.227371</td>\n",
       "      <td>-0.084844</td>\n",
       "    </tr>\n",
       "    <tr>\n",
       "      <th>HouseStyle_1.5Unf</th>\n",
       "      <td>-0.105717</td>\n",
       "      <td>-0.033788</td>\n",
       "      <td>1.000000</td>\n",
       "      <td>-0.097859</td>\n",
       "      <td>-0.065152</td>\n",
       "      <td>-0.024311</td>\n",
       "    </tr>\n",
       "    <tr>\n",
       "      <th>HouseStyle_1Story</th>\n",
       "      <td>-0.075635</td>\n",
       "      <td>-0.341514</td>\n",
       "      <td>-0.097859</td>\n",
       "      <td>1.000000</td>\n",
       "      <td>-0.658517</td>\n",
       "      <td>-0.245726</td>\n",
       "    </tr>\n",
       "    <tr>\n",
       "      <th>HouseStyle_2Story</th>\n",
       "      <td>0.263046</td>\n",
       "      <td>-0.227371</td>\n",
       "      <td>-0.065152</td>\n",
       "      <td>-0.658517</td>\n",
       "      <td>1.000000</td>\n",
       "      <td>-0.163598</td>\n",
       "    </tr>\n",
       "    <tr>\n",
       "      <th>HouseStyle_Other</th>\n",
       "      <td>-0.009785</td>\n",
       "      <td>-0.084844</td>\n",
       "      <td>-0.024311</td>\n",
       "      <td>-0.245726</td>\n",
       "      <td>-0.163598</td>\n",
       "      <td>1.000000</td>\n",
       "    </tr>\n",
       "  </tbody>\n",
       "</table>\n",
       "</div>"
      ],
      "text/plain": [
       "                   SalePrice  HouseStyle_1.5Fin  HouseStyle_1.5Unf  \\\n",
       "SalePrice           1.000000          -0.181039          -0.105717   \n",
       "HouseStyle_1.5Fin  -0.181039           1.000000          -0.033788   \n",
       "HouseStyle_1.5Unf  -0.105717          -0.033788           1.000000   \n",
       "HouseStyle_1Story  -0.075635          -0.341514          -0.097859   \n",
       "HouseStyle_2Story   0.263046          -0.227371          -0.065152   \n",
       "HouseStyle_Other   -0.009785          -0.084844          -0.024311   \n",
       "\n",
       "                   HouseStyle_1Story  HouseStyle_2Story  HouseStyle_Other  \n",
       "SalePrice                  -0.075635           0.263046         -0.009785  \n",
       "HouseStyle_1.5Fin          -0.341514          -0.227371         -0.084844  \n",
       "HouseStyle_1.5Unf          -0.097859          -0.065152         -0.024311  \n",
       "HouseStyle_1Story           1.000000          -0.658517         -0.245726  \n",
       "HouseStyle_2Story          -0.658517           1.000000         -0.163598  \n",
       "HouseStyle_Other           -0.245726          -0.163598          1.000000  "
      ]
     },
     "execution_count": 89,
     "metadata": {},
     "output_type": "execute_result"
    }
   ],
   "source": [
    "cleaned_df[['SalePrice', 'HouseStyle_1.5Fin', 'HouseStyle_1.5Unf', 'HouseStyle_1Story',\n",
    "       'HouseStyle_2Story', 'HouseStyle_Other']].corr()"
   ]
  },
  {
   "cell_type": "markdown",
   "metadata": {},
   "source": [
    "# Overall Quality"
   ]
  },
  {
   "cell_type": "code",
   "execution_count": 90,
   "metadata": {},
   "outputs": [
    {
     "data": {
      "text/plain": [
       "<seaborn.axisgrid.FacetGrid at 0x1a1cfede90>"
      ]
     },
     "execution_count": 90,
     "metadata": {},
     "output_type": "execute_result"
    },
    {
     "data": {
      "image/png": "[encoded data removed]",
      "text/plain": [
       "<Figure size 648x432 with 1 Axes>"
      ]
     },
     "metadata": {
      "needs_background": "light"
     },
     "output_type": "display_data"
    }
   ],
   "source": [
    "sns.catplot(x=\"OverallQual\", y=\"SalePrice\", kind=\"box\", data=strut, height=6, aspect=1.5)"
   ]
  },
  {
   "cell_type": "code",
   "execution_count": 91,
   "metadata": {},
   "outputs": [
    {
     "data": {
      "text/plain": [
       "F_onewayResult(statistic=0.00895412510312544, pvalue=0.930577800849595)"
      ]
     },
     "execution_count": 91,
     "metadata": {},
     "output_type": "execute_result"
    }
   ],
   "source": [
    "stats.f_oneway(\n",
    "              np.array(strut.SalePrice[strut.OverallQual == 1]),\\\n",
    "              np.array(strut.SalePrice[strut.OverallQual == 2]))"
   ]
  },
  {
   "cell_type": "code",
   "execution_count": 92,
   "metadata": {},
   "outputs": [
    {
     "data": {
      "text/plain": [
       "F_onewayResult(statistic=2.72306267944426, pvalue=0.1042223590851148)"
      ]
     },
     "execution_count": 92,
     "metadata": {},
     "output_type": "execute_result"
    }
   ],
   "source": [
    "stats.f_oneway(\n",
    "              np.array(strut.SalePrice[strut.OverallQual == 9]),\\\n",
    "              np.array(strut.SalePrice[strut.OverallQual == 10]))"
   ]
  },
  {
   "cell_type": "code",
   "execution_count": 93,
   "metadata": {},
   "outputs": [],
   "source": [
    "strut.loc[ strut.OverallQual == 1, 'OverallQual'] = 2"
   ]
  },
  {
   "cell_type": "code",
   "execution_count": 94,
   "metadata": {},
   "outputs": [
    {
     "data": {
      "text/plain": [
       "{2, 3, 4, 5, 6, 7, 8, 9, 10}"
      ]
     },
     "execution_count": 94,
     "metadata": {},
     "output_type": "execute_result"
    }
   ],
   "source": [
    "set(strut.OverallQual )"
   ]
  },
  {
   "cell_type": "code",
   "execution_count": 95,
   "metadata": {},
   "outputs": [
    {
     "data": {
      "text/html": [
       "<div>\n",
       "<style scoped>\n",
       "    .dataframe tbody tr th:only-of-type {\n",
       "        vertical-align: middle;\n",
       "    }\n",
       "\n",
       "    .dataframe tbody tr th {\n",
       "        vertical-align: top;\n",
       "    }\n",
       "\n",
       "    .dataframe thead th {\n",
       "        text-align: right;\n",
       "    }\n",
       "</style>\n",
       "<table border=\"1\" class=\"dataframe\">\n",
       "  <thead>\n",
       "    <tr style=\"text-align: right;\">\n",
       "      <th></th>\n",
       "      <th>SalePrice</th>\n",
       "      <th>Electrical_Y</th>\n",
       "      <th>CentralAir_Y</th>\n",
       "      <th>Heating_Ex</th>\n",
       "      <th>Heating_Gd</th>\n",
       "      <th>Heating_TA</th>\n",
       "      <th>MSZoning_C</th>\n",
       "      <th>MSZoning_RL</th>\n",
       "      <th>MSZoning_RM/RH</th>\n",
       "      <th>BldgType_1Fam</th>\n",
       "      <th>...</th>\n",
       "      <th>HouseStyle_2Story</th>\n",
       "      <th>HouseStyle_Other</th>\n",
       "      <th>OverallQual_3</th>\n",
       "      <th>OverallQual_4</th>\n",
       "      <th>OverallQual_5</th>\n",
       "      <th>OverallQual_6</th>\n",
       "      <th>OverallQual_7</th>\n",
       "      <th>OverallQual_8</th>\n",
       "      <th>OverallQual_9</th>\n",
       "      <th>OverallQual_10</th>\n",
       "    </tr>\n",
       "  </thead>\n",
       "  <tbody>\n",
       "    <tr>\n",
       "      <th>1455</th>\n",
       "      <td>12.072541</td>\n",
       "      <td>1</td>\n",
       "      <td>1</td>\n",
       "      <td>1</td>\n",
       "      <td>0</td>\n",
       "      <td>0</td>\n",
       "      <td>0</td>\n",
       "      <td>1</td>\n",
       "      <td>0</td>\n",
       "      <td>1</td>\n",
       "      <td>...</td>\n",
       "      <td>1</td>\n",
       "      <td>0</td>\n",
       "      <td>0</td>\n",
       "      <td>0</td>\n",
       "      <td>0</td>\n",
       "      <td>1</td>\n",
       "      <td>0</td>\n",
       "      <td>0</td>\n",
       "      <td>0</td>\n",
       "      <td>0</td>\n",
       "    </tr>\n",
       "    <tr>\n",
       "      <th>1456</th>\n",
       "      <td>12.254863</td>\n",
       "      <td>1</td>\n",
       "      <td>1</td>\n",
       "      <td>0</td>\n",
       "      <td>0</td>\n",
       "      <td>1</td>\n",
       "      <td>0</td>\n",
       "      <td>1</td>\n",
       "      <td>0</td>\n",
       "      <td>1</td>\n",
       "      <td>...</td>\n",
       "      <td>0</td>\n",
       "      <td>0</td>\n",
       "      <td>0</td>\n",
       "      <td>0</td>\n",
       "      <td>0</td>\n",
       "      <td>1</td>\n",
       "      <td>0</td>\n",
       "      <td>0</td>\n",
       "      <td>0</td>\n",
       "      <td>0</td>\n",
       "    </tr>\n",
       "    <tr>\n",
       "      <th>1457</th>\n",
       "      <td>12.493130</td>\n",
       "      <td>1</td>\n",
       "      <td>1</td>\n",
       "      <td>1</td>\n",
       "      <td>0</td>\n",
       "      <td>0</td>\n",
       "      <td>0</td>\n",
       "      <td>1</td>\n",
       "      <td>0</td>\n",
       "      <td>1</td>\n",
       "      <td>...</td>\n",
       "      <td>1</td>\n",
       "      <td>0</td>\n",
       "      <td>0</td>\n",
       "      <td>0</td>\n",
       "      <td>0</td>\n",
       "      <td>0</td>\n",
       "      <td>1</td>\n",
       "      <td>0</td>\n",
       "      <td>0</td>\n",
       "      <td>0</td>\n",
       "    </tr>\n",
       "    <tr>\n",
       "      <th>1458</th>\n",
       "      <td>11.864462</td>\n",
       "      <td>0</td>\n",
       "      <td>1</td>\n",
       "      <td>0</td>\n",
       "      <td>1</td>\n",
       "      <td>0</td>\n",
       "      <td>0</td>\n",
       "      <td>1</td>\n",
       "      <td>0</td>\n",
       "      <td>1</td>\n",
       "      <td>...</td>\n",
       "      <td>0</td>\n",
       "      <td>0</td>\n",
       "      <td>0</td>\n",
       "      <td>0</td>\n",
       "      <td>1</td>\n",
       "      <td>0</td>\n",
       "      <td>0</td>\n",
       "      <td>0</td>\n",
       "      <td>0</td>\n",
       "      <td>0</td>\n",
       "    </tr>\n",
       "    <tr>\n",
       "      <th>1459</th>\n",
       "      <td>11.901583</td>\n",
       "      <td>1</td>\n",
       "      <td>1</td>\n",
       "      <td>0</td>\n",
       "      <td>1</td>\n",
       "      <td>0</td>\n",
       "      <td>0</td>\n",
       "      <td>1</td>\n",
       "      <td>0</td>\n",
       "      <td>1</td>\n",
       "      <td>...</td>\n",
       "      <td>0</td>\n",
       "      <td>0</td>\n",
       "      <td>0</td>\n",
       "      <td>0</td>\n",
       "      <td>1</td>\n",
       "      <td>0</td>\n",
       "      <td>0</td>\n",
       "      <td>0</td>\n",
       "      <td>0</td>\n",
       "      <td>0</td>\n",
       "    </tr>\n",
       "  </tbody>\n",
       "</table>\n",
       "<p>5 rows × 24 columns</p>\n",
       "</div>"
      ],
      "text/plain": [
       "      SalePrice  Electrical_Y  CentralAir_Y  Heating_Ex  Heating_Gd  \\\n",
       "1455  12.072541             1             1           1           0   \n",
       "1456  12.254863             1             1           0           0   \n",
       "1457  12.493130             1             1           1           0   \n",
       "1458  11.864462             0             1           0           1   \n",
       "1459  11.901583             1             1           0           1   \n",
       "\n",
       "      Heating_TA  MSZoning_C  MSZoning_RL  MSZoning_RM/RH  BldgType_1Fam  ...  \\\n",
       "1455           0           0            1               0              1  ...   \n",
       "1456           1           0            1               0              1  ...   \n",
       "1457           0           0            1               0              1  ...   \n",
       "1458           0           0            1               0              1  ...   \n",
       "1459           0           0            1               0              1  ...   \n",
       "\n",
       "      HouseStyle_2Story  HouseStyle_Other  OverallQual_3  OverallQual_4  \\\n",
       "1455                  1                 0              0              0   \n",
       "1456                  0                 0              0              0   \n",
       "1457                  1                 0              0              0   \n",
       "1458                  0                 0              0              0   \n",
       "1459                  0                 0              0              0   \n",
       "\n",
       "      OverallQual_5  OverallQual_6  OverallQual_7  OverallQual_8  \\\n",
       "1455              0              1              0              0   \n",
       "1456              0              1              0              0   \n",
       "1457              0              0              1              0   \n",
       "1458              1              0              0              0   \n",
       "1459              1              0              0              0   \n",
       "\n",
       "      OverallQual_9  OverallQual_10  \n",
       "1455              0               0  \n",
       "1456              0               0  \n",
       "1457              0               0  \n",
       "1458              0               0  \n",
       "1459              0               0  \n",
       "\n",
       "[5 rows x 24 columns]"
      ]
     },
     "execution_count": 95,
     "metadata": {},
     "output_type": "execute_result"
    }
   ],
   "source": [
    "OverallQual = pd.get_dummies(strut['OverallQual'], prefix='OverallQual', prefix_sep='_')\n",
    "OverallQual = OverallQual.drop('OverallQual_2', axis=1)\n",
    "OverallQual.head()\n",
    "cleaned_df = pd.concat([cleaned_df, OverallQual], axis=1)\n",
    "cleaned_df.tail() "
   ]
  },
  {
   "cell_type": "code",
   "execution_count": 96,
   "metadata": {},
   "outputs": [
    {
     "data": {
      "text/html": [
       "<div>\n",
       "<style scoped>\n",
       "    .dataframe tbody tr th:only-of-type {\n",
       "        vertical-align: middle;\n",
       "    }\n",
       "\n",
       "    .dataframe tbody tr th {\n",
       "        vertical-align: top;\n",
       "    }\n",
       "\n",
       "    .dataframe thead th {\n",
       "        text-align: right;\n",
       "    }\n",
       "</style>\n",
       "<table border=\"1\" class=\"dataframe\">\n",
       "  <thead>\n",
       "    <tr style=\"text-align: right;\">\n",
       "      <th></th>\n",
       "      <th>SalePrice</th>\n",
       "      <th>OverallQual_3</th>\n",
       "      <th>OverallQual_4</th>\n",
       "      <th>OverallQual_5</th>\n",
       "      <th>OverallQual_6</th>\n",
       "      <th>OverallQual_7</th>\n",
       "      <th>OverallQual_8</th>\n",
       "      <th>OverallQual_9</th>\n",
       "      <th>OverallQual_10</th>\n",
       "    </tr>\n",
       "  </thead>\n",
       "  <tbody>\n",
       "    <tr>\n",
       "      <th>SalePrice</th>\n",
       "      <td>1.000000</td>\n",
       "      <td>-0.202632</td>\n",
       "      <td>-0.343510</td>\n",
       "      <td>-0.372497</td>\n",
       "      <td>-0.083390</td>\n",
       "      <td>0.261813</td>\n",
       "      <td>0.427265</td>\n",
       "      <td>0.335569</td>\n",
       "      <td>0.251046</td>\n",
       "    </tr>\n",
       "    <tr>\n",
       "      <th>OverallQual_3</th>\n",
       "      <td>-0.202632</td>\n",
       "      <td>1.000000</td>\n",
       "      <td>-0.034623</td>\n",
       "      <td>-0.072022</td>\n",
       "      <td>-0.069160</td>\n",
       "      <td>-0.062314</td>\n",
       "      <td>-0.042497</td>\n",
       "      <td>-0.020530</td>\n",
       "      <td>-0.013167</td>\n",
       "    </tr>\n",
       "    <tr>\n",
       "      <th>OverallQual_4</th>\n",
       "      <td>-0.343510</td>\n",
       "      <td>-0.034623</td>\n",
       "      <td>1.000000</td>\n",
       "      <td>-0.179539</td>\n",
       "      <td>-0.172405</td>\n",
       "      <td>-0.155339</td>\n",
       "      <td>-0.105938</td>\n",
       "      <td>-0.051177</td>\n",
       "      <td>-0.032823</td>\n",
       "    </tr>\n",
       "    <tr>\n",
       "      <th>OverallQual_5</th>\n",
       "      <td>-0.372497</td>\n",
       "      <td>-0.072022</td>\n",
       "      <td>-0.179539</td>\n",
       "      <td>1.000000</td>\n",
       "      <td>-0.358632</td>\n",
       "      <td>-0.323133</td>\n",
       "      <td>-0.220370</td>\n",
       "      <td>-0.106458</td>\n",
       "      <td>-0.068278</td>\n",
       "    </tr>\n",
       "    <tr>\n",
       "      <th>OverallQual_6</th>\n",
       "      <td>-0.083390</td>\n",
       "      <td>-0.069160</td>\n",
       "      <td>-0.172405</td>\n",
       "      <td>-0.358632</td>\n",
       "      <td>1.000000</td>\n",
       "      <td>-0.310294</td>\n",
       "      <td>-0.211614</td>\n",
       "      <td>-0.102228</td>\n",
       "      <td>-0.065565</td>\n",
       "    </tr>\n",
       "    <tr>\n",
       "      <th>OverallQual_7</th>\n",
       "      <td>0.261813</td>\n",
       "      <td>-0.062314</td>\n",
       "      <td>-0.155339</td>\n",
       "      <td>-0.323133</td>\n",
       "      <td>-0.310294</td>\n",
       "      <td>1.000000</td>\n",
       "      <td>-0.190667</td>\n",
       "      <td>-0.092109</td>\n",
       "      <td>-0.059075</td>\n",
       "    </tr>\n",
       "    <tr>\n",
       "      <th>OverallQual_8</th>\n",
       "      <td>0.427265</td>\n",
       "      <td>-0.042497</td>\n",
       "      <td>-0.105938</td>\n",
       "      <td>-0.220370</td>\n",
       "      <td>-0.211614</td>\n",
       "      <td>-0.190667</td>\n",
       "      <td>1.000000</td>\n",
       "      <td>-0.062816</td>\n",
       "      <td>-0.040288</td>\n",
       "    </tr>\n",
       "    <tr>\n",
       "      <th>OverallQual_9</th>\n",
       "      <td>0.335569</td>\n",
       "      <td>-0.020530</td>\n",
       "      <td>-0.051177</td>\n",
       "      <td>-0.106458</td>\n",
       "      <td>-0.102228</td>\n",
       "      <td>-0.092109</td>\n",
       "      <td>-0.062816</td>\n",
       "      <td>1.000000</td>\n",
       "      <td>-0.019463</td>\n",
       "    </tr>\n",
       "    <tr>\n",
       "      <th>OverallQual_10</th>\n",
       "      <td>0.251046</td>\n",
       "      <td>-0.013167</td>\n",
       "      <td>-0.032823</td>\n",
       "      <td>-0.068278</td>\n",
       "      <td>-0.065565</td>\n",
       "      <td>-0.059075</td>\n",
       "      <td>-0.040288</td>\n",
       "      <td>-0.019463</td>\n",
       "      <td>1.000000</td>\n",
       "    </tr>\n",
       "  </tbody>\n",
       "</table>\n",
       "</div>"
      ],
      "text/plain": [
       "                SalePrice  OverallQual_3  OverallQual_4  OverallQual_5  \\\n",
       "SalePrice        1.000000      -0.202632      -0.343510      -0.372497   \n",
       "OverallQual_3   -0.202632       1.000000      -0.034623      -0.072022   \n",
       "OverallQual_4   -0.343510      -0.034623       1.000000      -0.179539   \n",
       "OverallQual_5   -0.372497      -0.072022      -0.179539       1.000000   \n",
       "OverallQual_6   -0.083390      -0.069160      -0.172405      -0.358632   \n",
       "OverallQual_7    0.261813      -0.062314      -0.155339      -0.323133   \n",
       "OverallQual_8    0.427265      -0.042497      -0.105938      -0.220370   \n",
       "OverallQual_9    0.335569      -0.020530      -0.051177      -0.106458   \n",
       "OverallQual_10   0.251046      -0.013167      -0.032823      -0.068278   \n",
       "\n",
       "                OverallQual_6  OverallQual_7  OverallQual_8  OverallQual_9  \\\n",
       "SalePrice           -0.083390       0.261813       0.427265       0.335569   \n",
       "OverallQual_3       -0.069160      -0.062314      -0.042497      -0.020530   \n",
       "OverallQual_4       -0.172405      -0.155339      -0.105938      -0.051177   \n",
       "OverallQual_5       -0.358632      -0.323133      -0.220370      -0.106458   \n",
       "OverallQual_6        1.000000      -0.310294      -0.211614      -0.102228   \n",
       "OverallQual_7       -0.310294       1.000000      -0.190667      -0.092109   \n",
       "OverallQual_8       -0.211614      -0.190667       1.000000      -0.062816   \n",
       "OverallQual_9       -0.102228      -0.092109      -0.062816       1.000000   \n",
       "OverallQual_10      -0.065565      -0.059075      -0.040288      -0.019463   \n",
       "\n",
       "                OverallQual_10  \n",
       "SalePrice             0.251046  \n",
       "OverallQual_3        -0.013167  \n",
       "OverallQual_4        -0.032823  \n",
       "OverallQual_5        -0.068278  \n",
       "OverallQual_6        -0.065565  \n",
       "OverallQual_7        -0.059075  \n",
       "OverallQual_8        -0.040288  \n",
       "OverallQual_9        -0.019463  \n",
       "OverallQual_10        1.000000  "
      ]
     },
     "execution_count": 96,
     "metadata": {},
     "output_type": "execute_result"
    }
   ],
   "source": [
    "cleaned_df[['SalePrice', 'OverallQual_3', 'OverallQual_4', 'OverallQual_5', 'OverallQual_6',\n",
    "       'OverallQual_7', 'OverallQual_8', 'OverallQual_9', 'OverallQual_10']].corr()"
   ]
  },
  {
   "cell_type": "markdown",
   "metadata": {},
   "source": [
    "# Overall Condition"
   ]
  },
  {
   "cell_type": "code",
   "execution_count": 97,
   "metadata": {
    "scrolled": false
   },
   "outputs": [
    {
     "data": {
      "text/plain": [
       "<seaborn.axisgrid.FacetGrid at 0x1a1d254ed0>"
      ]
     },
     "execution_count": 97,
     "metadata": {},
     "output_type": "execute_result"
    },
    {
     "data": {
      "image/png": "[encoded data removed]",
      "text/plain": [
       "<Figure size 540x360 with 1 Axes>"
      ]
     },
     "metadata": {
      "needs_background": "light"
     },
     "output_type": "display_data"
    }
   ],
   "source": [
    "sns.catplot(x=\"OverallCond\", y=\"SalePrice\", kind=\"box\", data=strut, height=5, aspect=1.5) # before Changing"
   ]
  },
  {
   "cell_type": "code",
   "execution_count": 98,
   "metadata": {},
   "outputs": [
    {
     "data": {
      "text/plain": [
       "F_onewayResult(statistic=2.2076702553537375, pvalue=0.09318227231977581)"
      ]
     },
     "execution_count": 98,
     "metadata": {},
     "output_type": "execute_result"
    }
   ],
   "source": [
    "stats.f_oneway(np.array(strut.SalePrice[strut.OverallCond == 1]),\\\n",
    "              np.array(strut.SalePrice[strut.OverallCond == 2]),\\\n",
    "              np.array(strut.SalePrice[strut.OverallCond == 3]),\\\n",
    "               np.array(strut.SalePrice[strut.OverallCond == 4]))"
   ]
  },
  {
   "cell_type": "code",
   "execution_count": 99,
   "metadata": {},
   "outputs": [
    {
     "data": {
      "text/plain": [
       "F_onewayResult(statistic=0.5769925281697731, pvalue=0.5619398159438227)"
      ]
     },
     "execution_count": 99,
     "metadata": {},
     "output_type": "execute_result"
    }
   ],
   "source": [
    "stats.f_oneway(np.array(strut.SalePrice[strut.OverallCond == 6]),\\\n",
    "              np.array(strut.SalePrice[strut.OverallCond == 7]),\\\n",
    "               np.array(strut.SalePrice[strut.OverallCond == 8]))"
   ]
  },
  {
   "cell_type": "code",
   "execution_count": 100,
   "metadata": {},
   "outputs": [
    {
     "data": {
      "text/plain": [
       "F_onewayResult(statistic=0.517217523034142, pvalue=0.5118061261385612)"
      ]
     },
     "execution_count": 100,
     "metadata": {},
     "output_type": "execute_result"
    }
   ],
   "source": [
    "stats.f_oneway(np.array(strut.SalePrice[strut.OverallCond == 1]),\\\n",
    "              np.array(strut.SalePrice[strut.OverallCond == 2]))"
   ]
  },
  {
   "cell_type": "code",
   "execution_count": 101,
   "metadata": {},
   "outputs": [
    {
     "data": {
      "text/plain": [
       "F_onewayResult(statistic=0.41731238256873776, pvalue=0.5184573945018449)"
      ]
     },
     "execution_count": 101,
     "metadata": {},
     "output_type": "execute_result"
    }
   ],
   "source": [
    "stats.f_oneway(np.array(strut.SalePrice[strut.OverallCond == 5]),\\\n",
    "              np.array(strut.SalePrice[strut.OverallCond == 9]))"
   ]
  },
  {
   "cell_type": "code",
   "execution_count": 102,
   "metadata": {},
   "outputs": [
    {
     "data": {
      "text/plain": [
       "F_onewayResult(statistic=87.98365119766908, pvalue=5.494002170492567e-20)"
      ]
     },
     "execution_count": 102,
     "metadata": {},
     "output_type": "execute_result"
    }
   ],
   "source": [
    "stats.f_oneway(np.array(strut.SalePrice[strut.OverallCond == 5]),\\\n",
    "              np.array(strut.SalePrice[strut.OverallCond == 4]))"
   ]
  },
  {
   "cell_type": "code",
   "execution_count": 103,
   "metadata": {},
   "outputs": [],
   "source": [
    "strut.loc[ strut.OverallCond == 9, 'OverallCond'] = 5\n",
    "strut.loc[ strut.OverallCond == 7, 'OverallCond'] = 6\n",
    "strut.loc[ strut.OverallCond == 8, 'OverallCond'] = 6"
   ]
  },
  {
   "cell_type": "code",
   "execution_count": 104,
   "metadata": {},
   "outputs": [],
   "source": [
    "strut.loc[ strut.OverallCond == 1, 'OverallCond'] = 2"
   ]
  },
  {
   "cell_type": "code",
   "execution_count": 105,
   "metadata": {},
   "outputs": [],
   "source": [
    "strut.loc[ strut.OverallCond == 2, 'OverallCond'] = 3"
   ]
  },
  {
   "cell_type": "code",
   "execution_count": 106,
   "metadata": {},
   "outputs": [
    {
     "data": {
      "text/plain": [
       "{3, 4, 5, 6}"
      ]
     },
     "execution_count": 106,
     "metadata": {},
     "output_type": "execute_result"
    }
   ],
   "source": [
    "set(strut.OverallCond )"
   ]
  },
  {
   "cell_type": "code",
   "execution_count": 107,
   "metadata": {},
   "outputs": [
    {
     "data": {
      "text/html": [
       "<div>\n",
       "<style scoped>\n",
       "    .dataframe tbody tr th:only-of-type {\n",
       "        vertical-align: middle;\n",
       "    }\n",
       "\n",
       "    .dataframe tbody tr th {\n",
       "        vertical-align: top;\n",
       "    }\n",
       "\n",
       "    .dataframe thead th {\n",
       "        text-align: right;\n",
       "    }\n",
       "</style>\n",
       "<table border=\"1\" class=\"dataframe\">\n",
       "  <thead>\n",
       "    <tr style=\"text-align: right;\">\n",
       "      <th></th>\n",
       "      <th>SalePrice</th>\n",
       "      <th>Electrical_Y</th>\n",
       "      <th>CentralAir_Y</th>\n",
       "      <th>Heating_Ex</th>\n",
       "      <th>Heating_Gd</th>\n",
       "      <th>Heating_TA</th>\n",
       "      <th>MSZoning_C</th>\n",
       "      <th>MSZoning_RL</th>\n",
       "      <th>MSZoning_RM/RH</th>\n",
       "      <th>BldgType_1Fam</th>\n",
       "      <th>...</th>\n",
       "      <th>OverallQual_4</th>\n",
       "      <th>OverallQual_5</th>\n",
       "      <th>OverallQual_6</th>\n",
       "      <th>OverallQual_7</th>\n",
       "      <th>OverallQual_8</th>\n",
       "      <th>OverallQual_9</th>\n",
       "      <th>OverallQual_10</th>\n",
       "      <th>OverallCond_4</th>\n",
       "      <th>OverallCond_5</th>\n",
       "      <th>OverallCond_6</th>\n",
       "    </tr>\n",
       "  </thead>\n",
       "  <tbody>\n",
       "    <tr>\n",
       "      <th>1455</th>\n",
       "      <td>12.072541</td>\n",
       "      <td>1</td>\n",
       "      <td>1</td>\n",
       "      <td>1</td>\n",
       "      <td>0</td>\n",
       "      <td>0</td>\n",
       "      <td>0</td>\n",
       "      <td>1</td>\n",
       "      <td>0</td>\n",
       "      <td>1</td>\n",
       "      <td>...</td>\n",
       "      <td>0</td>\n",
       "      <td>0</td>\n",
       "      <td>1</td>\n",
       "      <td>0</td>\n",
       "      <td>0</td>\n",
       "      <td>0</td>\n",
       "      <td>0</td>\n",
       "      <td>0</td>\n",
       "      <td>1</td>\n",
       "      <td>0</td>\n",
       "    </tr>\n",
       "    <tr>\n",
       "      <th>1456</th>\n",
       "      <td>12.254863</td>\n",
       "      <td>1</td>\n",
       "      <td>1</td>\n",
       "      <td>0</td>\n",
       "      <td>0</td>\n",
       "      <td>1</td>\n",
       "      <td>0</td>\n",
       "      <td>1</td>\n",
       "      <td>0</td>\n",
       "      <td>1</td>\n",
       "      <td>...</td>\n",
       "      <td>0</td>\n",
       "      <td>0</td>\n",
       "      <td>1</td>\n",
       "      <td>0</td>\n",
       "      <td>0</td>\n",
       "      <td>0</td>\n",
       "      <td>0</td>\n",
       "      <td>0</td>\n",
       "      <td>0</td>\n",
       "      <td>1</td>\n",
       "    </tr>\n",
       "    <tr>\n",
       "      <th>1457</th>\n",
       "      <td>12.493130</td>\n",
       "      <td>1</td>\n",
       "      <td>1</td>\n",
       "      <td>1</td>\n",
       "      <td>0</td>\n",
       "      <td>0</td>\n",
       "      <td>0</td>\n",
       "      <td>1</td>\n",
       "      <td>0</td>\n",
       "      <td>1</td>\n",
       "      <td>...</td>\n",
       "      <td>0</td>\n",
       "      <td>0</td>\n",
       "      <td>0</td>\n",
       "      <td>1</td>\n",
       "      <td>0</td>\n",
       "      <td>0</td>\n",
       "      <td>0</td>\n",
       "      <td>0</td>\n",
       "      <td>1</td>\n",
       "      <td>0</td>\n",
       "    </tr>\n",
       "    <tr>\n",
       "      <th>1458</th>\n",
       "      <td>11.864462</td>\n",
       "      <td>0</td>\n",
       "      <td>1</td>\n",
       "      <td>0</td>\n",
       "      <td>1</td>\n",
       "      <td>0</td>\n",
       "      <td>0</td>\n",
       "      <td>1</td>\n",
       "      <td>0</td>\n",
       "      <td>1</td>\n",
       "      <td>...</td>\n",
       "      <td>0</td>\n",
       "      <td>1</td>\n",
       "      <td>0</td>\n",
       "      <td>0</td>\n",
       "      <td>0</td>\n",
       "      <td>0</td>\n",
       "      <td>0</td>\n",
       "      <td>0</td>\n",
       "      <td>0</td>\n",
       "      <td>1</td>\n",
       "    </tr>\n",
       "    <tr>\n",
       "      <th>1459</th>\n",
       "      <td>11.901583</td>\n",
       "      <td>1</td>\n",
       "      <td>1</td>\n",
       "      <td>0</td>\n",
       "      <td>1</td>\n",
       "      <td>0</td>\n",
       "      <td>0</td>\n",
       "      <td>1</td>\n",
       "      <td>0</td>\n",
       "      <td>1</td>\n",
       "      <td>...</td>\n",
       "      <td>0</td>\n",
       "      <td>1</td>\n",
       "      <td>0</td>\n",
       "      <td>0</td>\n",
       "      <td>0</td>\n",
       "      <td>0</td>\n",
       "      <td>0</td>\n",
       "      <td>0</td>\n",
       "      <td>0</td>\n",
       "      <td>1</td>\n",
       "    </tr>\n",
       "  </tbody>\n",
       "</table>\n",
       "<p>5 rows × 27 columns</p>\n",
       "</div>"
      ],
      "text/plain": [
       "      SalePrice  Electrical_Y  CentralAir_Y  Heating_Ex  Heating_Gd  \\\n",
       "1455  12.072541             1             1           1           0   \n",
       "1456  12.254863             1             1           0           0   \n",
       "1457  12.493130             1             1           1           0   \n",
       "1458  11.864462             0             1           0           1   \n",
       "1459  11.901583             1             1           0           1   \n",
       "\n",
       "      Heating_TA  MSZoning_C  MSZoning_RL  MSZoning_RM/RH  BldgType_1Fam  ...  \\\n",
       "1455           0           0            1               0              1  ...   \n",
       "1456           1           0            1               0              1  ...   \n",
       "1457           0           0            1               0              1  ...   \n",
       "1458           0           0            1               0              1  ...   \n",
       "1459           0           0            1               0              1  ...   \n",
       "\n",
       "      OverallQual_4  OverallQual_5  OverallQual_6  OverallQual_7  \\\n",
       "1455              0              0              1              0   \n",
       "1456              0              0              1              0   \n",
       "1457              0              0              0              1   \n",
       "1458              0              1              0              0   \n",
       "1459              0              1              0              0   \n",
       "\n",
       "      OverallQual_8  OverallQual_9  OverallQual_10  OverallCond_4  \\\n",
       "1455              0              0               0              0   \n",
       "1456              0              0               0              0   \n",
       "1457              0              0               0              0   \n",
       "1458              0              0               0              0   \n",
       "1459              0              0               0              0   \n",
       "\n",
       "      OverallCond_5  OverallCond_6  \n",
       "1455              1              0  \n",
       "1456              0              1  \n",
       "1457              1              0  \n",
       "1458              0              1  \n",
       "1459              0              1  \n",
       "\n",
       "[5 rows x 27 columns]"
      ]
     },
     "execution_count": 107,
     "metadata": {},
     "output_type": "execute_result"
    }
   ],
   "source": [
    "OverallCond = pd.get_dummies(strut['OverallCond'], prefix='OverallCond', prefix_sep='_')\n",
    "OverallCond = OverallCond.drop('OverallCond_3', axis=1)\n",
    "OverallCond.head()\n",
    "cleaned_df = pd.concat([cleaned_df, OverallCond], axis=1)\n",
    "cleaned_df.tail() "
   ]
  },
  {
   "cell_type": "code",
   "execution_count": 108,
   "metadata": {},
   "outputs": [
    {
     "data": {
      "text/html": [
       "<div>\n",
       "<style scoped>\n",
       "    .dataframe tbody tr th:only-of-type {\n",
       "        vertical-align: middle;\n",
       "    }\n",
       "\n",
       "    .dataframe tbody tr th {\n",
       "        vertical-align: top;\n",
       "    }\n",
       "\n",
       "    .dataframe thead th {\n",
       "        text-align: right;\n",
       "    }\n",
       "</style>\n",
       "<table border=\"1\" class=\"dataframe\">\n",
       "  <thead>\n",
       "    <tr style=\"text-align: right;\">\n",
       "      <th></th>\n",
       "      <th>OverallCond_4</th>\n",
       "      <th>OverallCond_5</th>\n",
       "      <th>OverallCond_6</th>\n",
       "    </tr>\n",
       "  </thead>\n",
       "  <tbody>\n",
       "    <tr>\n",
       "      <th>OverallCond_4</th>\n",
       "      <td>1.000000</td>\n",
       "      <td>-0.235602</td>\n",
       "      <td>-0.151936</td>\n",
       "    </tr>\n",
       "    <tr>\n",
       "      <th>OverallCond_5</th>\n",
       "      <td>-0.235602</td>\n",
       "      <td>1.000000</td>\n",
       "      <td>-0.881098</td>\n",
       "    </tr>\n",
       "    <tr>\n",
       "      <th>OverallCond_6</th>\n",
       "      <td>-0.151936</td>\n",
       "      <td>-0.881098</td>\n",
       "      <td>1.000000</td>\n",
       "    </tr>\n",
       "  </tbody>\n",
       "</table>\n",
       "</div>"
      ],
      "text/plain": [
       "               OverallCond_4  OverallCond_5  OverallCond_6\n",
       "OverallCond_4       1.000000      -0.235602      -0.151936\n",
       "OverallCond_5      -0.235602       1.000000      -0.881098\n",
       "OverallCond_6      -0.151936      -0.881098       1.000000"
      ]
     },
     "execution_count": 108,
     "metadata": {},
     "output_type": "execute_result"
    }
   ],
   "source": [
    "cleaned_df[['OverallCond_4', 'OverallCond_5', 'OverallCond_6']].corr()"
   ]
  },
  {
   "cell_type": "markdown",
   "metadata": {},
   "source": [
    "# Roofstyle"
   ]
  },
  {
   "cell_type": "code",
   "execution_count": 109,
   "metadata": {},
   "outputs": [
    {
     "data": {
      "text/plain": [
       "<seaborn.axisgrid.FacetGrid at 0x1a1d25b6d0>"
      ]
     },
     "execution_count": 109,
     "metadata": {},
     "output_type": "execute_result"
    },
    {
     "data": {
      "image/png": "[encoded data removed]",
      "text/plain": [
       "<Figure size 540x360 with 1 Axes>"
      ]
     },
     "metadata": {
      "needs_background": "light"
     },
     "output_type": "display_data"
    }
   ],
   "source": [
    "sns.catplot(x=\"RoofStyle\", y=\"SalePrice\", kind=\"box\", data=strut, height=5, aspect=1.5)"
   ]
  },
  {
   "cell_type": "code",
   "execution_count": 110,
   "metadata": {},
   "outputs": [
    {
     "data": {
      "text/plain": [
       "F_onewayResult(statistic=13.09728259969726, pvalue=1.7057398533064975e-12)"
      ]
     },
     "execution_count": 110,
     "metadata": {},
     "output_type": "execute_result"
    }
   ],
   "source": [
    "stats.f_oneway(np.array(strut.SalePrice[strut.RoofStyle == 'Gable']),\\\n",
    "              np.array(strut.SalePrice[strut.RoofStyle == 'Hip']),\\\n",
    "              np.array(strut.SalePrice[strut.RoofStyle == 'Gambrel']),\\\n",
    "              np.array(strut.SalePrice[strut.RoofStyle == 'Mansard']),\\\n",
    "              np.array(strut.SalePrice[strut.RoofStyle == 'Flat']),\\\n",
    "              np.array(strut.SalePrice[strut.RoofStyle == 'Shed']))"
   ]
  },
  {
   "cell_type": "code",
   "execution_count": 111,
   "metadata": {},
   "outputs": [
    {
     "data": {
      "text/plain": [
       "F_onewayResult(statistic=60.05567286059631, pvalue=1.7418035707560664e-14)"
      ]
     },
     "execution_count": 111,
     "metadata": {},
     "output_type": "execute_result"
    }
   ],
   "source": [
    "stats.f_oneway(np.array(strut.SalePrice[strut.RoofStyle == 'Gable']),\\\n",
    "              np.array(strut.SalePrice[strut.RoofStyle == 'Hip']))"
   ]
  },
  {
   "cell_type": "code",
   "execution_count": 112,
   "metadata": {},
   "outputs": [
    {
     "data": {
      "text/plain": [
       "F_onewayResult(statistic=1.5915384072324366, pvalue=0.21281180951077985)"
      ]
     },
     "execution_count": 112,
     "metadata": {},
     "output_type": "execute_result"
    }
   ],
   "source": [
    "stats.f_oneway(np.array(strut.SalePrice[strut.RoofStyle == 'Gambrel']),\\\n",
    "              np.array(strut.SalePrice[strut.RoofStyle == 'Mansard']),\\\n",
    "              np.array(strut.SalePrice[strut.RoofStyle == 'Flat']),\\\n",
    "              np.array(strut.SalePrice[strut.RoofStyle == 'Shed']))"
   ]
  },
  {
   "cell_type": "code",
   "execution_count": 113,
   "metadata": {},
   "outputs": [],
   "source": [
    "strut.loc[ strut.RoofStyle == 'Gambrel', 'RoofStyle'] = 'other'\n",
    "strut.loc[ strut.RoofStyle == 'Mansard', 'RoofStyle'] = 'other'\n",
    "strut.loc[ strut.RoofStyle == 'Flat', 'RoofStyle'] = 'other'\n",
    "strut.loc[ strut.RoofStyle == 'Shed', 'RoofStyle'] = 'other'"
   ]
  },
  {
   "cell_type": "code",
   "execution_count": 114,
   "metadata": {},
   "outputs": [
    {
     "data": {
      "text/plain": [
       "F_onewayResult(statistic=29.882932342063253, pvalue=1.910392411557432e-13)"
      ]
     },
     "execution_count": 114,
     "metadata": {},
     "output_type": "execute_result"
    }
   ],
   "source": [
    "stats.f_oneway(np.array(strut.SalePrice[strut.RoofStyle == 'Gable']),\\\n",
    "               np.array(strut.SalePrice[strut.RoofStyle == 'other']),\\\n",
    "              np.array(strut.SalePrice[strut.RoofStyle == 'Hip']))"
   ]
  },
  {
   "cell_type": "code",
   "execution_count": 115,
   "metadata": {},
   "outputs": [
    {
     "data": {
      "text/plain": [
       "{'Gable', 'Hip', 'other'}"
      ]
     },
     "execution_count": 115,
     "metadata": {},
     "output_type": "execute_result"
    }
   ],
   "source": [
    "set(strut.RoofStyle)"
   ]
  },
  {
   "cell_type": "code",
   "execution_count": 116,
   "metadata": {},
   "outputs": [
    {
     "data": {
      "text/html": [
       "<div>\n",
       "<style scoped>\n",
       "    .dataframe tbody tr th:only-of-type {\n",
       "        vertical-align: middle;\n",
       "    }\n",
       "\n",
       "    .dataframe tbody tr th {\n",
       "        vertical-align: top;\n",
       "    }\n",
       "\n",
       "    .dataframe thead th {\n",
       "        text-align: right;\n",
       "    }\n",
       "</style>\n",
       "<table border=\"1\" class=\"dataframe\">\n",
       "  <thead>\n",
       "    <tr style=\"text-align: right;\">\n",
       "      <th></th>\n",
       "      <th>SalePrice</th>\n",
       "      <th>Electrical_Y</th>\n",
       "      <th>CentralAir_Y</th>\n",
       "      <th>Heating_Ex</th>\n",
       "      <th>Heating_Gd</th>\n",
       "      <th>Heating_TA</th>\n",
       "      <th>MSZoning_C</th>\n",
       "      <th>MSZoning_RL</th>\n",
       "      <th>MSZoning_RM/RH</th>\n",
       "      <th>BldgType_1Fam</th>\n",
       "      <th>...</th>\n",
       "      <th>OverallQual_6</th>\n",
       "      <th>OverallQual_7</th>\n",
       "      <th>OverallQual_8</th>\n",
       "      <th>OverallQual_9</th>\n",
       "      <th>OverallQual_10</th>\n",
       "      <th>OverallCond_4</th>\n",
       "      <th>OverallCond_5</th>\n",
       "      <th>OverallCond_6</th>\n",
       "      <th>RoofStyle_Gable</th>\n",
       "      <th>RoofStyle_Hip</th>\n",
       "    </tr>\n",
       "  </thead>\n",
       "  <tbody>\n",
       "    <tr>\n",
       "      <th>1455</th>\n",
       "      <td>12.072541</td>\n",
       "      <td>1</td>\n",
       "      <td>1</td>\n",
       "      <td>1</td>\n",
       "      <td>0</td>\n",
       "      <td>0</td>\n",
       "      <td>0</td>\n",
       "      <td>1</td>\n",
       "      <td>0</td>\n",
       "      <td>1</td>\n",
       "      <td>...</td>\n",
       "      <td>1</td>\n",
       "      <td>0</td>\n",
       "      <td>0</td>\n",
       "      <td>0</td>\n",
       "      <td>0</td>\n",
       "      <td>0</td>\n",
       "      <td>1</td>\n",
       "      <td>0</td>\n",
       "      <td>1</td>\n",
       "      <td>0</td>\n",
       "    </tr>\n",
       "    <tr>\n",
       "      <th>1456</th>\n",
       "      <td>12.254863</td>\n",
       "      <td>1</td>\n",
       "      <td>1</td>\n",
       "      <td>0</td>\n",
       "      <td>0</td>\n",
       "      <td>1</td>\n",
       "      <td>0</td>\n",
       "      <td>1</td>\n",
       "      <td>0</td>\n",
       "      <td>1</td>\n",
       "      <td>...</td>\n",
       "      <td>1</td>\n",
       "      <td>0</td>\n",
       "      <td>0</td>\n",
       "      <td>0</td>\n",
       "      <td>0</td>\n",
       "      <td>0</td>\n",
       "      <td>0</td>\n",
       "      <td>1</td>\n",
       "      <td>1</td>\n",
       "      <td>0</td>\n",
       "    </tr>\n",
       "    <tr>\n",
       "      <th>1457</th>\n",
       "      <td>12.493130</td>\n",
       "      <td>1</td>\n",
       "      <td>1</td>\n",
       "      <td>1</td>\n",
       "      <td>0</td>\n",
       "      <td>0</td>\n",
       "      <td>0</td>\n",
       "      <td>1</td>\n",
       "      <td>0</td>\n",
       "      <td>1</td>\n",
       "      <td>...</td>\n",
       "      <td>0</td>\n",
       "      <td>1</td>\n",
       "      <td>0</td>\n",
       "      <td>0</td>\n",
       "      <td>0</td>\n",
       "      <td>0</td>\n",
       "      <td>1</td>\n",
       "      <td>0</td>\n",
       "      <td>1</td>\n",
       "      <td>0</td>\n",
       "    </tr>\n",
       "    <tr>\n",
       "      <th>1458</th>\n",
       "      <td>11.864462</td>\n",
       "      <td>0</td>\n",
       "      <td>1</td>\n",
       "      <td>0</td>\n",
       "      <td>1</td>\n",
       "      <td>0</td>\n",
       "      <td>0</td>\n",
       "      <td>1</td>\n",
       "      <td>0</td>\n",
       "      <td>1</td>\n",
       "      <td>...</td>\n",
       "      <td>0</td>\n",
       "      <td>0</td>\n",
       "      <td>0</td>\n",
       "      <td>0</td>\n",
       "      <td>0</td>\n",
       "      <td>0</td>\n",
       "      <td>0</td>\n",
       "      <td>1</td>\n",
       "      <td>0</td>\n",
       "      <td>1</td>\n",
       "    </tr>\n",
       "    <tr>\n",
       "      <th>1459</th>\n",
       "      <td>11.901583</td>\n",
       "      <td>1</td>\n",
       "      <td>1</td>\n",
       "      <td>0</td>\n",
       "      <td>1</td>\n",
       "      <td>0</td>\n",
       "      <td>0</td>\n",
       "      <td>1</td>\n",
       "      <td>0</td>\n",
       "      <td>1</td>\n",
       "      <td>...</td>\n",
       "      <td>0</td>\n",
       "      <td>0</td>\n",
       "      <td>0</td>\n",
       "      <td>0</td>\n",
       "      <td>0</td>\n",
       "      <td>0</td>\n",
       "      <td>0</td>\n",
       "      <td>1</td>\n",
       "      <td>1</td>\n",
       "      <td>0</td>\n",
       "    </tr>\n",
       "  </tbody>\n",
       "</table>\n",
       "<p>5 rows × 29 columns</p>\n",
       "</div>"
      ],
      "text/plain": [
       "      SalePrice  Electrical_Y  CentralAir_Y  Heating_Ex  Heating_Gd  \\\n",
       "1455  12.072541             1             1           1           0   \n",
       "1456  12.254863             1             1           0           0   \n",
       "1457  12.493130             1             1           1           0   \n",
       "1458  11.864462             0             1           0           1   \n",
       "1459  11.901583             1             1           0           1   \n",
       "\n",
       "      Heating_TA  MSZoning_C  MSZoning_RL  MSZoning_RM/RH  BldgType_1Fam  ...  \\\n",
       "1455           0           0            1               0              1  ...   \n",
       "1456           1           0            1               0              1  ...   \n",
       "1457           0           0            1               0              1  ...   \n",
       "1458           0           0            1               0              1  ...   \n",
       "1459           0           0            1               0              1  ...   \n",
       "\n",
       "      OverallQual_6  OverallQual_7  OverallQual_8  OverallQual_9  \\\n",
       "1455              1              0              0              0   \n",
       "1456              1              0              0              0   \n",
       "1457              0              1              0              0   \n",
       "1458              0              0              0              0   \n",
       "1459              0              0              0              0   \n",
       "\n",
       "      OverallQual_10  OverallCond_4  OverallCond_5  OverallCond_6  \\\n",
       "1455               0              0              1              0   \n",
       "1456               0              0              0              1   \n",
       "1457               0              0              1              0   \n",
       "1458               0              0              0              1   \n",
       "1459               0              0              0              1   \n",
       "\n",
       "      RoofStyle_Gable  RoofStyle_Hip  \n",
       "1455                1              0  \n",
       "1456                1              0  \n",
       "1457                1              0  \n",
       "1458                0              1  \n",
       "1459                1              0  \n",
       "\n",
       "[5 rows x 29 columns]"
      ]
     },
     "execution_count": 116,
     "metadata": {},
     "output_type": "execute_result"
    }
   ],
   "source": [
    "RoofStyle = pd.get_dummies(strut['RoofStyle'], prefix='RoofStyle', prefix_sep='_')\n",
    "RoofStyle = RoofStyle.drop('RoofStyle_other', axis=1)\n",
    "RoofStyle.head()\n",
    "cleaned_df = pd.concat([cleaned_df, RoofStyle], axis=1)\n",
    "cleaned_df.tail() "
   ]
  },
  {
   "cell_type": "code",
   "execution_count": 117,
   "metadata": {},
   "outputs": [
    {
     "data": {
      "text/html": [
       "<div>\n",
       "<style scoped>\n",
       "    .dataframe tbody tr th:only-of-type {\n",
       "        vertical-align: middle;\n",
       "    }\n",
       "\n",
       "    .dataframe tbody tr th {\n",
       "        vertical-align: top;\n",
       "    }\n",
       "\n",
       "    .dataframe thead th {\n",
       "        text-align: right;\n",
       "    }\n",
       "</style>\n",
       "<table border=\"1\" class=\"dataframe\">\n",
       "  <thead>\n",
       "    <tr style=\"text-align: right;\">\n",
       "      <th></th>\n",
       "      <th>SalePrice</th>\n",
       "      <th>RoofStyle_Gable</th>\n",
       "      <th>RoofStyle_Hip</th>\n",
       "    </tr>\n",
       "  </thead>\n",
       "  <tbody>\n",
       "    <tr>\n",
       "      <th>SalePrice</th>\n",
       "      <td>1.000000</td>\n",
       "      <td>-0.188744</td>\n",
       "      <td>0.198235</td>\n",
       "    </tr>\n",
       "    <tr>\n",
       "      <th>RoofStyle_Gable</th>\n",
       "      <td>-0.188744</td>\n",
       "      <td>1.000000</td>\n",
       "      <td>-0.933462</td>\n",
       "    </tr>\n",
       "    <tr>\n",
       "      <th>RoofStyle_Hip</th>\n",
       "      <td>0.198235</td>\n",
       "      <td>-0.933462</td>\n",
       "      <td>1.000000</td>\n",
       "    </tr>\n",
       "  </tbody>\n",
       "</table>\n",
       "</div>"
      ],
      "text/plain": [
       "                 SalePrice  RoofStyle_Gable  RoofStyle_Hip\n",
       "SalePrice         1.000000        -0.188744       0.198235\n",
       "RoofStyle_Gable  -0.188744         1.000000      -0.933462\n",
       "RoofStyle_Hip     0.198235        -0.933462       1.000000"
      ]
     },
     "execution_count": 117,
     "metadata": {},
     "output_type": "execute_result"
    }
   ],
   "source": [
    "cleaned_df[['SalePrice', 'RoofStyle_Gable', 'RoofStyle_Hip']].corr()"
   ]
  },
  {
   "cell_type": "markdown",
   "metadata": {},
   "source": [
    "# Roof Material"
   ]
  },
  {
   "cell_type": "code",
   "execution_count": 118,
   "metadata": {},
   "outputs": [
    {
     "data": {
      "text/plain": [
       "<seaborn.axisgrid.FacetGrid at 0x1a1d7f1550>"
      ]
     },
     "execution_count": 118,
     "metadata": {},
     "output_type": "execute_result"
    },
    {
     "data": {
      "image/png": "[encoded data removed]",
      "text/plain": [
       "<Figure size 540x360 with 1 Axes>"
      ]
     },
     "metadata": {
      "needs_background": "light"
     },
     "output_type": "display_data"
    }
   ],
   "source": [
    "sns.catplot(x=\"RoofMatl\", y=\"SalePrice\", kind=\"box\", data=strut, height=5, aspect=1.5)"
   ]
  },
  {
   "cell_type": "code",
   "execution_count": 119,
   "metadata": {},
   "outputs": [
    {
     "data": {
      "text/plain": [
       "F_onewayResult(statistic=20.94238964060841, pvalue=5.140699999744249e-06)"
      ]
     },
     "execution_count": 119,
     "metadata": {},
     "output_type": "execute_result"
    }
   ],
   "source": [
    "stats.f_oneway(np.array(strut.SalePrice[strut.RoofMatl == 'CompShg']),\\\n",
    "              np.array(strut.SalePrice[strut.RoofMatl == 'WdShngl']))"
   ]
  },
  {
   "cell_type": "code",
   "execution_count": 120,
   "metadata": {},
   "outputs": [
    {
     "data": {
      "text/plain": [
       "F_onewayResult(statistic=0.9829749673862278, pvalue=0.4619617558754924)"
      ]
     },
     "execution_count": 120,
     "metadata": {},
     "output_type": "execute_result"
    }
   ],
   "source": [
    "stats.f_oneway(np.array(strut.SalePrice[strut.RoofMatl == 'Metal']),\\\n",
    "              np.array(strut.SalePrice[strut.RoofMatl == 'WdShake']),\\\n",
    "              np.array(strut.SalePrice[strut.RoofMatl == 'Membran']),\\\n",
    "              np.array(strut.SalePrice[strut.RoofMatl == 'Tar&Grv']),\\\n",
    "              np.array(strut.SalePrice[strut.RoofMatl == 'Roll']),\\\n",
    "              np.array(strut.SalePrice[strut.RoofMatl == 'ClyTile']))"
   ]
  },
  {
   "cell_type": "code",
   "execution_count": 121,
   "metadata": {},
   "outputs": [],
   "source": [
    "strut.loc[ strut.RoofMatl == 'Metal', 'RoofMatl'] = 'Other'\n",
    "strut.loc[ strut.RoofMatl == 'WdShake', 'RoofMatl'] = 'Other'\n",
    "strut.loc[ strut.RoofMatl == 'Membran', 'RoofMatl'] = 'Other'\n",
    "strut.loc[ strut.RoofMatl == 'Tar&Grv', 'RoofMatl'] = 'Other'\n",
    "strut.loc[ strut.RoofMatl == 'Roll', 'RoofMatl'] = 'Other'\n",
    "strut.loc[ strut.RoofMatl == 'ClyTile', 'RoofMatl'] = 'Other'"
   ]
  },
  {
   "cell_type": "code",
   "execution_count": 122,
   "metadata": {},
   "outputs": [
    {
     "data": {
      "text/plain": [
       "F_onewayResult(statistic=2.1158346915496304, pvalue=0.14599868127559132)"
      ]
     },
     "execution_count": 122,
     "metadata": {},
     "output_type": "execute_result"
    }
   ],
   "source": [
    "stats.f_oneway(np.array(strut.SalePrice[strut.RoofMatl == 'CompShg']),\\\n",
    "              np.array(strut.SalePrice[strut.RoofMatl == 'Other']))"
   ]
  },
  {
   "cell_type": "code",
   "execution_count": 123,
   "metadata": {},
   "outputs": [],
   "source": [
    "strut.loc[ strut.RoofMatl == 'CompShg', 'RoofMatl'] = 'Other'"
   ]
  },
  {
   "cell_type": "code",
   "execution_count": 124,
   "metadata": {},
   "outputs": [
    {
     "data": {
      "text/plain": [
       "F_onewayResult(statistic=20.90991730841798, pvalue=5.221459620172782e-06)"
      ]
     },
     "execution_count": 124,
     "metadata": {},
     "output_type": "execute_result"
    }
   ],
   "source": [
    "stats.f_oneway(np.array(strut.SalePrice[strut.RoofMatl == 'Other']),\\\n",
    "              np.array(strut.SalePrice[strut.RoofMatl == 'WdShngl']))"
   ]
  },
  {
   "cell_type": "code",
   "execution_count": 125,
   "metadata": {},
   "outputs": [
    {
     "data": {
      "text/plain": [
       "{'Other', 'WdShngl'}"
      ]
     },
     "execution_count": 125,
     "metadata": {},
     "output_type": "execute_result"
    }
   ],
   "source": [
    "set(strut.RoofMatl)"
   ]
  },
  {
   "cell_type": "code",
   "execution_count": 126,
   "metadata": {},
   "outputs": [
    {
     "data": {
      "text/html": [
       "<div>\n",
       "<style scoped>\n",
       "    .dataframe tbody tr th:only-of-type {\n",
       "        vertical-align: middle;\n",
       "    }\n",
       "\n",
       "    .dataframe tbody tr th {\n",
       "        vertical-align: top;\n",
       "    }\n",
       "\n",
       "    .dataframe thead th {\n",
       "        text-align: right;\n",
       "    }\n",
       "</style>\n",
       "<table border=\"1\" class=\"dataframe\">\n",
       "  <thead>\n",
       "    <tr style=\"text-align: right;\">\n",
       "      <th></th>\n",
       "      <th>SalePrice</th>\n",
       "      <th>Electrical_Y</th>\n",
       "      <th>CentralAir_Y</th>\n",
       "      <th>Heating_Ex</th>\n",
       "      <th>Heating_Gd</th>\n",
       "      <th>Heating_TA</th>\n",
       "      <th>MSZoning_C</th>\n",
       "      <th>MSZoning_RL</th>\n",
       "      <th>MSZoning_RM/RH</th>\n",
       "      <th>BldgType_1Fam</th>\n",
       "      <th>...</th>\n",
       "      <th>OverallQual_7</th>\n",
       "      <th>OverallQual_8</th>\n",
       "      <th>OverallQual_9</th>\n",
       "      <th>OverallQual_10</th>\n",
       "      <th>OverallCond_4</th>\n",
       "      <th>OverallCond_5</th>\n",
       "      <th>OverallCond_6</th>\n",
       "      <th>RoofStyle_Gable</th>\n",
       "      <th>RoofStyle_Hip</th>\n",
       "      <th>RoofMatl_WdShngl</th>\n",
       "    </tr>\n",
       "  </thead>\n",
       "  <tbody>\n",
       "    <tr>\n",
       "      <th>1455</th>\n",
       "      <td>12.072541</td>\n",
       "      <td>1</td>\n",
       "      <td>1</td>\n",
       "      <td>1</td>\n",
       "      <td>0</td>\n",
       "      <td>0</td>\n",
       "      <td>0</td>\n",
       "      <td>1</td>\n",
       "      <td>0</td>\n",
       "      <td>1</td>\n",
       "      <td>...</td>\n",
       "      <td>0</td>\n",
       "      <td>0</td>\n",
       "      <td>0</td>\n",
       "      <td>0</td>\n",
       "      <td>0</td>\n",
       "      <td>1</td>\n",
       "      <td>0</td>\n",
       "      <td>1</td>\n",
       "      <td>0</td>\n",
       "      <td>0</td>\n",
       "    </tr>\n",
       "    <tr>\n",
       "      <th>1456</th>\n",
       "      <td>12.254863</td>\n",
       "      <td>1</td>\n",
       "      <td>1</td>\n",
       "      <td>0</td>\n",
       "      <td>0</td>\n",
       "      <td>1</td>\n",
       "      <td>0</td>\n",
       "      <td>1</td>\n",
       "      <td>0</td>\n",
       "      <td>1</td>\n",
       "      <td>...</td>\n",
       "      <td>0</td>\n",
       "      <td>0</td>\n",
       "      <td>0</td>\n",
       "      <td>0</td>\n",
       "      <td>0</td>\n",
       "      <td>0</td>\n",
       "      <td>1</td>\n",
       "      <td>1</td>\n",
       "      <td>0</td>\n",
       "      <td>0</td>\n",
       "    </tr>\n",
       "    <tr>\n",
       "      <th>1457</th>\n",
       "      <td>12.493130</td>\n",
       "      <td>1</td>\n",
       "      <td>1</td>\n",
       "      <td>1</td>\n",
       "      <td>0</td>\n",
       "      <td>0</td>\n",
       "      <td>0</td>\n",
       "      <td>1</td>\n",
       "      <td>0</td>\n",
       "      <td>1</td>\n",
       "      <td>...</td>\n",
       "      <td>1</td>\n",
       "      <td>0</td>\n",
       "      <td>0</td>\n",
       "      <td>0</td>\n",
       "      <td>0</td>\n",
       "      <td>1</td>\n",
       "      <td>0</td>\n",
       "      <td>1</td>\n",
       "      <td>0</td>\n",
       "      <td>0</td>\n",
       "    </tr>\n",
       "    <tr>\n",
       "      <th>1458</th>\n",
       "      <td>11.864462</td>\n",
       "      <td>0</td>\n",
       "      <td>1</td>\n",
       "      <td>0</td>\n",
       "      <td>1</td>\n",
       "      <td>0</td>\n",
       "      <td>0</td>\n",
       "      <td>1</td>\n",
       "      <td>0</td>\n",
       "      <td>1</td>\n",
       "      <td>...</td>\n",
       "      <td>0</td>\n",
       "      <td>0</td>\n",
       "      <td>0</td>\n",
       "      <td>0</td>\n",
       "      <td>0</td>\n",
       "      <td>0</td>\n",
       "      <td>1</td>\n",
       "      <td>0</td>\n",
       "      <td>1</td>\n",
       "      <td>0</td>\n",
       "    </tr>\n",
       "    <tr>\n",
       "      <th>1459</th>\n",
       "      <td>11.901583</td>\n",
       "      <td>1</td>\n",
       "      <td>1</td>\n",
       "      <td>0</td>\n",
       "      <td>1</td>\n",
       "      <td>0</td>\n",
       "      <td>0</td>\n",
       "      <td>1</td>\n",
       "      <td>0</td>\n",
       "      <td>1</td>\n",
       "      <td>...</td>\n",
       "      <td>0</td>\n",
       "      <td>0</td>\n",
       "      <td>0</td>\n",
       "      <td>0</td>\n",
       "      <td>0</td>\n",
       "      <td>0</td>\n",
       "      <td>1</td>\n",
       "      <td>1</td>\n",
       "      <td>0</td>\n",
       "      <td>0</td>\n",
       "    </tr>\n",
       "  </tbody>\n",
       "</table>\n",
       "<p>5 rows × 30 columns</p>\n",
       "</div>"
      ],
      "text/plain": [
       "      SalePrice  Electrical_Y  CentralAir_Y  Heating_Ex  Heating_Gd  \\\n",
       "1455  12.072541             1             1           1           0   \n",
       "1456  12.254863             1             1           0           0   \n",
       "1457  12.493130             1             1           1           0   \n",
       "1458  11.864462             0             1           0           1   \n",
       "1459  11.901583             1             1           0           1   \n",
       "\n",
       "      Heating_TA  MSZoning_C  MSZoning_RL  MSZoning_RM/RH  BldgType_1Fam  ...  \\\n",
       "1455           0           0            1               0              1  ...   \n",
       "1456           1           0            1               0              1  ...   \n",
       "1457           0           0            1               0              1  ...   \n",
       "1458           0           0            1               0              1  ...   \n",
       "1459           0           0            1               0              1  ...   \n",
       "\n",
       "      OverallQual_7  OverallQual_8  OverallQual_9  OverallQual_10  \\\n",
       "1455              0              0              0               0   \n",
       "1456              0              0              0               0   \n",
       "1457              1              0              0               0   \n",
       "1458              0              0              0               0   \n",
       "1459              0              0              0               0   \n",
       "\n",
       "      OverallCond_4  OverallCond_5  OverallCond_6  RoofStyle_Gable  \\\n",
       "1455              0              1              0                1   \n",
       "1456              0              0              1                1   \n",
       "1457              0              1              0                1   \n",
       "1458              0              0              1                0   \n",
       "1459              0              0              1                1   \n",
       "\n",
       "      RoofStyle_Hip  RoofMatl_WdShngl  \n",
       "1455              0                 0  \n",
       "1456              0                 0  \n",
       "1457              0                 0  \n",
       "1458              1                 0  \n",
       "1459              0                 0  \n",
       "\n",
       "[5 rows x 30 columns]"
      ]
     },
     "execution_count": 126,
     "metadata": {},
     "output_type": "execute_result"
    }
   ],
   "source": [
    "RoofMatl = pd.get_dummies(strut['RoofMatl'], prefix='RoofMatl', prefix_sep='_')\n",
    "RoofMatl = RoofMatl.drop('RoofMatl_Other', axis=1)\n",
    "RoofMatl.head()\n",
    "cleaned_df = pd.concat([cleaned_df, RoofMatl], axis=1)\n",
    "cleaned_df.tail() "
   ]
  },
  {
   "cell_type": "code",
   "execution_count": 127,
   "metadata": {},
   "outputs": [
    {
     "data": {
      "text/html": [
       "<div>\n",
       "<style scoped>\n",
       "    .dataframe tbody tr th:only-of-type {\n",
       "        vertical-align: middle;\n",
       "    }\n",
       "\n",
       "    .dataframe tbody tr th {\n",
       "        vertical-align: top;\n",
       "    }\n",
       "\n",
       "    .dataframe thead th {\n",
       "        text-align: right;\n",
       "    }\n",
       "</style>\n",
       "<table border=\"1\" class=\"dataframe\">\n",
       "  <thead>\n",
       "    <tr style=\"text-align: right;\">\n",
       "      <th></th>\n",
       "      <th>SalePrice</th>\n",
       "      <th>RoofMatl_WdShngl</th>\n",
       "    </tr>\n",
       "  </thead>\n",
       "  <tbody>\n",
       "    <tr>\n",
       "      <th>SalePrice</th>\n",
       "      <td>1.000000</td>\n",
       "      <td>0.118906</td>\n",
       "    </tr>\n",
       "    <tr>\n",
       "      <th>RoofMatl_WdShngl</th>\n",
       "      <td>0.118906</td>\n",
       "      <td>1.000000</td>\n",
       "    </tr>\n",
       "  </tbody>\n",
       "</table>\n",
       "</div>"
      ],
      "text/plain": [
       "                  SalePrice  RoofMatl_WdShngl\n",
       "SalePrice          1.000000          0.118906\n",
       "RoofMatl_WdShngl   0.118906          1.000000"
      ]
     },
     "execution_count": 127,
     "metadata": {},
     "output_type": "execute_result"
    }
   ],
   "source": [
    "cleaned_df[['SalePrice', 'RoofMatl_WdShngl']].corr()"
   ]
  },
  {
   "cell_type": "markdown",
   "metadata": {},
   "source": [
    "# Exterior"
   ]
  },
  {
   "cell_type": "code",
   "execution_count": 128,
   "metadata": {},
   "outputs": [
    {
     "data": {
      "text/plain": [
       "(array([ 0,  1,  2,  3,  4,  5,  6,  7,  8,  9, 10, 11, 12, 13, 14]),\n",
       " <a list of 15 Text xticklabel objects>)"
      ]
     },
     "execution_count": 128,
     "metadata": {},
     "output_type": "execute_result"
    },
    {
     "data": {
      "image/png": "[encoded data removed]",
      "text/plain": [
       "<Figure size 540x360 with 1 Axes>"
      ]
     },
     "metadata": {
      "needs_background": "light"
     },
     "output_type": "display_data"
    }
   ],
   "source": [
    "sns.catplot(x=\"Exterior1st\", y=\"SalePrice\", kind=\"box\", data=strut, height=5, aspect=1.5)\n",
    "plt.xticks(rotation = 90)"
   ]
  },
  {
   "cell_type": "code",
   "execution_count": 129,
   "metadata": {},
   "outputs": [],
   "source": [
    "strut.loc[ strut.Exterior1st == 'BrkComm', 'Exterior1st'] = 'Other'\n",
    "strut.loc[ strut.Exterior1st == 'AsphShn', 'Exterior1st'] = 'Other'\n",
    "strut.loc[ strut.Exterior1st == 'Stone', 'Exterior1st'] = 'Other'\n",
    "strut.loc[ strut.Exterior1st == 'ImStucc', 'Exterior1st'] = 'Other'\n",
    "strut.loc[ strut.Exterior1st == 'CBlock', 'Exterior1st'] = 'Other'"
   ]
  },
  {
   "cell_type": "code",
   "execution_count": 130,
   "metadata": {},
   "outputs": [
    {
     "data": {
      "text/plain": [
       "(array([ 0,  1,  2,  3,  4,  5,  6,  7,  8,  9, 10]),\n",
       " <a list of 11 Text xticklabel objects>)"
      ]
     },
     "execution_count": 130,
     "metadata": {},
     "output_type": "execute_result"
    },
    {
     "data": {
      "image/png": "[encoded data removed]",
      "text/plain": [
       "<Figure size 540x360 with 1 Axes>"
      ]
     },
     "metadata": {
      "needs_background": "light"
     },
     "output_type": "display_data"
    }
   ],
   "source": [
    "sns.catplot(x=\"Exterior1st\", y=\"SalePrice\", kind=\"box\", data=strut, height=5, aspect=1.5)\n",
    "plt.xticks(rotation = 90)"
   ]
  },
  {
   "cell_type": "code",
   "execution_count": 131,
   "metadata": {
    "scrolled": true
   },
   "outputs": [
    {
     "data": {
      "text/plain": [
       "<matplotlib.axes._subplots.AxesSubplot at 0x1a1df2d1d0>"
      ]
     },
     "execution_count": 131,
     "metadata": {},
     "output_type": "execute_result"
    },
    {
     "data": {
      "image/png": "[encoded data removed]",
      "text/plain": [
       "<Figure size 432x288 with 1 Axes>"
      ]
     },
     "metadata": {
      "needs_background": "light"
     },
     "output_type": "display_data"
    }
   ],
   "source": [
    "strut.Exterior1st.value_counts().plot(kind = 'bar')"
   ]
  },
  {
   "cell_type": "code",
   "execution_count": 132,
   "metadata": {},
   "outputs": [
    {
     "data": {
      "text/html": [
       "<div>\n",
       "<style scoped>\n",
       "    .dataframe tbody tr th:only-of-type {\n",
       "        vertical-align: middle;\n",
       "    }\n",
       "\n",
       "    .dataframe tbody tr th {\n",
       "        vertical-align: top;\n",
       "    }\n",
       "\n",
       "    .dataframe thead th {\n",
       "        text-align: right;\n",
       "    }\n",
       "</style>\n",
       "<table border=\"1\" class=\"dataframe\">\n",
       "  <thead>\n",
       "    <tr style=\"text-align: right;\">\n",
       "      <th></th>\n",
       "      <th>SalePrice</th>\n",
       "      <th>Electrical_Y</th>\n",
       "      <th>CentralAir_Y</th>\n",
       "      <th>Heating_Ex</th>\n",
       "      <th>Heating_Gd</th>\n",
       "      <th>Heating_TA</th>\n",
       "      <th>MSZoning_C</th>\n",
       "      <th>MSZoning_RL</th>\n",
       "      <th>MSZoning_RM/RH</th>\n",
       "      <th>BldgType_1Fam</th>\n",
       "      <th>...</th>\n",
       "      <th>Exterior_AsbShng</th>\n",
       "      <th>Exterior_BrkFace</th>\n",
       "      <th>Exterior_CemntBd</th>\n",
       "      <th>Exterior_HdBoard</th>\n",
       "      <th>Exterior_MetalSd</th>\n",
       "      <th>Exterior_Plywood</th>\n",
       "      <th>Exterior_Stucco</th>\n",
       "      <th>Exterior_VinylSd</th>\n",
       "      <th>Exterior_Wd Sdng</th>\n",
       "      <th>Exterior_WdShing</th>\n",
       "    </tr>\n",
       "  </thead>\n",
       "  <tbody>\n",
       "    <tr>\n",
       "      <th>1455</th>\n",
       "      <td>12.072541</td>\n",
       "      <td>1</td>\n",
       "      <td>1</td>\n",
       "      <td>1</td>\n",
       "      <td>0</td>\n",
       "      <td>0</td>\n",
       "      <td>0</td>\n",
       "      <td>1</td>\n",
       "      <td>0</td>\n",
       "      <td>1</td>\n",
       "      <td>...</td>\n",
       "      <td>0</td>\n",
       "      <td>0</td>\n",
       "      <td>0</td>\n",
       "      <td>0</td>\n",
       "      <td>0</td>\n",
       "      <td>0</td>\n",
       "      <td>0</td>\n",
       "      <td>1</td>\n",
       "      <td>0</td>\n",
       "      <td>0</td>\n",
       "    </tr>\n",
       "    <tr>\n",
       "      <th>1456</th>\n",
       "      <td>12.254863</td>\n",
       "      <td>1</td>\n",
       "      <td>1</td>\n",
       "      <td>0</td>\n",
       "      <td>0</td>\n",
       "      <td>1</td>\n",
       "      <td>0</td>\n",
       "      <td>1</td>\n",
       "      <td>0</td>\n",
       "      <td>1</td>\n",
       "      <td>...</td>\n",
       "      <td>0</td>\n",
       "      <td>0</td>\n",
       "      <td>0</td>\n",
       "      <td>0</td>\n",
       "      <td>0</td>\n",
       "      <td>1</td>\n",
       "      <td>0</td>\n",
       "      <td>0</td>\n",
       "      <td>0</td>\n",
       "      <td>0</td>\n",
       "    </tr>\n",
       "    <tr>\n",
       "      <th>1457</th>\n",
       "      <td>12.493130</td>\n",
       "      <td>1</td>\n",
       "      <td>1</td>\n",
       "      <td>1</td>\n",
       "      <td>0</td>\n",
       "      <td>0</td>\n",
       "      <td>0</td>\n",
       "      <td>1</td>\n",
       "      <td>0</td>\n",
       "      <td>1</td>\n",
       "      <td>...</td>\n",
       "      <td>0</td>\n",
       "      <td>0</td>\n",
       "      <td>1</td>\n",
       "      <td>0</td>\n",
       "      <td>0</td>\n",
       "      <td>0</td>\n",
       "      <td>0</td>\n",
       "      <td>0</td>\n",
       "      <td>0</td>\n",
       "      <td>0</td>\n",
       "    </tr>\n",
       "    <tr>\n",
       "      <th>1458</th>\n",
       "      <td>11.864462</td>\n",
       "      <td>0</td>\n",
       "      <td>1</td>\n",
       "      <td>0</td>\n",
       "      <td>1</td>\n",
       "      <td>0</td>\n",
       "      <td>0</td>\n",
       "      <td>1</td>\n",
       "      <td>0</td>\n",
       "      <td>1</td>\n",
       "      <td>...</td>\n",
       "      <td>0</td>\n",
       "      <td>0</td>\n",
       "      <td>0</td>\n",
       "      <td>0</td>\n",
       "      <td>1</td>\n",
       "      <td>0</td>\n",
       "      <td>0</td>\n",
       "      <td>0</td>\n",
       "      <td>0</td>\n",
       "      <td>0</td>\n",
       "    </tr>\n",
       "    <tr>\n",
       "      <th>1459</th>\n",
       "      <td>11.901583</td>\n",
       "      <td>1</td>\n",
       "      <td>1</td>\n",
       "      <td>0</td>\n",
       "      <td>1</td>\n",
       "      <td>0</td>\n",
       "      <td>0</td>\n",
       "      <td>1</td>\n",
       "      <td>0</td>\n",
       "      <td>1</td>\n",
       "      <td>...</td>\n",
       "      <td>0</td>\n",
       "      <td>0</td>\n",
       "      <td>0</td>\n",
       "      <td>1</td>\n",
       "      <td>0</td>\n",
       "      <td>0</td>\n",
       "      <td>0</td>\n",
       "      <td>0</td>\n",
       "      <td>0</td>\n",
       "      <td>0</td>\n",
       "    </tr>\n",
       "  </tbody>\n",
       "</table>\n",
       "<p>5 rows × 40 columns</p>\n",
       "</div>"
      ],
      "text/plain": [
       "      SalePrice  Electrical_Y  CentralAir_Y  Heating_Ex  Heating_Gd  \\\n",
       "1455  12.072541             1             1           1           0   \n",
       "1456  12.254863             1             1           0           0   \n",
       "1457  12.493130             1             1           1           0   \n",
       "1458  11.864462             0             1           0           1   \n",
       "1459  11.901583             1             1           0           1   \n",
       "\n",
       "      Heating_TA  MSZoning_C  MSZoning_RL  MSZoning_RM/RH  BldgType_1Fam  ...  \\\n",
       "1455           0           0            1               0              1  ...   \n",
       "1456           1           0            1               0              1  ...   \n",
       "1457           0           0            1               0              1  ...   \n",
       "1458           0           0            1               0              1  ...   \n",
       "1459           0           0            1               0              1  ...   \n",
       "\n",
       "      Exterior_AsbShng  Exterior_BrkFace  Exterior_CemntBd  Exterior_HdBoard  \\\n",
       "1455                 0                 0                 0                 0   \n",
       "1456                 0                 0                 0                 0   \n",
       "1457                 0                 0                 1                 0   \n",
       "1458                 0                 0                 0                 0   \n",
       "1459                 0                 0                 0                 1   \n",
       "\n",
       "      Exterior_MetalSd  Exterior_Plywood  Exterior_Stucco  Exterior_VinylSd  \\\n",
       "1455                 0                 0                0                 1   \n",
       "1456                 0                 1                0                 0   \n",
       "1457                 0                 0                0                 0   \n",
       "1458                 1                 0                0                 0   \n",
       "1459                 0                 0                0                 0   \n",
       "\n",
       "      Exterior_Wd Sdng  Exterior_WdShing  \n",
       "1455                 0                 0  \n",
       "1456                 0                 0  \n",
       "1457                 0                 0  \n",
       "1458                 0                 0  \n",
       "1459                 0                 0  \n",
       "\n",
       "[5 rows x 40 columns]"
      ]
     },
     "execution_count": 132,
     "metadata": {},
     "output_type": "execute_result"
    }
   ],
   "source": [
    "Exterior1st = pd.get_dummies(strut['Exterior1st'], prefix='Exterior', prefix_sep='_')\n",
    "Exterior1st = Exterior1st.drop('Exterior_Other', axis=1)\n",
    "Exterior1st.head()\n",
    "cleaned_df = pd.concat([cleaned_df, Exterior1st], axis=1)\n",
    "cleaned_df.tail() "
   ]
  },
  {
   "cell_type": "code",
   "execution_count": 133,
   "metadata": {},
   "outputs": [
    {
     "data": {
      "text/html": [
       "<div>\n",
       "<style scoped>\n",
       "    .dataframe tbody tr th:only-of-type {\n",
       "        vertical-align: middle;\n",
       "    }\n",
       "\n",
       "    .dataframe tbody tr th {\n",
       "        vertical-align: top;\n",
       "    }\n",
       "\n",
       "    .dataframe thead th {\n",
       "        text-align: right;\n",
       "    }\n",
       "</style>\n",
       "<table border=\"1\" class=\"dataframe\">\n",
       "  <thead>\n",
       "    <tr style=\"text-align: right;\">\n",
       "      <th></th>\n",
       "      <th>SalePrice</th>\n",
       "      <th>Electrical_Y</th>\n",
       "      <th>CentralAir_Y</th>\n",
       "      <th>Heating_Ex</th>\n",
       "      <th>Heating_Gd</th>\n",
       "      <th>Heating_TA</th>\n",
       "      <th>MSZoning_C</th>\n",
       "      <th>MSZoning_RL</th>\n",
       "      <th>MSZoning_RM/RH</th>\n",
       "      <th>BldgType_1Fam</th>\n",
       "      <th>...</th>\n",
       "      <th>Exterior_AsbShng</th>\n",
       "      <th>Exterior_BrkFace</th>\n",
       "      <th>Exterior_CemntBd</th>\n",
       "      <th>Exterior_HdBoard</th>\n",
       "      <th>Exterior_MetalSd</th>\n",
       "      <th>Exterior_Plywood</th>\n",
       "      <th>Exterior_Stucco</th>\n",
       "      <th>Exterior_VinylSd</th>\n",
       "      <th>Exterior_Wd Sdng</th>\n",
       "      <th>Exterior_WdShing</th>\n",
       "    </tr>\n",
       "  </thead>\n",
       "  <tbody>\n",
       "    <tr>\n",
       "      <th>1455</th>\n",
       "      <td>12.072541</td>\n",
       "      <td>1</td>\n",
       "      <td>1</td>\n",
       "      <td>1</td>\n",
       "      <td>0</td>\n",
       "      <td>0</td>\n",
       "      <td>0</td>\n",
       "      <td>1</td>\n",
       "      <td>0</td>\n",
       "      <td>1</td>\n",
       "      <td>...</td>\n",
       "      <td>0</td>\n",
       "      <td>0</td>\n",
       "      <td>0</td>\n",
       "      <td>0</td>\n",
       "      <td>0</td>\n",
       "      <td>0</td>\n",
       "      <td>0</td>\n",
       "      <td>1</td>\n",
       "      <td>0</td>\n",
       "      <td>0</td>\n",
       "    </tr>\n",
       "    <tr>\n",
       "      <th>1456</th>\n",
       "      <td>12.254863</td>\n",
       "      <td>1</td>\n",
       "      <td>1</td>\n",
       "      <td>0</td>\n",
       "      <td>0</td>\n",
       "      <td>1</td>\n",
       "      <td>0</td>\n",
       "      <td>1</td>\n",
       "      <td>0</td>\n",
       "      <td>1</td>\n",
       "      <td>...</td>\n",
       "      <td>0</td>\n",
       "      <td>0</td>\n",
       "      <td>0</td>\n",
       "      <td>0</td>\n",
       "      <td>0</td>\n",
       "      <td>1</td>\n",
       "      <td>0</td>\n",
       "      <td>0</td>\n",
       "      <td>0</td>\n",
       "      <td>0</td>\n",
       "    </tr>\n",
       "    <tr>\n",
       "      <th>1457</th>\n",
       "      <td>12.493130</td>\n",
       "      <td>1</td>\n",
       "      <td>1</td>\n",
       "      <td>1</td>\n",
       "      <td>0</td>\n",
       "      <td>0</td>\n",
       "      <td>0</td>\n",
       "      <td>1</td>\n",
       "      <td>0</td>\n",
       "      <td>1</td>\n",
       "      <td>...</td>\n",
       "      <td>0</td>\n",
       "      <td>0</td>\n",
       "      <td>1</td>\n",
       "      <td>0</td>\n",
       "      <td>0</td>\n",
       "      <td>0</td>\n",
       "      <td>0</td>\n",
       "      <td>0</td>\n",
       "      <td>0</td>\n",
       "      <td>0</td>\n",
       "    </tr>\n",
       "    <tr>\n",
       "      <th>1458</th>\n",
       "      <td>11.864462</td>\n",
       "      <td>0</td>\n",
       "      <td>1</td>\n",
       "      <td>0</td>\n",
       "      <td>1</td>\n",
       "      <td>0</td>\n",
       "      <td>0</td>\n",
       "      <td>1</td>\n",
       "      <td>0</td>\n",
       "      <td>1</td>\n",
       "      <td>...</td>\n",
       "      <td>0</td>\n",
       "      <td>0</td>\n",
       "      <td>0</td>\n",
       "      <td>0</td>\n",
       "      <td>1</td>\n",
       "      <td>0</td>\n",
       "      <td>0</td>\n",
       "      <td>0</td>\n",
       "      <td>0</td>\n",
       "      <td>0</td>\n",
       "    </tr>\n",
       "    <tr>\n",
       "      <th>1459</th>\n",
       "      <td>11.901583</td>\n",
       "      <td>1</td>\n",
       "      <td>1</td>\n",
       "      <td>0</td>\n",
       "      <td>1</td>\n",
       "      <td>0</td>\n",
       "      <td>0</td>\n",
       "      <td>1</td>\n",
       "      <td>0</td>\n",
       "      <td>1</td>\n",
       "      <td>...</td>\n",
       "      <td>0</td>\n",
       "      <td>0</td>\n",
       "      <td>0</td>\n",
       "      <td>1</td>\n",
       "      <td>0</td>\n",
       "      <td>0</td>\n",
       "      <td>0</td>\n",
       "      <td>0</td>\n",
       "      <td>0</td>\n",
       "      <td>0</td>\n",
       "    </tr>\n",
       "  </tbody>\n",
       "</table>\n",
       "<p>5 rows × 40 columns</p>\n",
       "</div>"
      ],
      "text/plain": [
       "      SalePrice  Electrical_Y  CentralAir_Y  Heating_Ex  Heating_Gd  \\\n",
       "1455  12.072541             1             1           1           0   \n",
       "1456  12.254863             1             1           0           0   \n",
       "1457  12.493130             1             1           1           0   \n",
       "1458  11.864462             0             1           0           1   \n",
       "1459  11.901583             1             1           0           1   \n",
       "\n",
       "      Heating_TA  MSZoning_C  MSZoning_RL  MSZoning_RM/RH  BldgType_1Fam  ...  \\\n",
       "1455           0           0            1               0              1  ...   \n",
       "1456           1           0            1               0              1  ...   \n",
       "1457           0           0            1               0              1  ...   \n",
       "1458           0           0            1               0              1  ...   \n",
       "1459           0           0            1               0              1  ...   \n",
       "\n",
       "      Exterior_AsbShng  Exterior_BrkFace  Exterior_CemntBd  Exterior_HdBoard  \\\n",
       "1455                 0                 0                 0                 0   \n",
       "1456                 0                 0                 0                 0   \n",
       "1457                 0                 0                 1                 0   \n",
       "1458                 0                 0                 0                 0   \n",
       "1459                 0                 0                 0                 1   \n",
       "\n",
       "      Exterior_MetalSd  Exterior_Plywood  Exterior_Stucco  Exterior_VinylSd  \\\n",
       "1455                 0                 0                0                 1   \n",
       "1456                 0                 1                0                 0   \n",
       "1457                 0                 0                0                 0   \n",
       "1458                 1                 0                0                 0   \n",
       "1459                 0                 0                0                 0   \n",
       "\n",
       "      Exterior_Wd Sdng  Exterior_WdShing  \n",
       "1455                 0                 0  \n",
       "1456                 0                 0  \n",
       "1457                 0                 0  \n",
       "1458                 0                 0  \n",
       "1459                 0                 0  \n",
       "\n",
       "[5 rows x 40 columns]"
      ]
     },
     "execution_count": 133,
     "metadata": {},
     "output_type": "execute_result"
    }
   ],
   "source": [
    "cleaned_df.tail() "
   ]
  },
  {
   "cell_type": "code",
   "execution_count": 134,
   "metadata": {},
   "outputs": [],
   "source": [
    "strut = strut.drop(columns = 'Exterior2nd', axis = 1)"
   ]
  },
  {
   "cell_type": "markdown",
   "metadata": {},
   "source": [
    "# MasVnrType"
   ]
  },
  {
   "cell_type": "code",
   "execution_count": 135,
   "metadata": {},
   "outputs": [
    {
     "data": {
      "text/plain": [
       "<seaborn.axisgrid.FacetGrid at 0x1a1e278690>"
      ]
     },
     "execution_count": 135,
     "metadata": {},
     "output_type": "execute_result"
    },
    {
     "data": {
      "image/png": "[encoded data removed]",
      "text/plain": [
       "<Figure size 540x360 with 1 Axes>"
      ]
     },
     "metadata": {
      "needs_background": "light"
     },
     "output_type": "display_data"
    }
   ],
   "source": [
    "sns.catplot(x=\"MasVnrType\", y=\"SalePrice\", kind=\"box\", data=strut, height=5, aspect=1.5)"
   ]
  },
  {
   "cell_type": "code",
   "execution_count": 136,
   "metadata": {},
   "outputs": [
    {
     "data": {
      "text/plain": [
       "F_onewayResult(statistic=87.83452847070603, pvalue=6.536413785054571e-67)"
      ]
     },
     "execution_count": 136,
     "metadata": {},
     "output_type": "execute_result"
    }
   ],
   "source": [
    "stats.f_oneway(np.array(strut.SalePrice[strut.MasVnrType == 'BrkFace']),\\\n",
    "              np.array(strut.SalePrice[strut.MasVnrType == 'None']),\\\n",
    "               np.array(strut.SalePrice[strut.MasVnrType == 'Stone']),\\\n",
    "               np.array(strut.SalePrice[strut.MasVnrType == 'BrkCmn']),\\\n",
    "               np.array(strut.SalePrice[strut.MasVnrType == 'NA']),\\\n",
    "              )"
   ]
  },
  {
   "cell_type": "code",
   "execution_count": 137,
   "metadata": {},
   "outputs": [
    {
     "data": {
      "text/plain": [
       "F_onewayResult(statistic=11.23605991488885, pvalue=0.0008368296426384782)"
      ]
     },
     "execution_count": 137,
     "metadata": {},
     "output_type": "execute_result"
    }
   ],
   "source": [
    "stats.f_oneway(np.array(strut.SalePrice[strut.MasVnrType == 'NA']),\\\n",
    "              np.array(strut.SalePrice[strut.MasVnrType == 'None']))"
   ]
  },
  {
   "cell_type": "code",
   "execution_count": 138,
   "metadata": {},
   "outputs": [],
   "source": [
    "strut.loc[ strut.MasVnrType == 'NA', 'MasVnrType'] = 'None'"
   ]
  },
  {
   "cell_type": "code",
   "execution_count": 139,
   "metadata": {},
   "outputs": [
    {
     "data": {
      "text/plain": [
       "{'BrkCmn', 'BrkFace', 'None', 'Stone'}"
      ]
     },
     "execution_count": 139,
     "metadata": {},
     "output_type": "execute_result"
    }
   ],
   "source": [
    "set(strut.MasVnrType)"
   ]
  },
  {
   "cell_type": "code",
   "execution_count": 140,
   "metadata": {},
   "outputs": [
    {
     "data": {
      "text/html": [
       "<div>\n",
       "<style scoped>\n",
       "    .dataframe tbody tr th:only-of-type {\n",
       "        vertical-align: middle;\n",
       "    }\n",
       "\n",
       "    .dataframe tbody tr th {\n",
       "        vertical-align: top;\n",
       "    }\n",
       "\n",
       "    .dataframe thead th {\n",
       "        text-align: right;\n",
       "    }\n",
       "</style>\n",
       "<table border=\"1\" class=\"dataframe\">\n",
       "  <thead>\n",
       "    <tr style=\"text-align: right;\">\n",
       "      <th></th>\n",
       "      <th>SalePrice</th>\n",
       "      <th>Electrical_Y</th>\n",
       "      <th>CentralAir_Y</th>\n",
       "      <th>Heating_Ex</th>\n",
       "      <th>Heating_Gd</th>\n",
       "      <th>Heating_TA</th>\n",
       "      <th>MSZoning_C</th>\n",
       "      <th>MSZoning_RL</th>\n",
       "      <th>MSZoning_RM/RH</th>\n",
       "      <th>BldgType_1Fam</th>\n",
       "      <th>...</th>\n",
       "      <th>Exterior_HdBoard</th>\n",
       "      <th>Exterior_MetalSd</th>\n",
       "      <th>Exterior_Plywood</th>\n",
       "      <th>Exterior_Stucco</th>\n",
       "      <th>Exterior_VinylSd</th>\n",
       "      <th>Exterior_Wd Sdng</th>\n",
       "      <th>Exterior_WdShing</th>\n",
       "      <th>MasVnrType_BrkCmn</th>\n",
       "      <th>MasVnrType_BrkFace</th>\n",
       "      <th>MasVnrType_Stone</th>\n",
       "    </tr>\n",
       "  </thead>\n",
       "  <tbody>\n",
       "    <tr>\n",
       "      <th>1455</th>\n",
       "      <td>12.072541</td>\n",
       "      <td>1</td>\n",
       "      <td>1</td>\n",
       "      <td>1</td>\n",
       "      <td>0</td>\n",
       "      <td>0</td>\n",
       "      <td>0</td>\n",
       "      <td>1</td>\n",
       "      <td>0</td>\n",
       "      <td>1</td>\n",
       "      <td>...</td>\n",
       "      <td>0</td>\n",
       "      <td>0</td>\n",
       "      <td>0</td>\n",
       "      <td>0</td>\n",
       "      <td>1</td>\n",
       "      <td>0</td>\n",
       "      <td>0</td>\n",
       "      <td>0</td>\n",
       "      <td>0</td>\n",
       "      <td>0</td>\n",
       "    </tr>\n",
       "    <tr>\n",
       "      <th>1456</th>\n",
       "      <td>12.254863</td>\n",
       "      <td>1</td>\n",
       "      <td>1</td>\n",
       "      <td>0</td>\n",
       "      <td>0</td>\n",
       "      <td>1</td>\n",
       "      <td>0</td>\n",
       "      <td>1</td>\n",
       "      <td>0</td>\n",
       "      <td>1</td>\n",
       "      <td>...</td>\n",
       "      <td>0</td>\n",
       "      <td>0</td>\n",
       "      <td>1</td>\n",
       "      <td>0</td>\n",
       "      <td>0</td>\n",
       "      <td>0</td>\n",
       "      <td>0</td>\n",
       "      <td>0</td>\n",
       "      <td>0</td>\n",
       "      <td>1</td>\n",
       "    </tr>\n",
       "    <tr>\n",
       "      <th>1457</th>\n",
       "      <td>12.493130</td>\n",
       "      <td>1</td>\n",
       "      <td>1</td>\n",
       "      <td>1</td>\n",
       "      <td>0</td>\n",
       "      <td>0</td>\n",
       "      <td>0</td>\n",
       "      <td>1</td>\n",
       "      <td>0</td>\n",
       "      <td>1</td>\n",
       "      <td>...</td>\n",
       "      <td>0</td>\n",
       "      <td>0</td>\n",
       "      <td>0</td>\n",
       "      <td>0</td>\n",
       "      <td>0</td>\n",
       "      <td>0</td>\n",
       "      <td>0</td>\n",
       "      <td>0</td>\n",
       "      <td>0</td>\n",
       "      <td>0</td>\n",
       "    </tr>\n",
       "    <tr>\n",
       "      <th>1458</th>\n",
       "      <td>11.864462</td>\n",
       "      <td>0</td>\n",
       "      <td>1</td>\n",
       "      <td>0</td>\n",
       "      <td>1</td>\n",
       "      <td>0</td>\n",
       "      <td>0</td>\n",
       "      <td>1</td>\n",
       "      <td>0</td>\n",
       "      <td>1</td>\n",
       "      <td>...</td>\n",
       "      <td>0</td>\n",
       "      <td>1</td>\n",
       "      <td>0</td>\n",
       "      <td>0</td>\n",
       "      <td>0</td>\n",
       "      <td>0</td>\n",
       "      <td>0</td>\n",
       "      <td>0</td>\n",
       "      <td>0</td>\n",
       "      <td>0</td>\n",
       "    </tr>\n",
       "    <tr>\n",
       "      <th>1459</th>\n",
       "      <td>11.901583</td>\n",
       "      <td>1</td>\n",
       "      <td>1</td>\n",
       "      <td>0</td>\n",
       "      <td>1</td>\n",
       "      <td>0</td>\n",
       "      <td>0</td>\n",
       "      <td>1</td>\n",
       "      <td>0</td>\n",
       "      <td>1</td>\n",
       "      <td>...</td>\n",
       "      <td>1</td>\n",
       "      <td>0</td>\n",
       "      <td>0</td>\n",
       "      <td>0</td>\n",
       "      <td>0</td>\n",
       "      <td>0</td>\n",
       "      <td>0</td>\n",
       "      <td>0</td>\n",
       "      <td>0</td>\n",
       "      <td>0</td>\n",
       "    </tr>\n",
       "  </tbody>\n",
       "</table>\n",
       "<p>5 rows × 43 columns</p>\n",
       "</div>"
      ],
      "text/plain": [
       "      SalePrice  Electrical_Y  CentralAir_Y  Heating_Ex  Heating_Gd  \\\n",
       "1455  12.072541             1             1           1           0   \n",
       "1456  12.254863             1             1           0           0   \n",
       "1457  12.493130             1             1           1           0   \n",
       "1458  11.864462             0             1           0           1   \n",
       "1459  11.901583             1             1           0           1   \n",
       "\n",
       "      Heating_TA  MSZoning_C  MSZoning_RL  MSZoning_RM/RH  BldgType_1Fam  ...  \\\n",
       "1455           0           0            1               0              1  ...   \n",
       "1456           1           0            1               0              1  ...   \n",
       "1457           0           0            1               0              1  ...   \n",
       "1458           0           0            1               0              1  ...   \n",
       "1459           0           0            1               0              1  ...   \n",
       "\n",
       "      Exterior_HdBoard  Exterior_MetalSd  Exterior_Plywood  Exterior_Stucco  \\\n",
       "1455                 0                 0                 0                0   \n",
       "1456                 0                 0                 1                0   \n",
       "1457                 0                 0                 0                0   \n",
       "1458                 0                 1                 0                0   \n",
       "1459                 1                 0                 0                0   \n",
       "\n",
       "      Exterior_VinylSd  Exterior_Wd Sdng  Exterior_WdShing  MasVnrType_BrkCmn  \\\n",
       "1455                 1                 0                 0                  0   \n",
       "1456                 0                 0                 0                  0   \n",
       "1457                 0                 0                 0                  0   \n",
       "1458                 0                 0                 0                  0   \n",
       "1459                 0                 0                 0                  0   \n",
       "\n",
       "      MasVnrType_BrkFace  MasVnrType_Stone  \n",
       "1455                   0                 0  \n",
       "1456                   0                 1  \n",
       "1457                   0                 0  \n",
       "1458                   0                 0  \n",
       "1459                   0                 0  \n",
       "\n",
       "[5 rows x 43 columns]"
      ]
     },
     "execution_count": 140,
     "metadata": {},
     "output_type": "execute_result"
    }
   ],
   "source": [
    "MasVnrType = pd.get_dummies(strut['MasVnrType'], prefix='MasVnrType', prefix_sep='_')\n",
    "MasVnrType = MasVnrType.drop('MasVnrType_None', axis=1)\n",
    "MasVnrType.head()\n",
    "cleaned_df = pd.concat([cleaned_df, MasVnrType], axis=1)\n",
    "cleaned_df.tail() "
   ]
  },
  {
   "cell_type": "markdown",
   "metadata": {},
   "source": [
    "# MasVnrArea (drop)"
   ]
  },
  {
   "cell_type": "code",
   "execution_count": 141,
   "metadata": {},
   "outputs": [
    {
     "data": {
      "text/plain": [
       "<matplotlib.axes._subplots.AxesSubplot at 0x1a1e4c7690>"
      ]
     },
     "execution_count": 141,
     "metadata": {},
     "output_type": "execute_result"
    },
    {
     "data": {
      "image/png": "[encoded data removed]",
      "text/plain": [
       "<Figure size 432x288 with 1 Axes>"
      ]
     },
     "metadata": {
      "needs_background": "light"
     },
     "output_type": "display_data"
    }
   ],
   "source": [
    "sns.scatterplot(x = 'MasVnrArea', y = 'SalePrice', data = strut, size = 'SalePrice', y_jitter=True)"
   ]
  },
  {
   "cell_type": "code",
   "execution_count": 142,
   "metadata": {},
   "outputs": [
    {
     "data": {
      "text/html": [
       "<div>\n",
       "<style scoped>\n",
       "    .dataframe tbody tr th:only-of-type {\n",
       "        vertical-align: middle;\n",
       "    }\n",
       "\n",
       "    .dataframe tbody tr th {\n",
       "        vertical-align: top;\n",
       "    }\n",
       "\n",
       "    .dataframe thead th {\n",
       "        text-align: right;\n",
       "    }\n",
       "</style>\n",
       "<table border=\"1\" class=\"dataframe\">\n",
       "  <thead>\n",
       "    <tr style=\"text-align: right;\">\n",
       "      <th></th>\n",
       "      <th>MasVnrArea</th>\n",
       "      <th>SalePrice</th>\n",
       "    </tr>\n",
       "  </thead>\n",
       "  <tbody>\n",
       "    <tr>\n",
       "      <th>MasVnrArea</th>\n",
       "      <td>1.000000</td>\n",
       "      <td>0.426775</td>\n",
       "    </tr>\n",
       "    <tr>\n",
       "      <th>SalePrice</th>\n",
       "      <td>0.426775</td>\n",
       "      <td>1.000000</td>\n",
       "    </tr>\n",
       "  </tbody>\n",
       "</table>\n",
       "</div>"
      ],
      "text/plain": [
       "            MasVnrArea  SalePrice\n",
       "MasVnrArea    1.000000   0.426775\n",
       "SalePrice     0.426775   1.000000"
      ]
     },
     "execution_count": 142,
     "metadata": {},
     "output_type": "execute_result"
    }
   ],
   "source": [
    "strut[['MasVnrArea', 'SalePrice']].corr() # correlation is pretty weak. we can drop it?"
   ]
  },
  {
   "cell_type": "code",
   "execution_count": 143,
   "metadata": {},
   "outputs": [],
   "source": [
    "strut = strut.drop(columns = 'MasVnrArea', axis = 1)"
   ]
  },
  {
   "cell_type": "markdown",
   "metadata": {},
   "source": [
    "# ExterQual & ExterCond"
   ]
  },
  {
   "cell_type": "code",
   "execution_count": 144,
   "metadata": {},
   "outputs": [
    {
     "data": {
      "text/plain": [
       "<seaborn.axisgrid.FacetGrid at 0x1a1e6954d0>"
      ]
     },
     "execution_count": 144,
     "metadata": {},
     "output_type": "execute_result"
    },
    {
     "data": {
      "image/png": "[encoded data removed]",
      "text/plain": [
       "<Figure size 540x360 with 1 Axes>"
      ]
     },
     "metadata": {
      "needs_background": "light"
     },
     "output_type": "display_data"
    }
   ],
   "source": [
    "sns.catplot(x=\"ExterQual\", y=\"SalePrice\", kind=\"box\", data=strut, height=5, aspect=1.5)"
   ]
  },
  {
   "cell_type": "code",
   "execution_count": 145,
   "metadata": {
    "scrolled": false
   },
   "outputs": [
    {
     "data": {
      "text/plain": [
       "<seaborn.axisgrid.FacetGrid at 0x1a1e4faa50>"
      ]
     },
     "execution_count": 145,
     "metadata": {},
     "output_type": "execute_result"
    },
    {
     "data": {
      "image/png": "[encoded data removed]",
      "text/plain": [
       "<Figure size 540x360 with 1 Axes>"
      ]
     },
     "metadata": {
      "needs_background": "light"
     },
     "output_type": "display_data"
    }
   ],
   "source": [
    "sns.catplot(x=\"ExterCond\", y=\"SalePrice\", kind=\"box\", data=strut, height=5, aspect=1.5)"
   ]
  },
  {
   "cell_type": "code",
   "execution_count": 146,
   "metadata": {},
   "outputs": [
    {
     "data": {
      "text/plain": [
       "Index(['Id', 'SalePrice', 'YearBuilt', 'YearRemodAdd', 'MSZoning', 'BldgType',\n",
       "       'HouseStyle', 'OverallQual', 'OverallCond', 'RoofStyle', 'RoofMatl',\n",
       "       'Exterior1st', 'MasVnrType', 'ExterQual', 'ExterCond', 'Foundation',\n",
       "       'HeatingQC', 'CentralAir', 'Electrical'],\n",
       "      dtype='object')"
      ]
     },
     "execution_count": 146,
     "metadata": {},
     "output_type": "execute_result"
    }
   ],
   "source": [
    "strut.columns"
   ]
  },
  {
   "cell_type": "code",
   "execution_count": 147,
   "metadata": {},
   "outputs": [
    {
     "data": {
      "text/plain": [
       "F_onewayResult(statistic=2.4057020730406142, pvalue=0.09056763577842232)"
      ]
     },
     "execution_count": 147,
     "metadata": {},
     "output_type": "execute_result"
    }
   ],
   "source": [
    "stats.f_oneway(np.array(strut.SalePrice[strut.ExterCond == 'TA']),\\\n",
    "              np.array(strut.SalePrice[strut.ExterCond == 'Gd']),\\\n",
    "              np.array(strut.SalePrice[strut.ExterCond == 'Ex']))"
   ]
  },
  {
   "cell_type": "code",
   "execution_count": 148,
   "metadata": {},
   "outputs": [
    {
     "data": {
      "text/plain": [
       "F_onewayResult(statistic=0.22909507250420372, pvalue=0.6360489772689119)"
      ]
     },
     "execution_count": 148,
     "metadata": {},
     "output_type": "execute_result"
    }
   ],
   "source": [
    "stats.f_oneway(np.array(strut.SalePrice[strut.ExterCond == 'Fa']),\\\n",
    "              np.array(strut.SalePrice[strut.ExterCond == 'Po']))"
   ]
  },
  {
   "cell_type": "code",
   "execution_count": 149,
   "metadata": {},
   "outputs": [],
   "source": [
    "strut.loc[ strut.ExterCond == 'Po', 'ExterCond'] = 'Fa'"
   ]
  },
  {
   "cell_type": "code",
   "execution_count": 150,
   "metadata": {},
   "outputs": [],
   "source": [
    "strut.loc[ strut.ExterCond == 'TA', 'ExterCond'] = 'Gd'\n",
    "strut.loc[ strut.ExterCond == 'Ex', 'ExterCond'] = 'Gd'"
   ]
  },
  {
   "cell_type": "code",
   "execution_count": 151,
   "metadata": {},
   "outputs": [
    {
     "data": {
      "text/plain": [
       "{'Fa', 'Gd'}"
      ]
     },
     "execution_count": 151,
     "metadata": {},
     "output_type": "execute_result"
    }
   ],
   "source": [
    "set(strut.ExterCond )"
   ]
  },
  {
   "cell_type": "code",
   "execution_count": 152,
   "metadata": {},
   "outputs": [],
   "source": [
    "ExterQual = pd.get_dummies(strut['ExterQual'], prefix='ExterQual', prefix_sep='_')\n",
    "ExterQual = ExterQual.drop('ExterQual_Fa', axis=1)\n",
    "ExterQual.head()\n",
    "cleaned_df = pd.concat([cleaned_df, ExterQual], axis=1)"
   ]
  },
  {
   "cell_type": "code",
   "execution_count": 153,
   "metadata": {},
   "outputs": [
    {
     "data": {
      "text/html": [
       "<div>\n",
       "<style scoped>\n",
       "    .dataframe tbody tr th:only-of-type {\n",
       "        vertical-align: middle;\n",
       "    }\n",
       "\n",
       "    .dataframe tbody tr th {\n",
       "        vertical-align: top;\n",
       "    }\n",
       "\n",
       "    .dataframe thead th {\n",
       "        text-align: right;\n",
       "    }\n",
       "</style>\n",
       "<table border=\"1\" class=\"dataframe\">\n",
       "  <thead>\n",
       "    <tr style=\"text-align: right;\">\n",
       "      <th></th>\n",
       "      <th>SalePrice</th>\n",
       "      <th>Electrical_Y</th>\n",
       "      <th>CentralAir_Y</th>\n",
       "      <th>Heating_Ex</th>\n",
       "      <th>Heating_Gd</th>\n",
       "      <th>Heating_TA</th>\n",
       "      <th>MSZoning_C</th>\n",
       "      <th>MSZoning_RL</th>\n",
       "      <th>MSZoning_RM/RH</th>\n",
       "      <th>BldgType_1Fam</th>\n",
       "      <th>...</th>\n",
       "      <th>Exterior_Stucco</th>\n",
       "      <th>Exterior_VinylSd</th>\n",
       "      <th>Exterior_Wd Sdng</th>\n",
       "      <th>Exterior_WdShing</th>\n",
       "      <th>MasVnrType_BrkCmn</th>\n",
       "      <th>MasVnrType_BrkFace</th>\n",
       "      <th>MasVnrType_Stone</th>\n",
       "      <th>ExterQual_Ex</th>\n",
       "      <th>ExterQual_Gd</th>\n",
       "      <th>ExterQual_TA</th>\n",
       "    </tr>\n",
       "  </thead>\n",
       "  <tbody>\n",
       "    <tr>\n",
       "      <th>1455</th>\n",
       "      <td>12.072541</td>\n",
       "      <td>1</td>\n",
       "      <td>1</td>\n",
       "      <td>1</td>\n",
       "      <td>0</td>\n",
       "      <td>0</td>\n",
       "      <td>0</td>\n",
       "      <td>1</td>\n",
       "      <td>0</td>\n",
       "      <td>1</td>\n",
       "      <td>...</td>\n",
       "      <td>0</td>\n",
       "      <td>1</td>\n",
       "      <td>0</td>\n",
       "      <td>0</td>\n",
       "      <td>0</td>\n",
       "      <td>0</td>\n",
       "      <td>0</td>\n",
       "      <td>0</td>\n",
       "      <td>0</td>\n",
       "      <td>1</td>\n",
       "    </tr>\n",
       "    <tr>\n",
       "      <th>1456</th>\n",
       "      <td>12.254863</td>\n",
       "      <td>1</td>\n",
       "      <td>1</td>\n",
       "      <td>0</td>\n",
       "      <td>0</td>\n",
       "      <td>1</td>\n",
       "      <td>0</td>\n",
       "      <td>1</td>\n",
       "      <td>0</td>\n",
       "      <td>1</td>\n",
       "      <td>...</td>\n",
       "      <td>0</td>\n",
       "      <td>0</td>\n",
       "      <td>0</td>\n",
       "      <td>0</td>\n",
       "      <td>0</td>\n",
       "      <td>0</td>\n",
       "      <td>1</td>\n",
       "      <td>0</td>\n",
       "      <td>0</td>\n",
       "      <td>1</td>\n",
       "    </tr>\n",
       "    <tr>\n",
       "      <th>1457</th>\n",
       "      <td>12.493130</td>\n",
       "      <td>1</td>\n",
       "      <td>1</td>\n",
       "      <td>1</td>\n",
       "      <td>0</td>\n",
       "      <td>0</td>\n",
       "      <td>0</td>\n",
       "      <td>1</td>\n",
       "      <td>0</td>\n",
       "      <td>1</td>\n",
       "      <td>...</td>\n",
       "      <td>0</td>\n",
       "      <td>0</td>\n",
       "      <td>0</td>\n",
       "      <td>0</td>\n",
       "      <td>0</td>\n",
       "      <td>0</td>\n",
       "      <td>0</td>\n",
       "      <td>1</td>\n",
       "      <td>0</td>\n",
       "      <td>0</td>\n",
       "    </tr>\n",
       "    <tr>\n",
       "      <th>1458</th>\n",
       "      <td>11.864462</td>\n",
       "      <td>0</td>\n",
       "      <td>1</td>\n",
       "      <td>0</td>\n",
       "      <td>1</td>\n",
       "      <td>0</td>\n",
       "      <td>0</td>\n",
       "      <td>1</td>\n",
       "      <td>0</td>\n",
       "      <td>1</td>\n",
       "      <td>...</td>\n",
       "      <td>0</td>\n",
       "      <td>0</td>\n",
       "      <td>0</td>\n",
       "      <td>0</td>\n",
       "      <td>0</td>\n",
       "      <td>0</td>\n",
       "      <td>0</td>\n",
       "      <td>0</td>\n",
       "      <td>0</td>\n",
       "      <td>1</td>\n",
       "    </tr>\n",
       "    <tr>\n",
       "      <th>1459</th>\n",
       "      <td>11.901583</td>\n",
       "      <td>1</td>\n",
       "      <td>1</td>\n",
       "      <td>0</td>\n",
       "      <td>1</td>\n",
       "      <td>0</td>\n",
       "      <td>0</td>\n",
       "      <td>1</td>\n",
       "      <td>0</td>\n",
       "      <td>1</td>\n",
       "      <td>...</td>\n",
       "      <td>0</td>\n",
       "      <td>0</td>\n",
       "      <td>0</td>\n",
       "      <td>0</td>\n",
       "      <td>0</td>\n",
       "      <td>0</td>\n",
       "      <td>0</td>\n",
       "      <td>0</td>\n",
       "      <td>1</td>\n",
       "      <td>0</td>\n",
       "    </tr>\n",
       "  </tbody>\n",
       "</table>\n",
       "<p>5 rows × 46 columns</p>\n",
       "</div>"
      ],
      "text/plain": [
       "      SalePrice  Electrical_Y  CentralAir_Y  Heating_Ex  Heating_Gd  \\\n",
       "1455  12.072541             1             1           1           0   \n",
       "1456  12.254863             1             1           0           0   \n",
       "1457  12.493130             1             1           1           0   \n",
       "1458  11.864462             0             1           0           1   \n",
       "1459  11.901583             1             1           0           1   \n",
       "\n",
       "      Heating_TA  MSZoning_C  MSZoning_RL  MSZoning_RM/RH  BldgType_1Fam  ...  \\\n",
       "1455           0           0            1               0              1  ...   \n",
       "1456           1           0            1               0              1  ...   \n",
       "1457           0           0            1               0              1  ...   \n",
       "1458           0           0            1               0              1  ...   \n",
       "1459           0           0            1               0              1  ...   \n",
       "\n",
       "      Exterior_Stucco  Exterior_VinylSd  Exterior_Wd Sdng  Exterior_WdShing  \\\n",
       "1455                0                 1                 0                 0   \n",
       "1456                0                 0                 0                 0   \n",
       "1457                0                 0                 0                 0   \n",
       "1458                0                 0                 0                 0   \n",
       "1459                0                 0                 0                 0   \n",
       "\n",
       "      MasVnrType_BrkCmn  MasVnrType_BrkFace  MasVnrType_Stone  ExterQual_Ex  \\\n",
       "1455                  0                   0                 0             0   \n",
       "1456                  0                   0                 1             0   \n",
       "1457                  0                   0                 0             1   \n",
       "1458                  0                   0                 0             0   \n",
       "1459                  0                   0                 0             0   \n",
       "\n",
       "      ExterQual_Gd  ExterQual_TA  \n",
       "1455             0             1  \n",
       "1456             0             1  \n",
       "1457             0             0  \n",
       "1458             0             1  \n",
       "1459             1             0  \n",
       "\n",
       "[5 rows x 46 columns]"
      ]
     },
     "execution_count": 153,
     "metadata": {},
     "output_type": "execute_result"
    }
   ],
   "source": [
    "cleaned_df.tail() "
   ]
  },
  {
   "cell_type": "code",
   "execution_count": 154,
   "metadata": {},
   "outputs": [
    {
     "data": {
      "text/html": [
       "<div>\n",
       "<style scoped>\n",
       "    .dataframe tbody tr th:only-of-type {\n",
       "        vertical-align: middle;\n",
       "    }\n",
       "\n",
       "    .dataframe tbody tr th {\n",
       "        vertical-align: top;\n",
       "    }\n",
       "\n",
       "    .dataframe thead th {\n",
       "        text-align: right;\n",
       "    }\n",
       "</style>\n",
       "<table border=\"1\" class=\"dataframe\">\n",
       "  <thead>\n",
       "    <tr style=\"text-align: right;\">\n",
       "      <th></th>\n",
       "      <th>SalePrice</th>\n",
       "      <th>Electrical_Y</th>\n",
       "      <th>CentralAir_Y</th>\n",
       "      <th>Heating_Ex</th>\n",
       "      <th>Heating_Gd</th>\n",
       "      <th>Heating_TA</th>\n",
       "      <th>MSZoning_C</th>\n",
       "      <th>MSZoning_RL</th>\n",
       "      <th>MSZoning_RM/RH</th>\n",
       "      <th>BldgType_1Fam</th>\n",
       "      <th>...</th>\n",
       "      <th>Exterior_VinylSd</th>\n",
       "      <th>Exterior_Wd Sdng</th>\n",
       "      <th>Exterior_WdShing</th>\n",
       "      <th>MasVnrType_BrkCmn</th>\n",
       "      <th>MasVnrType_BrkFace</th>\n",
       "      <th>MasVnrType_Stone</th>\n",
       "      <th>ExterQual_Ex</th>\n",
       "      <th>ExterQual_Gd</th>\n",
       "      <th>ExterQual_TA</th>\n",
       "      <th>ExterCond_Gd</th>\n",
       "    </tr>\n",
       "  </thead>\n",
       "  <tbody>\n",
       "    <tr>\n",
       "      <th>0</th>\n",
       "      <td>12.247694</td>\n",
       "      <td>1</td>\n",
       "      <td>1</td>\n",
       "      <td>1</td>\n",
       "      <td>0</td>\n",
       "      <td>0</td>\n",
       "      <td>0</td>\n",
       "      <td>1</td>\n",
       "      <td>0</td>\n",
       "      <td>1</td>\n",
       "      <td>...</td>\n",
       "      <td>1</td>\n",
       "      <td>0</td>\n",
       "      <td>0</td>\n",
       "      <td>0</td>\n",
       "      <td>1</td>\n",
       "      <td>0</td>\n",
       "      <td>0</td>\n",
       "      <td>1</td>\n",
       "      <td>0</td>\n",
       "      <td>1</td>\n",
       "    </tr>\n",
       "    <tr>\n",
       "      <th>1</th>\n",
       "      <td>12.109011</td>\n",
       "      <td>1</td>\n",
       "      <td>1</td>\n",
       "      <td>1</td>\n",
       "      <td>0</td>\n",
       "      <td>0</td>\n",
       "      <td>0</td>\n",
       "      <td>1</td>\n",
       "      <td>0</td>\n",
       "      <td>1</td>\n",
       "      <td>...</td>\n",
       "      <td>0</td>\n",
       "      <td>0</td>\n",
       "      <td>0</td>\n",
       "      <td>0</td>\n",
       "      <td>0</td>\n",
       "      <td>0</td>\n",
       "      <td>0</td>\n",
       "      <td>0</td>\n",
       "      <td>1</td>\n",
       "      <td>1</td>\n",
       "    </tr>\n",
       "    <tr>\n",
       "      <th>2</th>\n",
       "      <td>12.317167</td>\n",
       "      <td>1</td>\n",
       "      <td>1</td>\n",
       "      <td>1</td>\n",
       "      <td>0</td>\n",
       "      <td>0</td>\n",
       "      <td>0</td>\n",
       "      <td>1</td>\n",
       "      <td>0</td>\n",
       "      <td>1</td>\n",
       "      <td>...</td>\n",
       "      <td>1</td>\n",
       "      <td>0</td>\n",
       "      <td>0</td>\n",
       "      <td>0</td>\n",
       "      <td>1</td>\n",
       "      <td>0</td>\n",
       "      <td>0</td>\n",
       "      <td>1</td>\n",
       "      <td>0</td>\n",
       "      <td>1</td>\n",
       "    </tr>\n",
       "    <tr>\n",
       "      <th>3</th>\n",
       "      <td>11.849398</td>\n",
       "      <td>1</td>\n",
       "      <td>1</td>\n",
       "      <td>0</td>\n",
       "      <td>1</td>\n",
       "      <td>0</td>\n",
       "      <td>0</td>\n",
       "      <td>1</td>\n",
       "      <td>0</td>\n",
       "      <td>1</td>\n",
       "      <td>...</td>\n",
       "      <td>0</td>\n",
       "      <td>1</td>\n",
       "      <td>0</td>\n",
       "      <td>0</td>\n",
       "      <td>0</td>\n",
       "      <td>0</td>\n",
       "      <td>0</td>\n",
       "      <td>0</td>\n",
       "      <td>1</td>\n",
       "      <td>1</td>\n",
       "    </tr>\n",
       "    <tr>\n",
       "      <th>4</th>\n",
       "      <td>12.429216</td>\n",
       "      <td>1</td>\n",
       "      <td>1</td>\n",
       "      <td>1</td>\n",
       "      <td>0</td>\n",
       "      <td>0</td>\n",
       "      <td>0</td>\n",
       "      <td>1</td>\n",
       "      <td>0</td>\n",
       "      <td>1</td>\n",
       "      <td>...</td>\n",
       "      <td>1</td>\n",
       "      <td>0</td>\n",
       "      <td>0</td>\n",
       "      <td>0</td>\n",
       "      <td>1</td>\n",
       "      <td>0</td>\n",
       "      <td>0</td>\n",
       "      <td>1</td>\n",
       "      <td>0</td>\n",
       "      <td>1</td>\n",
       "    </tr>\n",
       "  </tbody>\n",
       "</table>\n",
       "<p>5 rows × 47 columns</p>\n",
       "</div>"
      ],
      "text/plain": [
       "   SalePrice  Electrical_Y  CentralAir_Y  Heating_Ex  Heating_Gd  Heating_TA  \\\n",
       "0  12.247694             1             1           1           0           0   \n",
       "1  12.109011             1             1           1           0           0   \n",
       "2  12.317167             1             1           1           0           0   \n",
       "3  11.849398             1             1           0           1           0   \n",
       "4  12.429216             1             1           1           0           0   \n",
       "\n",
       "   MSZoning_C  MSZoning_RL  MSZoning_RM/RH  BldgType_1Fam  ...  \\\n",
       "0           0            1               0              1  ...   \n",
       "1           0            1               0              1  ...   \n",
       "2           0            1               0              1  ...   \n",
       "3           0            1               0              1  ...   \n",
       "4           0            1               0              1  ...   \n",
       "\n",
       "   Exterior_VinylSd  Exterior_Wd Sdng  Exterior_WdShing  MasVnrType_BrkCmn  \\\n",
       "0                 1                 0                 0                  0   \n",
       "1                 0                 0                 0                  0   \n",
       "2                 1                 0                 0                  0   \n",
       "3                 0                 1                 0                  0   \n",
       "4                 1                 0                 0                  0   \n",
       "\n",
       "   MasVnrType_BrkFace  MasVnrType_Stone  ExterQual_Ex  ExterQual_Gd  \\\n",
       "0                   1                 0             0             1   \n",
       "1                   0                 0             0             0   \n",
       "2                   1                 0             0             1   \n",
       "3                   0                 0             0             0   \n",
       "4                   1                 0             0             1   \n",
       "\n",
       "   ExterQual_TA  ExterCond_Gd  \n",
       "0             0             1  \n",
       "1             1             1  \n",
       "2             0             1  \n",
       "3             1             1  \n",
       "4             0             1  \n",
       "\n",
       "[5 rows x 47 columns]"
      ]
     },
     "execution_count": 154,
     "metadata": {},
     "output_type": "execute_result"
    }
   ],
   "source": [
    "ExterCond = pd.get_dummies(strut['ExterCond'], prefix='ExterCond', prefix_sep='_')\n",
    "ExterCond = ExterCond.drop('ExterCond_Fa', axis=1)\n",
    "ExterCond.head()\n",
    "cleaned_df = pd.concat([cleaned_df, ExterCond], axis=1)\n",
    "cleaned_df.head()"
   ]
  },
  {
   "cell_type": "markdown",
   "metadata": {},
   "source": [
    "# Foundation"
   ]
  },
  {
   "cell_type": "code",
   "execution_count": 155,
   "metadata": {},
   "outputs": [
    {
     "data": {
      "text/plain": [
       "<seaborn.axisgrid.FacetGrid at 0x1a1e75f0d0>"
      ]
     },
     "execution_count": 155,
     "metadata": {},
     "output_type": "execute_result"
    },
    {
     "data": {
      "image/png": "[encoded data removed]",
      "text/plain": [
       "<Figure size 540x360 with 1 Axes>"
      ]
     },
     "metadata": {
      "needs_background": "light"
     },
     "output_type": "display_data"
    }
   ],
   "source": [
    "sns.catplot(x=\"Foundation\", y=\"SalePrice\", kind=\"box\", data=strut, height=5, aspect=1.5)"
   ]
  },
  {
   "cell_type": "code",
   "execution_count": 156,
   "metadata": {},
   "outputs": [
    {
     "data": {
      "text/plain": [
       "F_onewayResult(statistic=126.80674789714745, pvalue=1.3506710541411921e-111)"
      ]
     },
     "execution_count": 156,
     "metadata": {},
     "output_type": "execute_result"
    }
   ],
   "source": [
    "# ANOVA on all categories\n",
    "stats.f_oneway(np.array(strut.SalePrice[strut.Foundation == 'BrkTil']),\\\n",
    "              np.array(strut.SalePrice[strut.Foundation == 'CBlock']),\\\n",
    "              np.array(strut.SalePrice[strut.Foundation == 'PConc']),\\\n",
    "              np.array(strut.SalePrice[strut.Foundation == 'Slab']),\\\n",
    "              np.array(strut.SalePrice[strut.Foundation == 'Stone']),\\\n",
    "              np.array(strut.SalePrice[strut.Foundation == 'Wood']))"
   ]
  },
  {
   "cell_type": "code",
   "execution_count": 157,
   "metadata": {},
   "outputs": [
    {
     "data": {
      "text/plain": [
       "F_onewayResult(statistic=0.3475665096873269, pvalue=0.5740211382851361)"
      ]
     },
     "execution_count": 157,
     "metadata": {},
     "output_type": "execute_result"
    }
   ],
   "source": [
    "stats.f_oneway(np.array(strut.SalePrice[strut.Foundation == 'Wood']),\\\n",
    "              np.array(strut.SalePrice[strut.Foundation == 'Stone']))"
   ]
  },
  {
   "cell_type": "code",
   "execution_count": 158,
   "metadata": {},
   "outputs": [],
   "source": [
    "strut.loc[ strut.Foundation == 'Wood', 'Foundation'] = 'Other'"
   ]
  },
  {
   "cell_type": "code",
   "execution_count": 159,
   "metadata": {},
   "outputs": [],
   "source": [
    "strut.loc[ strut.Foundation == 'Stone', 'Foundation'] = 'Other'"
   ]
  },
  {
   "cell_type": "code",
   "execution_count": 160,
   "metadata": {},
   "outputs": [
    {
     "data": {
      "text/plain": [
       "{'BrkTil', 'CBlock', 'Other', 'PConc', 'Slab'}"
      ]
     },
     "execution_count": 160,
     "metadata": {},
     "output_type": "execute_result"
    }
   ],
   "source": [
    "set(strut.Foundation)"
   ]
  },
  {
   "cell_type": "code",
   "execution_count": 161,
   "metadata": {},
   "outputs": [
    {
     "data": {
      "text/plain": [
       "F_onewayResult(statistic=11.051819185733285, pvalue=0.002285247209664355)"
      ]
     },
     "execution_count": 161,
     "metadata": {},
     "output_type": "execute_result"
    }
   ],
   "source": [
    "stats.f_oneway(np.array(strut.SalePrice[strut.Foundation == 'Slab']),\\\n",
    "              np.array(strut.SalePrice[strut.Foundation == 'Other']))"
   ]
  },
  {
   "cell_type": "code",
   "execution_count": 162,
   "metadata": {},
   "outputs": [
    {
     "data": {
      "text/plain": [
       "F_onewayResult(statistic=117.57129343858243, pvalue=2.3440346691014362e-63)"
      ]
     },
     "execution_count": 162,
     "metadata": {},
     "output_type": "execute_result"
    }
   ],
   "source": [
    "stats.f_oneway(np.array(strut.SalePrice[strut.Foundation == 'PConc']),\\\n",
    "              np.array(strut.SalePrice[strut.Foundation == 'Other']),\\\n",
    "              np.array(strut.SalePrice[strut.Foundation == 'BrkTil']),\\\n",
    "              np.array(strut.SalePrice[strut.Foundation == 'Slab']))"
   ]
  },
  {
   "cell_type": "code",
   "execution_count": 163,
   "metadata": {
    "scrolled": true
   },
   "outputs": [
    {
     "data": {
      "text/html": [
       "<div>\n",
       "<style scoped>\n",
       "    .dataframe tbody tr th:only-of-type {\n",
       "        vertical-align: middle;\n",
       "    }\n",
       "\n",
       "    .dataframe tbody tr th {\n",
       "        vertical-align: top;\n",
       "    }\n",
       "\n",
       "    .dataframe thead th {\n",
       "        text-align: right;\n",
       "    }\n",
       "</style>\n",
       "<table border=\"1\" class=\"dataframe\">\n",
       "  <thead>\n",
       "    <tr style=\"text-align: right;\">\n",
       "      <th></th>\n",
       "      <th>SalePrice</th>\n",
       "      <th>Electrical_Y</th>\n",
       "      <th>CentralAir_Y</th>\n",
       "      <th>Heating_Ex</th>\n",
       "      <th>Heating_Gd</th>\n",
       "      <th>Heating_TA</th>\n",
       "      <th>MSZoning_C</th>\n",
       "      <th>MSZoning_RL</th>\n",
       "      <th>MSZoning_RM/RH</th>\n",
       "      <th>BldgType_1Fam</th>\n",
       "      <th>...</th>\n",
       "      <th>MasVnrType_BrkFace</th>\n",
       "      <th>MasVnrType_Stone</th>\n",
       "      <th>ExterQual_Ex</th>\n",
       "      <th>ExterQual_Gd</th>\n",
       "      <th>ExterQual_TA</th>\n",
       "      <th>ExterCond_Gd</th>\n",
       "      <th>Foundation_BrkTil</th>\n",
       "      <th>Foundation_CBlock</th>\n",
       "      <th>Foundation_PConc</th>\n",
       "      <th>Foundation_Slab</th>\n",
       "    </tr>\n",
       "  </thead>\n",
       "  <tbody>\n",
       "    <tr>\n",
       "      <th>1455</th>\n",
       "      <td>12.072541</td>\n",
       "      <td>1</td>\n",
       "      <td>1</td>\n",
       "      <td>1</td>\n",
       "      <td>0</td>\n",
       "      <td>0</td>\n",
       "      <td>0</td>\n",
       "      <td>1</td>\n",
       "      <td>0</td>\n",
       "      <td>1</td>\n",
       "      <td>...</td>\n",
       "      <td>0</td>\n",
       "      <td>0</td>\n",
       "      <td>0</td>\n",
       "      <td>0</td>\n",
       "      <td>1</td>\n",
       "      <td>1</td>\n",
       "      <td>0</td>\n",
       "      <td>0</td>\n",
       "      <td>1</td>\n",
       "      <td>0</td>\n",
       "    </tr>\n",
       "    <tr>\n",
       "      <th>1456</th>\n",
       "      <td>12.254863</td>\n",
       "      <td>1</td>\n",
       "      <td>1</td>\n",
       "      <td>0</td>\n",
       "      <td>0</td>\n",
       "      <td>1</td>\n",
       "      <td>0</td>\n",
       "      <td>1</td>\n",
       "      <td>0</td>\n",
       "      <td>1</td>\n",
       "      <td>...</td>\n",
       "      <td>0</td>\n",
       "      <td>1</td>\n",
       "      <td>0</td>\n",
       "      <td>0</td>\n",
       "      <td>1</td>\n",
       "      <td>1</td>\n",
       "      <td>0</td>\n",
       "      <td>1</td>\n",
       "      <td>0</td>\n",
       "      <td>0</td>\n",
       "    </tr>\n",
       "    <tr>\n",
       "      <th>1457</th>\n",
       "      <td>12.493130</td>\n",
       "      <td>1</td>\n",
       "      <td>1</td>\n",
       "      <td>1</td>\n",
       "      <td>0</td>\n",
       "      <td>0</td>\n",
       "      <td>0</td>\n",
       "      <td>1</td>\n",
       "      <td>0</td>\n",
       "      <td>1</td>\n",
       "      <td>...</td>\n",
       "      <td>0</td>\n",
       "      <td>0</td>\n",
       "      <td>1</td>\n",
       "      <td>0</td>\n",
       "      <td>0</td>\n",
       "      <td>1</td>\n",
       "      <td>0</td>\n",
       "      <td>0</td>\n",
       "      <td>0</td>\n",
       "      <td>0</td>\n",
       "    </tr>\n",
       "    <tr>\n",
       "      <th>1458</th>\n",
       "      <td>11.864462</td>\n",
       "      <td>0</td>\n",
       "      <td>1</td>\n",
       "      <td>0</td>\n",
       "      <td>1</td>\n",
       "      <td>0</td>\n",
       "      <td>0</td>\n",
       "      <td>1</td>\n",
       "      <td>0</td>\n",
       "      <td>1</td>\n",
       "      <td>...</td>\n",
       "      <td>0</td>\n",
       "      <td>0</td>\n",
       "      <td>0</td>\n",
       "      <td>0</td>\n",
       "      <td>1</td>\n",
       "      <td>1</td>\n",
       "      <td>0</td>\n",
       "      <td>1</td>\n",
       "      <td>0</td>\n",
       "      <td>0</td>\n",
       "    </tr>\n",
       "    <tr>\n",
       "      <th>1459</th>\n",
       "      <td>11.901583</td>\n",
       "      <td>1</td>\n",
       "      <td>1</td>\n",
       "      <td>0</td>\n",
       "      <td>1</td>\n",
       "      <td>0</td>\n",
       "      <td>0</td>\n",
       "      <td>1</td>\n",
       "      <td>0</td>\n",
       "      <td>1</td>\n",
       "      <td>...</td>\n",
       "      <td>0</td>\n",
       "      <td>0</td>\n",
       "      <td>0</td>\n",
       "      <td>1</td>\n",
       "      <td>0</td>\n",
       "      <td>1</td>\n",
       "      <td>0</td>\n",
       "      <td>1</td>\n",
       "      <td>0</td>\n",
       "      <td>0</td>\n",
       "    </tr>\n",
       "  </tbody>\n",
       "</table>\n",
       "<p>5 rows × 51 columns</p>\n",
       "</div>"
      ],
      "text/plain": [
       "      SalePrice  Electrical_Y  CentralAir_Y  Heating_Ex  Heating_Gd  \\\n",
       "1455  12.072541             1             1           1           0   \n",
       "1456  12.254863             1             1           0           0   \n",
       "1457  12.493130             1             1           1           0   \n",
       "1458  11.864462             0             1           0           1   \n",
       "1459  11.901583             1             1           0           1   \n",
       "\n",
       "      Heating_TA  MSZoning_C  MSZoning_RL  MSZoning_RM/RH  BldgType_1Fam  ...  \\\n",
       "1455           0           0            1               0              1  ...   \n",
       "1456           1           0            1               0              1  ...   \n",
       "1457           0           0            1               0              1  ...   \n",
       "1458           0           0            1               0              1  ...   \n",
       "1459           0           0            1               0              1  ...   \n",
       "\n",
       "      MasVnrType_BrkFace  MasVnrType_Stone  ExterQual_Ex  ExterQual_Gd  \\\n",
       "1455                   0                 0             0             0   \n",
       "1456                   0                 1             0             0   \n",
       "1457                   0                 0             1             0   \n",
       "1458                   0                 0             0             0   \n",
       "1459                   0                 0             0             1   \n",
       "\n",
       "      ExterQual_TA  ExterCond_Gd  Foundation_BrkTil  Foundation_CBlock  \\\n",
       "1455             1             1                  0                  0   \n",
       "1456             1             1                  0                  1   \n",
       "1457             0             1                  0                  0   \n",
       "1458             1             1                  0                  1   \n",
       "1459             0             1                  0                  1   \n",
       "\n",
       "      Foundation_PConc  Foundation_Slab  \n",
       "1455                 1                0  \n",
       "1456                 0                0  \n",
       "1457                 0                0  \n",
       "1458                 0                0  \n",
       "1459                 0                0  \n",
       "\n",
       "[5 rows x 51 columns]"
      ]
     },
     "execution_count": 163,
     "metadata": {},
     "output_type": "execute_result"
    }
   ],
   "source": [
    "Foundation = pd.get_dummies(strut['Foundation'], prefix='Foundation', prefix_sep='_')\n",
    "Foundation = Foundation.drop('Foundation_Other', axis=1)\n",
    "Foundation.head()\n",
    "cleaned_df = pd.concat([cleaned_df, Foundation], axis=1)\n",
    "cleaned_df.tail() "
   ]
  },
  {
   "cell_type": "code",
   "execution_count": 164,
   "metadata": {},
   "outputs": [],
   "source": [
    "corr_mat  = pd.DataFrame(cleaned_df.corr().unstack().sort_values())\n",
    "corr_mat.columns = ['corr_']"
   ]
  },
  {
   "cell_type": "code",
   "execution_count": 165,
   "metadata": {},
   "outputs": [],
   "source": [
    "corr_mat = corr_mat.loc[corr_mat.corr_ != 1]"
   ]
  },
  {
   "cell_type": "code",
   "execution_count": 166,
   "metadata": {},
   "outputs": [
    {
     "data": {
      "text/html": [
       "<div>\n",
       "<style scoped>\n",
       "    .dataframe tbody tr th:only-of-type {\n",
       "        vertical-align: middle;\n",
       "    }\n",
       "\n",
       "    .dataframe tbody tr th {\n",
       "        vertical-align: top;\n",
       "    }\n",
       "\n",
       "    .dataframe thead th {\n",
       "        text-align: right;\n",
       "    }\n",
       "</style>\n",
       "<table border=\"1\" class=\"dataframe\">\n",
       "  <thead>\n",
       "    <tr style=\"text-align: right;\">\n",
       "      <th></th>\n",
       "      <th></th>\n",
       "      <th>corr_</th>\n",
       "    </tr>\n",
       "  </thead>\n",
       "  <tbody>\n",
       "    <tr>\n",
       "      <th>OverallCond_5</th>\n",
       "      <th>Foundation_PConc</th>\n",
       "      <td>0.500818</td>\n",
       "    </tr>\n",
       "    <tr>\n",
       "      <th>SalePrice</th>\n",
       "      <th>ExterQual_Gd</th>\n",
       "      <td>0.509675</td>\n",
       "    </tr>\n",
       "    <tr>\n",
       "      <th rowspan=\"4\" valign=\"top\">Foundation_PConc</th>\n",
       "      <th>SalePrice</th>\n",
       "      <td>0.530840</td>\n",
       "    </tr>\n",
       "    <tr>\n",
       "      <th>Heating_Ex</th>\n",
       "      <td>0.531246</td>\n",
       "    </tr>\n",
       "    <tr>\n",
       "      <th>Exterior_VinylSd</th>\n",
       "      <td>0.562049</td>\n",
       "    </tr>\n",
       "    <tr>\n",
       "      <th>ExterQual_Gd</th>\n",
       "      <td>0.586748</td>\n",
       "    </tr>\n",
       "  </tbody>\n",
       "</table>\n",
       "</div>"
      ],
      "text/plain": [
       "                                      corr_\n",
       "OverallCond_5    Foundation_PConc  0.500818\n",
       "SalePrice        ExterQual_Gd      0.509675\n",
       "Foundation_PConc SalePrice         0.530840\n",
       "                 Heating_Ex        0.531246\n",
       "                 Exterior_VinylSd  0.562049\n",
       "                 ExterQual_Gd      0.586748"
      ]
     },
     "execution_count": 166,
     "metadata": {},
     "output_type": "execute_result"
    }
   ],
   "source": [
    "corr_mat.loc[(corr_mat.corr_ > 0.5)].drop_duplicates()"
   ]
  },
  {
   "cell_type": "code",
   "execution_count": 167,
   "metadata": {},
   "outputs": [
    {
     "data": {
      "text/html": [
       "<div>\n",
       "<style scoped>\n",
       "    .dataframe tbody tr th:only-of-type {\n",
       "        vertical-align: middle;\n",
       "    }\n",
       "\n",
       "    .dataframe tbody tr th {\n",
       "        vertical-align: top;\n",
       "    }\n",
       "\n",
       "    .dataframe thead th {\n",
       "        text-align: right;\n",
       "    }\n",
       "</style>\n",
       "<table border=\"1\" class=\"dataframe\">\n",
       "  <thead>\n",
       "    <tr style=\"text-align: right;\">\n",
       "      <th></th>\n",
       "      <th></th>\n",
       "      <th>corr_</th>\n",
       "    </tr>\n",
       "  </thead>\n",
       "  <tbody>\n",
       "    <tr>\n",
       "      <th>RoofStyle_Hip</th>\n",
       "      <th>RoofStyle_Gable</th>\n",
       "      <td>-0.933462</td>\n",
       "    </tr>\n",
       "    <tr>\n",
       "      <th>ExterQual_Gd</th>\n",
       "      <th>ExterQual_TA</th>\n",
       "      <td>-0.906121</td>\n",
       "    </tr>\n",
       "    <tr>\n",
       "      <th>OverallCond_5</th>\n",
       "      <th>OverallCond_6</th>\n",
       "      <td>-0.881098</td>\n",
       "    </tr>\n",
       "    <tr>\n",
       "      <th>MSZoning_RL</th>\n",
       "      <th>MSZoning_RM/RH</th>\n",
       "      <td>-0.843182</td>\n",
       "    </tr>\n",
       "    <tr>\n",
       "      <th>Foundation_CBlock</th>\n",
       "      <th>Foundation_PConc</th>\n",
       "      <td>-0.781558</td>\n",
       "    </tr>\n",
       "    <tr>\n",
       "      <th>HouseStyle_2Story</th>\n",
       "      <th>HouseStyle_1Story</th>\n",
       "      <td>-0.658517</td>\n",
       "    </tr>\n",
       "    <tr>\n",
       "      <th>BldgType_1Fam</th>\n",
       "      <th>BldgType_TwnhsE</th>\n",
       "      <td>-0.656152</td>\n",
       "    </tr>\n",
       "    <tr>\n",
       "      <th>Heating_TA</th>\n",
       "      <th>Heating_Ex</th>\n",
       "      <td>-0.653773</td>\n",
       "    </tr>\n",
       "    <tr>\n",
       "      <th>ExterQual_TA</th>\n",
       "      <th>Foundation_PConc</th>\n",
       "      <td>-0.620836</td>\n",
       "    </tr>\n",
       "    <tr>\n",
       "      <th>SalePrice</th>\n",
       "      <th>ExterQual_TA</th>\n",
       "      <td>-0.595881</td>\n",
       "    </tr>\n",
       "    <tr>\n",
       "      <th>ExterQual_TA</th>\n",
       "      <th>Heating_Ex</th>\n",
       "      <td>-0.533117</td>\n",
       "    </tr>\n",
       "  </tbody>\n",
       "</table>\n",
       "</div>"
      ],
      "text/plain": [
       "                                        corr_\n",
       "RoofStyle_Hip     RoofStyle_Gable   -0.933462\n",
       "ExterQual_Gd      ExterQual_TA      -0.906121\n",
       "OverallCond_5     OverallCond_6     -0.881098\n",
       "MSZoning_RL       MSZoning_RM/RH    -0.843182\n",
       "Foundation_CBlock Foundation_PConc  -0.781558\n",
       "HouseStyle_2Story HouseStyle_1Story -0.658517\n",
       "BldgType_1Fam     BldgType_TwnhsE   -0.656152\n",
       "Heating_TA        Heating_Ex        -0.653773\n",
       "ExterQual_TA      Foundation_PConc  -0.620836\n",
       "SalePrice         ExterQual_TA      -0.595881\n",
       "ExterQual_TA      Heating_Ex        -0.533117"
      ]
     },
     "execution_count": 167,
     "metadata": {},
     "output_type": "execute_result"
    }
   ],
   "source": [
    "corr_mat.loc[(corr_mat.corr_ < -0.5)].drop_duplicates()"
   ]
  },
  {
   "cell_type": "code",
   "execution_count": 168,
   "metadata": {},
   "outputs": [
    {
     "data": {
      "text/html": [
       "<div>\n",
       "<style scoped>\n",
       "    .dataframe tbody tr th:only-of-type {\n",
       "        vertical-align: middle;\n",
       "    }\n",
       "\n",
       "    .dataframe tbody tr th {\n",
       "        vertical-align: top;\n",
       "    }\n",
       "\n",
       "    .dataframe thead th {\n",
       "        text-align: right;\n",
       "    }\n",
       "</style>\n",
       "<table border=\"1\" class=\"dataframe\">\n",
       "  <thead>\n",
       "    <tr style=\"text-align: right;\">\n",
       "      <th></th>\n",
       "      <th></th>\n",
       "      <th>corr_</th>\n",
       "    </tr>\n",
       "  </thead>\n",
       "  <tbody>\n",
       "    <tr>\n",
       "      <th>RoofStyle_Hip</th>\n",
       "      <th>RoofStyle_Gable</th>\n",
       "      <td>-0.933462</td>\n",
       "    </tr>\n",
       "    <tr>\n",
       "      <th>ExterQual_Gd</th>\n",
       "      <th>ExterQual_TA</th>\n",
       "      <td>-0.906121</td>\n",
       "    </tr>\n",
       "    <tr>\n",
       "      <th>OverallCond_5</th>\n",
       "      <th>OverallCond_6</th>\n",
       "      <td>-0.881098</td>\n",
       "    </tr>\n",
       "    <tr>\n",
       "      <th>MSZoning_RL</th>\n",
       "      <th>MSZoning_RM/RH</th>\n",
       "      <td>-0.843182</td>\n",
       "    </tr>\n",
       "    <tr>\n",
       "      <th>Foundation_CBlock</th>\n",
       "      <th>Foundation_PConc</th>\n",
       "      <td>-0.781558</td>\n",
       "    </tr>\n",
       "    <tr>\n",
       "      <th>...</th>\n",
       "      <th>...</th>\n",
       "      <td>...</td>\n",
       "    </tr>\n",
       "    <tr>\n",
       "      <th>SalePrice</th>\n",
       "      <th>ExterQual_Gd</th>\n",
       "      <td>0.509675</td>\n",
       "    </tr>\n",
       "    <tr>\n",
       "      <th rowspan=\"4\" valign=\"top\">Foundation_PConc</th>\n",
       "      <th>SalePrice</th>\n",
       "      <td>0.530840</td>\n",
       "    </tr>\n",
       "    <tr>\n",
       "      <th>Heating_Ex</th>\n",
       "      <td>0.531246</td>\n",
       "    </tr>\n",
       "    <tr>\n",
       "      <th>Exterior_VinylSd</th>\n",
       "      <td>0.562049</td>\n",
       "    </tr>\n",
       "    <tr>\n",
       "      <th>ExterQual_Gd</th>\n",
       "      <td>0.586748</td>\n",
       "    </tr>\n",
       "  </tbody>\n",
       "</table>\n",
       "<p>1275 rows × 1 columns</p>\n",
       "</div>"
      ],
      "text/plain": [
       "                                       corr_\n",
       "RoofStyle_Hip     RoofStyle_Gable  -0.933462\n",
       "ExterQual_Gd      ExterQual_TA     -0.906121\n",
       "OverallCond_5     OverallCond_6    -0.881098\n",
       "MSZoning_RL       MSZoning_RM/RH   -0.843182\n",
       "Foundation_CBlock Foundation_PConc -0.781558\n",
       "...                                      ...\n",
       "SalePrice         ExterQual_Gd      0.509675\n",
       "Foundation_PConc  SalePrice         0.530840\n",
       "                  Heating_Ex        0.531246\n",
       "                  Exterior_VinylSd  0.562049\n",
       "                  ExterQual_Gd      0.586748\n",
       "\n",
       "[1275 rows x 1 columns]"
      ]
     },
     "execution_count": 168,
     "metadata": {},
     "output_type": "execute_result"
    }
   ],
   "source": [
    "corr_mat.loc[(corr_mat.corr_ > -0.5) | (corr_mat.corr_ < 0.5)].drop_duplicates()"
   ]
  },
  {
   "cell_type": "code",
   "execution_count": 169,
   "metadata": {},
   "outputs": [
    {
     "data": {
      "text/plain": [
       "Index(['SalePrice', 'Electrical_Y', 'CentralAir_Y', 'Heating_Ex', 'Heating_Gd',\n",
       "       'Heating_TA', 'MSZoning_C', 'MSZoning_RL', 'MSZoning_RM/RH',\n",
       "       'BldgType_1Fam', 'BldgType_TwnhsE', 'HouseStyle_1.5Fin',\n",
       "       'HouseStyle_1.5Unf', 'HouseStyle_1Story', 'HouseStyle_2Story',\n",
       "       'HouseStyle_Other', 'OverallQual_3', 'OverallQual_4', 'OverallQual_5',\n",
       "       'OverallQual_6', 'OverallQual_7', 'OverallQual_8', 'OverallQual_9',\n",
       "       'OverallQual_10', 'OverallCond_4', 'OverallCond_5', 'OverallCond_6',\n",
       "       'RoofStyle_Gable', 'RoofStyle_Hip', 'RoofMatl_WdShngl',\n",
       "       'Exterior_AsbShng', 'Exterior_BrkFace', 'Exterior_CemntBd',\n",
       "       'Exterior_HdBoard', 'Exterior_MetalSd', 'Exterior_Plywood',\n",
       "       'Exterior_Stucco', 'Exterior_VinylSd', 'Exterior_Wd Sdng',\n",
       "       'Exterior_WdShing', 'MasVnrType_BrkCmn', 'MasVnrType_BrkFace',\n",
       "       'MasVnrType_Stone', 'ExterQual_Ex', 'ExterQual_Gd', 'ExterQual_TA',\n",
       "       'ExterCond_Gd', 'Foundation_BrkTil', 'Foundation_CBlock',\n",
       "       'Foundation_PConc', 'Foundation_Slab'],\n",
       "      dtype='object')"
      ]
     },
     "execution_count": 169,
     "metadata": {},
     "output_type": "execute_result"
    }
   ],
   "source": [
    "cleaned_df.columns"
   ]
  },
  {
   "cell_type": "code",
   "execution_count": 170,
   "metadata": {
    "scrolled": true
   },
   "outputs": [
    {
     "data": {
      "text/html": [
       "<div>\n",
       "<style scoped>\n",
       "    .dataframe tbody tr th:only-of-type {\n",
       "        vertical-align: middle;\n",
       "    }\n",
       "\n",
       "    .dataframe tbody tr th {\n",
       "        vertical-align: top;\n",
       "    }\n",
       "\n",
       "    .dataframe thead th {\n",
       "        text-align: right;\n",
       "    }\n",
       "</style>\n",
       "<table border=\"1\" class=\"dataframe\">\n",
       "  <thead>\n",
       "    <tr style=\"text-align: right;\">\n",
       "      <th></th>\n",
       "      <th>Electrical_Y</th>\n",
       "      <th>CentralAir_Y</th>\n",
       "      <th>Heating_Ex</th>\n",
       "      <th>Heating_Gd</th>\n",
       "      <th>Heating_TA</th>\n",
       "      <th>MSZoning_C</th>\n",
       "      <th>MSZoning_RL</th>\n",
       "      <th>MSZoning_RM/RH</th>\n",
       "      <th>BldgType_1Fam</th>\n",
       "      <th>BldgType_TwnhsE</th>\n",
       "      <th>...</th>\n",
       "      <th>MasVnrType_BrkFace</th>\n",
       "      <th>MasVnrType_Stone</th>\n",
       "      <th>ExterQual_Ex</th>\n",
       "      <th>ExterQual_Gd</th>\n",
       "      <th>ExterQual_TA</th>\n",
       "      <th>ExterCond_Gd</th>\n",
       "      <th>Foundation_BrkTil</th>\n",
       "      <th>Foundation_CBlock</th>\n",
       "      <th>Foundation_PConc</th>\n",
       "      <th>Foundation_Slab</th>\n",
       "    </tr>\n",
       "  </thead>\n",
       "  <tbody>\n",
       "    <tr>\n",
       "      <th>0</th>\n",
       "      <td>1</td>\n",
       "      <td>1</td>\n",
       "      <td>1</td>\n",
       "      <td>0</td>\n",
       "      <td>0</td>\n",
       "      <td>0</td>\n",
       "      <td>1</td>\n",
       "      <td>0</td>\n",
       "      <td>1</td>\n",
       "      <td>0</td>\n",
       "      <td>...</td>\n",
       "      <td>1</td>\n",
       "      <td>0</td>\n",
       "      <td>0</td>\n",
       "      <td>1</td>\n",
       "      <td>0</td>\n",
       "      <td>1</td>\n",
       "      <td>0</td>\n",
       "      <td>0</td>\n",
       "      <td>1</td>\n",
       "      <td>0</td>\n",
       "    </tr>\n",
       "    <tr>\n",
       "      <th>1</th>\n",
       "      <td>1</td>\n",
       "      <td>1</td>\n",
       "      <td>1</td>\n",
       "      <td>0</td>\n",
       "      <td>0</td>\n",
       "      <td>0</td>\n",
       "      <td>1</td>\n",
       "      <td>0</td>\n",
       "      <td>1</td>\n",
       "      <td>0</td>\n",
       "      <td>...</td>\n",
       "      <td>0</td>\n",
       "      <td>0</td>\n",
       "      <td>0</td>\n",
       "      <td>0</td>\n",
       "      <td>1</td>\n",
       "      <td>1</td>\n",
       "      <td>0</td>\n",
       "      <td>1</td>\n",
       "      <td>0</td>\n",
       "      <td>0</td>\n",
       "    </tr>\n",
       "    <tr>\n",
       "      <th>2</th>\n",
       "      <td>1</td>\n",
       "      <td>1</td>\n",
       "      <td>1</td>\n",
       "      <td>0</td>\n",
       "      <td>0</td>\n",
       "      <td>0</td>\n",
       "      <td>1</td>\n",
       "      <td>0</td>\n",
       "      <td>1</td>\n",
       "      <td>0</td>\n",
       "      <td>...</td>\n",
       "      <td>1</td>\n",
       "      <td>0</td>\n",
       "      <td>0</td>\n",
       "      <td>1</td>\n",
       "      <td>0</td>\n",
       "      <td>1</td>\n",
       "      <td>0</td>\n",
       "      <td>0</td>\n",
       "      <td>1</td>\n",
       "      <td>0</td>\n",
       "    </tr>\n",
       "    <tr>\n",
       "      <th>3</th>\n",
       "      <td>1</td>\n",
       "      <td>1</td>\n",
       "      <td>0</td>\n",
       "      <td>1</td>\n",
       "      <td>0</td>\n",
       "      <td>0</td>\n",
       "      <td>1</td>\n",
       "      <td>0</td>\n",
       "      <td>1</td>\n",
       "      <td>0</td>\n",
       "      <td>...</td>\n",
       "      <td>0</td>\n",
       "      <td>0</td>\n",
       "      <td>0</td>\n",
       "      <td>0</td>\n",
       "      <td>1</td>\n",
       "      <td>1</td>\n",
       "      <td>1</td>\n",
       "      <td>0</td>\n",
       "      <td>0</td>\n",
       "      <td>0</td>\n",
       "    </tr>\n",
       "    <tr>\n",
       "      <th>4</th>\n",
       "      <td>1</td>\n",
       "      <td>1</td>\n",
       "      <td>1</td>\n",
       "      <td>0</td>\n",
       "      <td>0</td>\n",
       "      <td>0</td>\n",
       "      <td>1</td>\n",
       "      <td>0</td>\n",
       "      <td>1</td>\n",
       "      <td>0</td>\n",
       "      <td>...</td>\n",
       "      <td>1</td>\n",
       "      <td>0</td>\n",
       "      <td>0</td>\n",
       "      <td>1</td>\n",
       "      <td>0</td>\n",
       "      <td>1</td>\n",
       "      <td>0</td>\n",
       "      <td>0</td>\n",
       "      <td>1</td>\n",
       "      <td>0</td>\n",
       "    </tr>\n",
       "  </tbody>\n",
       "</table>\n",
       "<p>5 rows × 50 columns</p>\n",
       "</div>"
      ],
      "text/plain": [
       "   Electrical_Y  CentralAir_Y  Heating_Ex  Heating_Gd  Heating_TA  MSZoning_C  \\\n",
       "0             1             1           1           0           0           0   \n",
       "1             1             1           1           0           0           0   \n",
       "2             1             1           1           0           0           0   \n",
       "3             1             1           0           1           0           0   \n",
       "4             1             1           1           0           0           0   \n",
       "\n",
       "   MSZoning_RL  MSZoning_RM/RH  BldgType_1Fam  BldgType_TwnhsE  ...  \\\n",
       "0            1               0              1                0  ...   \n",
       "1            1               0              1                0  ...   \n",
       "2            1               0              1                0  ...   \n",
       "3            1               0              1                0  ...   \n",
       "4            1               0              1                0  ...   \n",
       "\n",
       "   MasVnrType_BrkFace  MasVnrType_Stone  ExterQual_Ex  ExterQual_Gd  \\\n",
       "0                   1                 0             0             1   \n",
       "1                   0                 0             0             0   \n",
       "2                   1                 0             0             1   \n",
       "3                   0                 0             0             0   \n",
       "4                   1                 0             0             1   \n",
       "\n",
       "   ExterQual_TA  ExterCond_Gd  Foundation_BrkTil  Foundation_CBlock  \\\n",
       "0             0             1                  0                  0   \n",
       "1             1             1                  0                  1   \n",
       "2             0             1                  0                  0   \n",
       "3             1             1                  1                  0   \n",
       "4             0             1                  0                  0   \n",
       "\n",
       "   Foundation_PConc  Foundation_Slab  \n",
       "0                 1                0  \n",
       "1                 0                0  \n",
       "2                 1                0  \n",
       "3                 0                0  \n",
       "4                 1                0  \n",
       "\n",
       "[5 rows x 50 columns]"
      ]
     },
     "execution_count": 170,
     "metadata": {},
     "output_type": "execute_result"
    }
   ],
   "source": [
    "new_df = cleaned_df.drop(columns = 'SalePrice', axis = 1)\n",
    "new_df.head()"
   ]
  },
  {
   "cell_type": "code",
   "execution_count": 171,
   "metadata": {},
   "outputs": [],
   "source": [
    "new_df['YearBuilt'] = df.YearBuilt\n",
    "new_df['Id'] = df.Id"
   ]
  },
  {
   "cell_type": "code",
   "execution_count": 172,
   "metadata": {},
   "outputs": [
    {
     "data": {
      "text/plain": [
       "Index(['Electrical_Y', 'CentralAir_Y', 'Heating_Ex', 'Heating_Gd',\n",
       "       'Heating_TA', 'MSZoning_C', 'MSZoning_RL', 'MSZoning_RM/RH',\n",
       "       'BldgType_1Fam', 'BldgType_TwnhsE', 'HouseStyle_1.5Fin',\n",
       "       'HouseStyle_1.5Unf', 'HouseStyle_1Story', 'HouseStyle_2Story',\n",
       "       'HouseStyle_Other', 'OverallQual_3', 'OverallQual_4', 'OverallQual_5',\n",
       "       'OverallQual_6', 'OverallQual_7', 'OverallQual_8', 'OverallQual_9',\n",
       "       'OverallQual_10', 'OverallCond_4', 'OverallCond_5', 'OverallCond_6',\n",
       "       'RoofStyle_Gable', 'RoofStyle_Hip', 'RoofMatl_WdShngl',\n",
       "       'Exterior_AsbShng', 'Exterior_BrkFace', 'Exterior_CemntBd',\n",
       "       'Exterior_HdBoard', 'Exterior_MetalSd', 'Exterior_Plywood',\n",
       "       'Exterior_Stucco', 'Exterior_VinylSd', 'Exterior_Wd Sdng',\n",
       "       'Exterior_WdShing', 'MasVnrType_BrkCmn', 'MasVnrType_BrkFace',\n",
       "       'MasVnrType_Stone', 'ExterQual_Ex', 'ExterQual_Gd', 'ExterQual_TA',\n",
       "       'ExterCond_Gd', 'Foundation_BrkTil', 'Foundation_CBlock',\n",
       "       'Foundation_PConc', 'Foundation_Slab', 'YearBuilt', 'Id'],\n",
       "      dtype='object')"
      ]
     },
     "execution_count": 172,
     "metadata": {},
     "output_type": "execute_result"
    }
   ],
   "source": [
    "new_df.columns"
   ]
  },
  {
   "cell_type": "code",
   "execution_count": 173,
   "metadata": {},
   "outputs": [],
   "source": [
    "new_df.to_csv('House_Stucture_ Utilities_EDA', header = True, index = False)"
   ]
  },
  {
   "cell_type": "code",
   "execution_count": null,
   "metadata": {},
   "outputs": [],
   "source": []
  }
 ],
 "metadata": {
  "kernelspec": {
   "display_name": "Python 3",
   "language": "python",
   "name": "python3"
  },
  "language_info": {
   "codemirror_mode": {
    "name": "ipython",
    "version": 3
   },
   "file_extension": ".py",
   "mimetype": "text/x-python",
   "name": "python",
   "nbconvert_exporter": "python",
   "pygments_lexer": "ipython3",
   "version": "3.7.6"
  }
 },
 "nbformat": 4,
 "nbformat_minor": 4
}
